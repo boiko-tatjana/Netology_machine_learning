{
 "cells": [
  {
   "cell_type": "code",
   "execution_count": 1,
   "metadata": {},
   "outputs": [],
   "source": [
    "import pandas as pd\n",
    "import numpy as np\n",
    "from scipy.spatial.distance import cityblock, cosine, euclidean, hamming,jaccard, rogerstanimoto, correlation\n",
    "from tqdm import notebook"
   ]
  },
  {
   "cell_type": "code",
   "execution_count": 2,
   "metadata": {},
   "outputs": [],
   "source": [
    "movies = pd.read_csv('movies.dat', sep='::',\n",
    "                     header=None, names=['movie_id', 'movie_title', 'genres'],\n",
    "                     engine='python')"
   ]
  },
  {
   "cell_type": "code",
   "execution_count": 3,
   "metadata": {},
   "outputs": [],
   "source": [
    "ratings = pd.read_csv('ratings.dat', sep='::',\n",
    "                      names=['user_id', 'movie_id', 'rating', 'rating_timestamp'],\n",
    "                      engine='python'\n",
    "                      ).sort_values(\"rating_timestamp\")"
   ]
  },
  {
   "cell_type": "code",
   "execution_count": 4,
   "metadata": {},
   "outputs": [],
   "source": [
    "movies_with_ratings = movies.join(ratings.set_index('movie_id'), on = 'movie_id')"
   ]
  },
  {
   "cell_type": "code",
   "execution_count": 5,
   "metadata": {},
   "outputs": [],
   "source": [
    "movies_with_ratings.dropna(inplace = True)"
   ]
  },
  {
   "cell_type": "code",
   "execution_count": 6,
   "metadata": {},
   "outputs": [
    {
     "data": {
      "text/html": [
       "<div>\n",
       "<style scoped>\n",
       "    .dataframe tbody tr th:only-of-type {\n",
       "        vertical-align: middle;\n",
       "    }\n",
       "\n",
       "    .dataframe tbody tr th {\n",
       "        vertical-align: top;\n",
       "    }\n",
       "\n",
       "    .dataframe thead th {\n",
       "        text-align: right;\n",
       "    }\n",
       "</style>\n",
       "<table border=\"1\" class=\"dataframe\">\n",
       "  <thead>\n",
       "    <tr style=\"text-align: right;\">\n",
       "      <th></th>\n",
       "      <th>movie_id</th>\n",
       "      <th>movie_title</th>\n",
       "      <th>genres</th>\n",
       "      <th>user_id</th>\n",
       "      <th>rating</th>\n",
       "      <th>rating_timestamp</th>\n",
       "    </tr>\n",
       "  </thead>\n",
       "  <tbody>\n",
       "    <tr>\n",
       "      <th>0</th>\n",
       "      <td>1</td>\n",
       "      <td>Toy Story (1995)</td>\n",
       "      <td>Animation|Children's|Comedy</td>\n",
       "      <td>6035.0</td>\n",
       "      <td>4.0</td>\n",
       "      <td>956712849.0</td>\n",
       "    </tr>\n",
       "    <tr>\n",
       "      <th>0</th>\n",
       "      <td>1</td>\n",
       "      <td>Toy Story (1995)</td>\n",
       "      <td>Animation|Children's|Comedy</td>\n",
       "      <td>6032.0</td>\n",
       "      <td>4.0</td>\n",
       "      <td>956718127.0</td>\n",
       "    </tr>\n",
       "    <tr>\n",
       "      <th>0</th>\n",
       "      <td>1</td>\n",
       "      <td>Toy Story (1995)</td>\n",
       "      <td>Animation|Children's|Comedy</td>\n",
       "      <td>6022.0</td>\n",
       "      <td>5.0</td>\n",
       "      <td>956755763.0</td>\n",
       "    </tr>\n",
       "    <tr>\n",
       "      <th>0</th>\n",
       "      <td>1</td>\n",
       "      <td>Toy Story (1995)</td>\n",
       "      <td>Animation|Children's|Comedy</td>\n",
       "      <td>6021.0</td>\n",
       "      <td>3.0</td>\n",
       "      <td>956757147.0</td>\n",
       "    </tr>\n",
       "    <tr>\n",
       "      <th>0</th>\n",
       "      <td>1</td>\n",
       "      <td>Toy Story (1995)</td>\n",
       "      <td>Animation|Children's|Comedy</td>\n",
       "      <td>6016.0</td>\n",
       "      <td>4.0</td>\n",
       "      <td>956778750.0</td>\n",
       "    </tr>\n",
       "  </tbody>\n",
       "</table>\n",
       "</div>"
      ],
      "text/plain": [
       "   movie_id       movie_title                       genres  user_id  rating  \\\n",
       "0         1  Toy Story (1995)  Animation|Children's|Comedy   6035.0     4.0   \n",
       "0         1  Toy Story (1995)  Animation|Children's|Comedy   6032.0     4.0   \n",
       "0         1  Toy Story (1995)  Animation|Children's|Comedy   6022.0     5.0   \n",
       "0         1  Toy Story (1995)  Animation|Children's|Comedy   6021.0     3.0   \n",
       "0         1  Toy Story (1995)  Animation|Children's|Comedy   6016.0     4.0   \n",
       "\n",
       "   rating_timestamp  \n",
       "0       956712849.0  \n",
       "0       956718127.0  \n",
       "0       956755763.0  \n",
       "0       956757147.0  \n",
       "0       956778750.0  "
      ]
     },
     "execution_count": 6,
     "metadata": {},
     "output_type": "execute_result"
    }
   ],
   "source": [
    "movies_with_ratings.head()"
   ]
  },
  {
   "cell_type": "code",
   "execution_count": 7,
   "metadata": {},
   "outputs": [
    {
     "data": {
      "text/plain": [
       "(1000209, 6)"
      ]
     },
     "execution_count": 7,
     "metadata": {},
     "output_type": "execute_result"
    }
   ],
   "source": [
    "movies_with_ratings.shape"
   ]
  },
  {
   "cell_type": "code",
   "execution_count": 8,
   "metadata": {},
   "outputs": [],
   "source": [
    "num_users = movies_with_ratings.user_id.unique().shape[0]\n",
    "num_films = movies_with_ratings.movie_id.unique().shape[0]"
   ]
  },
  {
   "cell_type": "code",
   "execution_count": 9,
   "metadata": {},
   "outputs": [
    {
     "data": {
      "text/plain": [
       "3706"
      ]
     },
     "execution_count": 9,
     "metadata": {},
     "output_type": "execute_result"
    }
   ],
   "source": [
    "num_films"
   ]
  },
  {
   "cell_type": "code",
   "execution_count": 10,
   "metadata": {},
   "outputs": [
    {
     "data": {
      "text/plain": [
       "6040"
      ]
     },
     "execution_count": 10,
     "metadata": {},
     "output_type": "execute_result"
    }
   ],
   "source": [
    "num_users"
   ]
  },
  {
   "cell_type": "code",
   "execution_count": 11,
   "metadata": {},
   "outputs": [
    {
     "data": {
      "application/vnd.jupyter.widget-view+json": {
       "model_id": "9ed251b671be44a4a5441ee0d0a06466",
       "version_major": 2,
       "version_minor": 0
      },
      "text/plain": [
       "HBox(children=(FloatProgress(value=0.0, max=3706.0), HTML(value='')))"
      ]
     },
     "metadata": {},
     "output_type": "display_data"
    },
    {
     "name": "stdout",
     "output_type": "stream",
     "text": [
      "\n"
     ]
    }
   ],
   "source": [
    "movie_vector = {}\n",
    "for movie, group in notebook.tqdm(movies_with_ratings.groupby('movie_title')):\n",
    "    movie_vector[movie] = np.zeros(num_users)\n",
    "    \n",
    "    for i in range(len(group.user_id.values)):\n",
    "        u = group.user_id.values[i]\n",
    "        r = group.rating.values[i]\n",
    "        movie_vector[movie][int(u - 1)] = r"
   ]
  },
  {
   "cell_type": "code",
   "execution_count": 12,
   "metadata": {},
   "outputs": [
    {
     "data": {
      "text/plain": [
       "array([5., 0., 0., ..., 0., 0., 3.])"
      ]
     },
     "execution_count": 12,
     "metadata": {},
     "output_type": "execute_result"
    }
   ],
   "source": [
    "movie_vector['Toy Story (1995)']"
   ]
  },
  {
   "cell_type": "code",
   "execution_count": 13,
   "metadata": {},
   "outputs": [],
   "source": [
    "# Реализуем item-to-item коллаборативную фильтрацию\n",
    "def get_nearest_films(film_title):\n",
    "    my_fav_film = film_title\n",
    "\n",
    "    titles = []\n",
    "    distances = []\n",
    "\n",
    "    for key in movie_vector.keys():\n",
    "        if key == my_fav_film:\n",
    "            continue\n",
    "\n",
    "        titles.append(key)\n",
    "        distances.append(correlation(movie_vector[my_fav_film], movie_vector[key]))\n",
    "\n",
    "    best_indexes = np.argsort(distances)[:5]\n",
    "    best_movies = [(titles[i], distances[i]) for i in best_indexes]\n",
    "    \n",
    "    return best_movies"
   ]
  },
  {
   "cell_type": "code",
   "execution_count": 14,
   "metadata": {},
   "outputs": [
    {
     "data": {
      "text/plain": [
       "[('Toy Story 2 (1999)', 0.5126295237641594),\n",
       " ('Aladdin (1992)', 0.529247098927986),\n",
       " ('Lion King, The (1994)', 0.588868815603533),\n",
       " ('Groundhog Day (1993)', 0.5924534982676297),\n",
       " (\"Bug's Life, A (1998)\", 0.5973209833454718)]"
      ]
     },
     "execution_count": 14,
     "metadata": {},
     "output_type": "execute_result"
    }
   ],
   "source": [
    "get_nearest_films('Toy Story (1995)')"
   ]
  },
  {
   "cell_type": "code",
   "execution_count": 15,
   "metadata": {},
   "outputs": [],
   "source": [
    "# Функция для получения фильмов, которые пользователь посмотрел недавно,\n",
    "# и эти фильмы пользователю понравились. Рассматриваются 20 последних просмотренных фильмов\n",
    "# и из них выбираются 5 фильмов с наивысшей оценкой пользователя\n",
    "def get_favourite_recent_user_movies(user_id):\n",
    "    current_user_id = user_id\n",
    "    user_movies = movies_with_ratings[movies_with_ratings.user_id == current_user_id]\n",
    "    recent_user_movies = user_movies.sort_values(by = \"rating_timestamp\").tail(20)\n",
    "    favourite_recent_user_movies = recent_user_movies.sort_values(by = \"rating\").tail(5)\n",
    "    return favourite_recent_user_movies"
   ]
  },
  {
   "cell_type": "code",
   "execution_count": 16,
   "metadata": {},
   "outputs": [],
   "source": [
    "favourite_recent_for_user_6016 = get_favourite_recent_user_movies(6016)"
   ]
  },
  {
   "cell_type": "code",
   "execution_count": 17,
   "metadata": {},
   "outputs": [
    {
     "data": {
      "text/html": [
       "<div>\n",
       "<style scoped>\n",
       "    .dataframe tbody tr th:only-of-type {\n",
       "        vertical-align: middle;\n",
       "    }\n",
       "\n",
       "    .dataframe tbody tr th {\n",
       "        vertical-align: top;\n",
       "    }\n",
       "\n",
       "    .dataframe thead th {\n",
       "        text-align: right;\n",
       "    }\n",
       "</style>\n",
       "<table border=\"1\" class=\"dataframe\">\n",
       "  <thead>\n",
       "    <tr style=\"text-align: right;\">\n",
       "      <th></th>\n",
       "      <th>movie_id</th>\n",
       "      <th>movie_title</th>\n",
       "      <th>genres</th>\n",
       "      <th>user_id</th>\n",
       "      <th>rating</th>\n",
       "      <th>rating_timestamp</th>\n",
       "    </tr>\n",
       "  </thead>\n",
       "  <tbody>\n",
       "    <tr>\n",
       "      <th>3566</th>\n",
       "      <td>3635</td>\n",
       "      <td>Spy Who Loved Me, The (1977)</td>\n",
       "      <td>Action</td>\n",
       "      <td>6016.0</td>\n",
       "      <td>3.0</td>\n",
       "      <td>995664198.0</td>\n",
       "    </tr>\n",
       "    <tr>\n",
       "      <th>3694</th>\n",
       "      <td>3763</td>\n",
       "      <td>F/X (1986)</td>\n",
       "      <td>Action|Crime|Thriller</td>\n",
       "      <td>6016.0</td>\n",
       "      <td>3.0</td>\n",
       "      <td>995664198.0</td>\n",
       "    </tr>\n",
       "    <tr>\n",
       "      <th>1072</th>\n",
       "      <td>1088</td>\n",
       "      <td>Dirty Dancing (1987)</td>\n",
       "      <td>Musical|Romance</td>\n",
       "      <td>6016.0</td>\n",
       "      <td>3.0</td>\n",
       "      <td>994455257.0</td>\n",
       "    </tr>\n",
       "    <tr>\n",
       "      <th>3459</th>\n",
       "      <td>3528</td>\n",
       "      <td>Prince of Tides, The (1991)</td>\n",
       "      <td>Drama|Romance</td>\n",
       "      <td>6016.0</td>\n",
       "      <td>3.0</td>\n",
       "      <td>994455301.0</td>\n",
       "    </tr>\n",
       "    <tr>\n",
       "      <th>2806</th>\n",
       "      <td>2875</td>\n",
       "      <td>Sommersby (1993)</td>\n",
       "      <td>Drama|Mystery|Romance</td>\n",
       "      <td>6016.0</td>\n",
       "      <td>4.0</td>\n",
       "      <td>994455257.0</td>\n",
       "    </tr>\n",
       "  </tbody>\n",
       "</table>\n",
       "</div>"
      ],
      "text/plain": [
       "      movie_id                   movie_title                 genres  user_id  \\\n",
       "3566      3635  Spy Who Loved Me, The (1977)                 Action   6016.0   \n",
       "3694      3763                    F/X (1986)  Action|Crime|Thriller   6016.0   \n",
       "1072      1088          Dirty Dancing (1987)        Musical|Romance   6016.0   \n",
       "3459      3528   Prince of Tides, The (1991)          Drama|Romance   6016.0   \n",
       "2806      2875              Sommersby (1993)  Drama|Mystery|Romance   6016.0   \n",
       "\n",
       "      rating  rating_timestamp  \n",
       "3566     3.0       995664198.0  \n",
       "3694     3.0       995664198.0  \n",
       "1072     3.0       994455257.0  \n",
       "3459     3.0       994455301.0  \n",
       "2806     4.0       994455257.0  "
      ]
     },
     "execution_count": 17,
     "metadata": {},
     "output_type": "execute_result"
    }
   ],
   "source": [
    "favourite_recent_for_user_6016"
   ]
  },
  {
   "cell_type": "code",
   "execution_count": 18,
   "metadata": {},
   "outputs": [],
   "source": [
    "# В данной функции выбираются 5 последних просмотренных пользователей фильмов, которые пользователю понравились.\n",
    "# Для каждого фильма находятся 5 ближайших фильмов по оценкам пользователей. Получившиеся 25 фильмов сортируются\n",
    "# по расстоянию и выбираются 5 фильмов из 25 с наименьшим значением расстояния.\n",
    "# В данном случае для построения гибридной системы используется стратегия смешивания.\n",
    "def recommend_for_user(user_id):\n",
    "    current_user_id = user_id\n",
    "    favourite_recent_user_movies = get_favourite_recent_user_movies(current_user_id)\n",
    "    \n",
    "    recommended_films = []\n",
    "    for movie in favourite_recent_user_movies.movie_title:\n",
    "        nearest_films = get_nearest_films(movie)\n",
    "        recommended_films = recommended_films + nearest_films\n",
    "\n",
    "    titles = []\n",
    "    distances = []\n",
    "    \n",
    "    user_movies = movies_with_ratings[movies_with_ratings.user_id == current_user_id]\n",
    "    \n",
    "    for recommended_films_item in recommended_films:\n",
    "        titles.append(recommended_films_item[0])\n",
    "        distances.append(recommended_films_item[1])\n",
    "        \n",
    "    best_indexes = np.argsort(distances)[:5]\n",
    "    best_movies = [(titles[i], distances[i]) for i in best_indexes]\n",
    "        \n",
    "    return  best_movies"
   ]
  },
  {
   "cell_type": "code",
   "execution_count": 19,
   "metadata": {},
   "outputs": [],
   "source": [
    "recommend_for_user_6016 = recommend_for_user(6016)"
   ]
  },
  {
   "cell_type": "code",
   "execution_count": 20,
   "metadata": {},
   "outputs": [
    {
     "data": {
      "text/plain": [
       "[('Man with the Golden Gun, The (1974)', 0.3415665180135836),\n",
       " ('Live and Let Die (1973)', 0.4400176646537637),\n",
       " ('For Your Eyes Only (1981)', 0.4584431948281512),\n",
       " ('Dr. No (1962)', 0.48150853504834923),\n",
       " (\"On Her Majesty's Secret Service (1969)\", 0.4824363948655366)]"
      ]
     },
     "execution_count": 20,
     "metadata": {},
     "output_type": "execute_result"
    }
   ],
   "source": [
    "recommend_for_user_6016"
   ]
  }
 ],
 "metadata": {
  "kernelspec": {
   "display_name": "Python 3",
   "language": "python",
   "name": "python3"
  },
  "language_info": {
   "codemirror_mode": {
    "name": "ipython",
    "version": 3
   },
   "file_extension": ".py",
   "mimetype": "text/x-python",
   "name": "python",
   "nbconvert_exporter": "python",
   "pygments_lexer": "ipython3",
   "version": "3.7.6"
  }
 },
 "nbformat": 4,
 "nbformat_minor": 4
}
