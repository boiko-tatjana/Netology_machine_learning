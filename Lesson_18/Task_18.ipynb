{
 "cells": [
  {
   "cell_type": "code",
   "execution_count": 45,
   "metadata": {},
   "outputs": [],
   "source": [
    "%matplotlib inline\n",
    "import cv2\n",
    "import pandas as pd\n",
    "import numpy as np\n",
    "import matplotlib.pyplot as plt\n",
    "from sklearn.model_selection import train_test_split\n",
    "from sklearn.tree import DecisionTreeClassifier\n",
    "from sklearn.metrics import classification_report, f1_score\n",
    "from sklearn.decomposition import PCA\n",
    "from sklearn import metrics\n",
    "from tqdm import tqdm"
   ]
  },
  {
   "cell_type": "code",
   "execution_count": 2,
   "metadata": {},
   "outputs": [],
   "source": [
    "train = np.loadtxt('./data/digit/train.csv', delimiter=',', skiprows=1)\n",
    "test = np.loadtxt('./data/digit/test.csv', delimiter=',', skiprows=1)"
   ]
  },
  {
   "cell_type": "code",
   "execution_count": 3,
   "metadata": {},
   "outputs": [
    {
     "data": {
      "text/plain": [
       "(42000, 785)"
      ]
     },
     "execution_count": 3,
     "metadata": {},
     "output_type": "execute_result"
    }
   ],
   "source": [
    "train.shape"
   ]
  },
  {
   "cell_type": "code",
   "execution_count": 4,
   "metadata": {},
   "outputs": [
    {
     "data": {
      "text/plain": [
       "(28000, 784)"
      ]
     },
     "execution_count": 4,
     "metadata": {},
     "output_type": "execute_result"
    }
   ],
   "source": [
    "test.shape"
   ]
  },
  {
   "cell_type": "code",
   "execution_count": 5,
   "metadata": {},
   "outputs": [],
   "source": [
    "# сохраняем разметку в отдельную переменную\n",
    "train_label = train[:, 0]\n",
    "# приводим размерность к удобному для обаботки виду\n",
    "train_img = np.resize(train[:, 1:], (train.shape[0], 28, 28))\n",
    "test_img = np.resize(test, (test.shape[0], 28, 28))"
   ]
  },
  {
   "cell_type": "code",
   "execution_count": 6,
   "metadata": {},
   "outputs": [
    {
     "data": {
      "text/plain": [
       "(42000, 28, 28)"
      ]
     },
     "execution_count": 6,
     "metadata": {},
     "output_type": "execute_result"
    }
   ],
   "source": [
    "train_img.shape"
   ]
  },
  {
   "cell_type": "markdown",
   "metadata": {},
   "source": [
    "## Визуализируем исходные данные"
   ]
  },
  {
   "cell_type": "code",
   "execution_count": 7,
   "metadata": {},
   "outputs": [
    {
     "data": {
      "image/png": "[encoded data removed]",
      "text/plain": [
       "<Figure size 1440x720 with 5 Axes>"
      ]
     },
     "metadata": {
      "needs_background": "light"
     },
     "output_type": "display_data"
    }
   ],
   "source": [
    "fig = plt.figure(figsize=(20, 10))\n",
    "for i, img in enumerate(train_img[0:5], 1):\n",
    "    subplot = fig.add_subplot(1, 5, i)\n",
    "    plt.imshow(img, cmap='gray');\n",
    "    subplot.set_title('%s' % train_label[i - 1]);"
   ]
  },
  {
   "cell_type": "markdown",
   "metadata": {},
   "source": [
    "Сначала попробуем обойтись вообще без метода главных компонент. Для этого преобразуем исходные изображения, так чтобы из матрицы размером 28x28 они стали вектор-столбцом 784x1."
   ]
  },
  {
   "cell_type": "code",
   "execution_count": 8,
   "metadata": {},
   "outputs": [],
   "source": [
    "train_val_all_pc = train[:, 1:]"
   ]
  },
  {
   "cell_type": "code",
   "execution_count": 9,
   "metadata": {},
   "outputs": [
    {
     "data": {
      "text/plain": [
       "(42000, 784)"
      ]
     },
     "execution_count": 9,
     "metadata": {},
     "output_type": "execute_result"
    }
   ],
   "source": [
    "train_val_all_pc.shape"
   ]
  },
  {
   "cell_type": "markdown",
   "metadata": {},
   "source": [
    "## Разбиваем выборку на обучение и валидацию"
   ]
  },
  {
   "cell_type": "code",
   "execution_count": 10,
   "metadata": {},
   "outputs": [],
   "source": [
    "y_train, y_val, x_train, x_val = train_test_split(\n",
    "    train_label, train_val_all_pc, test_size = 0.2,\n",
    "    random_state = 1000)"
   ]
  },
  {
   "cell_type": "code",
   "execution_count": 11,
   "metadata": {},
   "outputs": [
    {
     "data": {
      "text/plain": [
       "(33600, 784)"
      ]
     },
     "execution_count": 11,
     "metadata": {},
     "output_type": "execute_result"
    }
   ],
   "source": [
    "x_train.shape"
   ]
  },
  {
   "cell_type": "code",
   "execution_count": 12,
   "metadata": {},
   "outputs": [],
   "source": [
    "## Создаём дерево решений ..."
   ]
  },
  {
   "cell_type": "code",
   "execution_count": 13,
   "metadata": {},
   "outputs": [],
   "source": [
    "tree = DecisionTreeClassifier()"
   ]
  },
  {
   "cell_type": "code",
   "execution_count": 14,
   "metadata": {},
   "outputs": [
    {
     "data": {
      "text/plain": [
       "DecisionTreeClassifier()"
      ]
     },
     "execution_count": 14,
     "metadata": {},
     "output_type": "execute_result"
    }
   ],
   "source": [
    "tree.fit(x_train, y_train)"
   ]
  },
  {
   "cell_type": "code",
   "execution_count": 15,
   "metadata": {},
   "outputs": [
    {
     "name": "stdout",
     "output_type": "stream",
     "text": [
      "              precision    recall  f1-score   support\n",
      "\n",
      "         0.0       0.92      0.92      0.92       787\n",
      "         1.0       0.92      0.96      0.94       931\n",
      "         2.0       0.84      0.83      0.83       880\n",
      "         3.0       0.81      0.83      0.82       868\n",
      "         4.0       0.85      0.86      0.86       822\n",
      "         5.0       0.81      0.79      0.80       755\n",
      "         6.0       0.90      0.88      0.89       832\n",
      "         7.0       0.88      0.89      0.89       860\n",
      "         8.0       0.83      0.79      0.81       814\n",
      "         9.0       0.82      0.82      0.82       851\n",
      "\n",
      "    accuracy                           0.86      8400\n",
      "   macro avg       0.86      0.86      0.86      8400\n",
      "weighted avg       0.86      0.86      0.86      8400\n",
      "\n",
      "0.8573839829478314\n"
     ]
    }
   ],
   "source": [
    "# ... и оцениваем точность классификации\n",
    "model_pred = tree.predict(x_val)\n",
    "report = classification_report(y_val, model_pred)\n",
    "f1 = f1_score(y_val, model_pred, average = 'macro')\n",
    "print(classification_report(y_val, model_pred))\n",
    "print(f1)"
   ]
  },
  {
   "cell_type": "code",
   "execution_count": 16,
   "metadata": {},
   "outputs": [
    {
     "name": "stdout",
     "output_type": "stream",
     "text": [
      "Confusion matrix:\n",
      "[[723   1  12   6   4  16  12   1   8   4]\n",
      " [  0 896   7   8   6   2   4   3   4   1]\n",
      " [ 11  18 729  31  12   9   7  26  22  15]\n",
      " [  8   7  29 720  10  37   4  15  22  16]\n",
      " [  3   9   9   5 711   6  10   8  11  50]\n",
      " [  8   9  17  41  14 596  19  12  20  19]\n",
      " [ 15   4  11   7  16  22 735   4  14   4]\n",
      " [  7   6  21  17  10   8   1 763   7  20]\n",
      " [  7  22  20  26  20  24  19   6 645  25]\n",
      " [  4   6  16  25  32  20   2  26  25 695]]\n"
     ]
    },
    {
     "data": {
      "image/png": "[encoded data removed]",
      "text/plain": [
       "<Figure size 432x288 with 2 Axes>"
      ]
     },
     "metadata": {
      "needs_background": "light"
     },
     "output_type": "display_data"
    }
   ],
   "source": [
    "disp = metrics.plot_confusion_matrix(tree, x_val, y_val)\n",
    "disp.figure_.suptitle(\"Confusion Matrix\")\n",
    "print(f\"Confusion matrix:\\n{disp.confusion_matrix}\")\n",
    "plt.show()"
   ]
  },
  {
   "cell_type": "code",
   "execution_count": 17,
   "metadata": {},
   "outputs": [],
   "source": [
    "X = x_train.astype(np.float32)"
   ]
  },
  {
   "cell_type": "code",
   "execution_count": 18,
   "metadata": {},
   "outputs": [],
   "source": [
    "# центрируем данные\n",
    "X_mean = X.mean(axis=0)\n",
    "X -= X_mean"
   ]
  },
  {
   "cell_type": "code",
   "execution_count": 19,
   "metadata": {},
   "outputs": [],
   "source": [
    "# матрица ковариации признаков\n",
    "cov = np.dot(X.T, X) / X.shape[0]"
   ]
  },
  {
   "cell_type": "markdown",
   "metadata": {},
   "source": [
    "## Собственные числа"
   ]
  },
  {
   "cell_type": "code",
   "execution_count": 20,
   "metadata": {},
   "outputs": [],
   "source": [
    "U, S, _ = np.linalg.svd(cov)\n",
    "# U - собсвенные вектора матрицы ковариации\n",
    "# S - собственные значения"
   ]
  },
  {
   "cell_type": "code",
   "execution_count": 21,
   "metadata": {},
   "outputs": [
    {
     "data": {
      "text/plain": [
       "[<matplotlib.lines.Line2D at 0x19046d01b08>]"
      ]
     },
     "execution_count": 21,
     "metadata": {},
     "output_type": "execute_result"
    },
    {
     "data": {
      "image/png": "[encoded data removed]",
      "text/plain": [
       "<Figure size 432x288 with 1 Axes>"
      ]
     },
     "metadata": {
      "needs_background": "light"
     },
     "output_type": "display_data"
    }
   ],
   "source": [
    "# накопленная сумма собственных значений\n",
    "S_cumsum = np.cumsum(S) / np.sum(S)\n",
    "plt.plot(S_cumsum, '-r')"
   ]
  },
  {
   "cell_type": "code",
   "execution_count": 22,
   "metadata": {},
   "outputs": [
    {
     "name": "stdout",
     "output_type": "stream",
     "text": [
      "[290] 0.985\n",
      "[291] 0.985\n",
      "[292] 0.985\n",
      "[293] 0.986\n",
      "[294] 0.986\n",
      "[295] 0.986\n",
      "[296] 0.986\n",
      "[297] 0.986\n",
      "[298] 0.986\n",
      "[299] 0.986\n",
      "[300] 0.986\n",
      "[301] 0.987\n",
      "[302] 0.987\n",
      "[303] 0.987\n",
      "[304] 0.987\n",
      "[305] 0.987\n",
      "[306] 0.987\n",
      "[307] 0.987\n",
      "[308] 0.988\n",
      "[309] 0.988\n"
     ]
    }
   ],
   "source": [
    "for i in range(290, 310):\n",
    "    print('[%03d] %.3f' % (i, S_cumsum[i]))"
   ]
  },
  {
   "cell_type": "markdown",
   "metadata": {},
   "source": [
    "## Понижаем размерность"
   ]
  },
  {
   "cell_type": "code",
   "execution_count": 23,
   "metadata": {},
   "outputs": [],
   "source": [
    "# При использовании 300 главных компонент накопленная сумма собственных значений превышает 0,98\n",
    "# Попробуем установить количество компонент равным 300\n",
    "n_comp = 300"
   ]
  },
  {
   "cell_type": "code",
   "execution_count": 24,
   "metadata": {},
   "outputs": [],
   "source": [
    "# получаем сжатое представление объектов\n",
    "Xrot_reduced = np.dot(X, U[:, :n_comp])"
   ]
  },
  {
   "cell_type": "code",
   "execution_count": 25,
   "metadata": {},
   "outputs": [
    {
     "data": {
      "text/plain": [
       "(33600, 300)"
      ]
     },
     "execution_count": 25,
     "metadata": {},
     "output_type": "execute_result"
    }
   ],
   "source": [
    "Xrot_reduced.shape"
   ]
  },
  {
   "cell_type": "code",
   "execution_count": 26,
   "metadata": {},
   "outputs": [],
   "source": [
    "# Теперь вычитаем среднее и понижаем размерность для валидационной выборки\n",
    "x_val = x_val.astype(np.float32)\n",
    "X_val = x_val - X_mean"
   ]
  },
  {
   "cell_type": "code",
   "execution_count": 27,
   "metadata": {},
   "outputs": [],
   "source": [
    "X_val_rot_reduced = np.dot(X_val, U[:, :n_comp])"
   ]
  },
  {
   "cell_type": "code",
   "execution_count": 28,
   "metadata": {},
   "outputs": [
    {
     "data": {
      "text/plain": [
       "(8400, 300)"
      ]
     },
     "execution_count": 28,
     "metadata": {},
     "output_type": "execute_result"
    }
   ],
   "source": [
    "X_val_rot_reduced.shape"
   ]
  },
  {
   "cell_type": "code",
   "execution_count": 29,
   "metadata": {},
   "outputs": [],
   "source": [
    "# Заново обучаем дерево решений ..."
   ]
  },
  {
   "cell_type": "code",
   "execution_count": 30,
   "metadata": {},
   "outputs": [
    {
     "data": {
      "text/plain": [
       "DecisionTreeClassifier()"
      ]
     },
     "execution_count": 30,
     "metadata": {},
     "output_type": "execute_result"
    }
   ],
   "source": [
    "tree.fit(Xrot_reduced, y_train)"
   ]
  },
  {
   "cell_type": "code",
   "execution_count": 31,
   "metadata": {},
   "outputs": [
    {
     "name": "stdout",
     "output_type": "stream",
     "text": [
      "              precision    recall  f1-score   support\n",
      "\n",
      "         0.0       0.87      0.87      0.87       787\n",
      "         1.0       0.94      0.95      0.95       931\n",
      "         2.0       0.80      0.78      0.79       880\n",
      "         3.0       0.76      0.77      0.77       868\n",
      "         4.0       0.77      0.77      0.77       822\n",
      "         5.0       0.73      0.73      0.73       755\n",
      "         6.0       0.86      0.85      0.85       832\n",
      "         7.0       0.80      0.84      0.82       860\n",
      "         8.0       0.76      0.73      0.74       814\n",
      "         9.0       0.71      0.71      0.71       851\n",
      "\n",
      "    accuracy                           0.80      8400\n",
      "   macro avg       0.80      0.80      0.80      8400\n",
      "weighted avg       0.80      0.80      0.80      8400\n",
      "\n",
      "0.799299920510571\n"
     ]
    }
   ],
   "source": [
    "# ... и оцениваем точность классификации\n",
    "model_pred = tree.predict(X_val_rot_reduced)\n",
    "report = classification_report(y_val, model_pred)\n",
    "f1 = f1_score(y_val, model_pred, average = 'macro')\n",
    "print(classification_report(y_val, model_pred))\n",
    "print(f1)"
   ]
  },
  {
   "cell_type": "markdown",
   "metadata": {},
   "source": [
    "В целом, стало похуже, F1-score снизился с 86 % до 80 %. Теперь попробуем в цикле перебрать\n",
    "возможные значения количества используемых главных компонент. Перебирать их с шагом 1 получится\n",
    "очень долго, поэтому переберём с шагом 100"
   ]
  },
  {
   "cell_type": "code",
   "execution_count": 33,
   "metadata": {},
   "outputs": [
    {
     "name": "stdout",
     "output_type": "stream",
     "text": [
      "700\n"
     ]
    }
   ],
   "source": [
    "# Максимально возможное количество главных компонент\n",
    "# не может превышать количество пикселей в исходном изображении\n",
    "all_pc = (train_val_all_pc.shape[1] // 100) * 100\n",
    "print(all_pc)"
   ]
  },
  {
   "cell_type": "code",
   "execution_count": 34,
   "metadata": {},
   "outputs": [
    {
     "name": "stderr",
     "output_type": "stream",
     "text": [
      "100%|████████████████████████████████████████████████████████████████████████████████████| 7/7 [04:59<00:00, 42.82s/it]\n"
     ]
    }
   ],
   "source": [
    "pca_num = []\n",
    "pca_f1 = []\n",
    "\n",
    "for i in tqdm(range(all_pc, 0, -100)):\n",
    "    n_comp = i\n",
    "    \n",
    "    Xrot_reduced = np.dot(X, U[:, :n_comp])\n",
    "    X_val_rot_reduced = np.dot(X_val, U[:, :n_comp])\n",
    "    \n",
    "    tree.fit(Xrot_reduced, y_train)\n",
    "    \n",
    "    model_pred = tree.predict(X_val_rot_reduced)\n",
    "    f1 = f1_score(y_val, model_pred, average = 'macro')\n",
    "    \n",
    "    pca_num.append(n_comp)\n",
    "    pca_f1.append(f1)"
   ]
  },
  {
   "cell_type": "code",
   "execution_count": 35,
   "metadata": {},
   "outputs": [
    {
     "data": {
      "image/png": "[encoded data removed]",
      "text/plain": [
       "<Figure size 432x288 with 1 Axes>"
      ]
     },
     "metadata": {
      "needs_background": "light"
     },
     "output_type": "display_data"
    }
   ],
   "source": [
    "plt.plot(pca_num, pca_f1, 'm-*')\n",
    "plt.xlabel('pca_num')\n",
    "plt.ylabel('pca_f1')\n",
    "plt.grid()"
   ]
  },
  {
   "cell_type": "code",
   "execution_count": 36,
   "metadata": {},
   "outputs": [
    {
     "data": {
      "text/plain": [
       "[0.7904825308535004,\n",
       " 0.7952561170316387,\n",
       " 0.7979235222113397,\n",
       " 0.8016651474171941,\n",
       " 0.8061864960715702,\n",
       " 0.8110010368630064,\n",
       " 0.8206662735343434]"
      ]
     },
     "execution_count": 36,
     "metadata": {},
     "output_type": "execute_result"
    }
   ],
   "source": [
    "pca_f1"
   ]
  },
  {
   "cell_type": "markdown",
   "metadata": {},
   "source": [
    "Как ни странно, получилось, что с уменьшением количества используемых главных компонент\n",
    "точность прогнозирования повышается. В предположении, что исследуемая функция гладкая,\n",
    "проведём эксперимент для интервала (0, 100] с шагом 10"
   ]
  },
  {
   "cell_type": "code",
   "execution_count": 37,
   "metadata": {},
   "outputs": [
    {
     "name": "stderr",
     "output_type": "stream",
     "text": [
      "100%|██████████████████████████████████████████████████████████████████████████████████| 10/10 [00:55<00:00,  5.56s/it]\n"
     ]
    }
   ],
   "source": [
    "pca_num_10 = []\n",
    "pca_f1_10 = []\n",
    "\n",
    "for i in tqdm(range(100, 0, -10)):\n",
    "    n_comp = i\n",
    "    \n",
    "    Xrot_reduced = np.dot(X, U[:, :n_comp])\n",
    "    X_val_rot_reduced = np.dot(X_val, U[:, :n_comp])\n",
    "    \n",
    "    tree.fit(Xrot_reduced, y_train)\n",
    "    \n",
    "    model_pred = tree.predict(X_val_rot_reduced)\n",
    "    f1 = f1_score(y_val, model_pred, average = 'macro')\n",
    "    \n",
    "    pca_num_10.append(n_comp)\n",
    "    pca_f1_10.append(f1)"
   ]
  },
  {
   "cell_type": "code",
   "execution_count": 38,
   "metadata": {},
   "outputs": [
    {
     "data": {
      "image/png": "[encoded data removed]",
      "text/plain": [
       "<Figure size 432x288 with 1 Axes>"
      ]
     },
     "metadata": {
      "needs_background": "light"
     },
     "output_type": "display_data"
    }
   ],
   "source": [
    "plt.plot(pca_num_10, pca_f1_10, 'm-*')\n",
    "plt.xlabel('pca_num')\n",
    "plt.ylabel('pca_f1')\n",
    "plt.grid()"
   ]
  },
  {
   "cell_type": "markdown",
   "metadata": {},
   "source": [
    "В интервале (0, 60] выполним эксперимент с шагом 1. Возможно, обнаружим что-нибудь интересное..."
   ]
  },
  {
   "cell_type": "code",
   "execution_count": 39,
   "metadata": {},
   "outputs": [
    {
     "name": "stderr",
     "output_type": "stream",
     "text": [
      "100%|██████████████████████████████████████████████████████████████████████████████████| 60/60 [02:53<00:00,  2.90s/it]\n"
     ]
    }
   ],
   "source": [
    "pca_num_1 = []\n",
    "pca_f1_1 = []\n",
    "\n",
    "for i in tqdm(range(60, 0, -1)):\n",
    "    n_comp = i\n",
    "    \n",
    "    Xrot_reduced = np.dot(X, U[:, :n_comp])\n",
    "    X_val_rot_reduced = np.dot(X_val, U[:, :n_comp])\n",
    "    \n",
    "    tree.fit(Xrot_reduced, y_train)\n",
    "    \n",
    "    model_pred = tree.predict(X_val_rot_reduced)\n",
    "    f1 = f1_score(y_val, model_pred, average = 'macro')\n",
    "    \n",
    "    pca_num_1.append(n_comp)\n",
    "    pca_f1_1.append(f1)"
   ]
  },
  {
   "cell_type": "code",
   "execution_count": 40,
   "metadata": {},
   "outputs": [
    {
     "data": {
      "image/png": "[encoded data removed]",
      "text/plain": [
       "<Figure size 432x288 with 1 Axes>"
      ]
     },
     "metadata": {
      "needs_background": "light"
     },
     "output_type": "display_data"
    }
   ],
   "source": [
    "plt.plot(pca_num_1, pca_f1_1, 'm-*')\n",
    "plt.xlabel('pca_num')\n",
    "plt.ylabel('pca_f1')\n",
    "plt.grid()"
   ]
  },
  {
   "cell_type": "code",
   "execution_count": 42,
   "metadata": {},
   "outputs": [
    {
     "data": {
      "text/plain": [
       "0.8352185864481859"
      ]
     },
     "execution_count": 42,
     "metadata": {},
     "output_type": "execute_result"
    }
   ],
   "source": [
    "max(pca_f1_1)"
   ]
  },
  {
   "cell_type": "code",
   "execution_count": 49,
   "metadata": {},
   "outputs": [
    {
     "data": {
      "text/plain": [
       "60"
      ]
     },
     "execution_count": 49,
     "metadata": {},
     "output_type": "execute_result"
    }
   ],
   "source": [
    "len(pca_num_1)"
   ]
  },
  {
   "cell_type": "code",
   "execution_count": 50,
   "metadata": {},
   "outputs": [
    {
     "data": {
      "text/plain": [
       "60"
      ]
     },
     "execution_count": 50,
     "metadata": {},
     "output_type": "execute_result"
    }
   ],
   "source": [
    "len(pca_f1_1)"
   ]
  },
  {
   "cell_type": "code",
   "execution_count": 53,
   "metadata": {},
   "outputs": [],
   "source": [
    "pca_num_df = pd.DataFrame(pca_num_1, columns = ['num'])"
   ]
  },
  {
   "cell_type": "code",
   "execution_count": 55,
   "metadata": {},
   "outputs": [],
   "source": [
    "pca_f1_df = pd.DataFrame(pca_f1_1, columns = ['f1'])"
   ]
  },
  {
   "cell_type": "code",
   "execution_count": 56,
   "metadata": {},
   "outputs": [],
   "source": [
    "data = pca_num_df.join(pca_f1_df)"
   ]
  },
  {
   "cell_type": "code",
   "execution_count": 57,
   "metadata": {},
   "outputs": [
    {
     "data": {
      "text/html": [
       "<div>\n",
       "<style scoped>\n",
       "    .dataframe tbody tr th:only-of-type {\n",
       "        vertical-align: middle;\n",
       "    }\n",
       "\n",
       "    .dataframe tbody tr th {\n",
       "        vertical-align: top;\n",
       "    }\n",
       "\n",
       "    .dataframe thead th {\n",
       "        text-align: right;\n",
       "    }\n",
       "</style>\n",
       "<table border=\"1\" class=\"dataframe\">\n",
       "  <thead>\n",
       "    <tr style=\"text-align: right;\">\n",
       "      <th></th>\n",
       "      <th>num</th>\n",
       "      <th>f1</th>\n",
       "    </tr>\n",
       "  </thead>\n",
       "  <tbody>\n",
       "    <tr>\n",
       "      <th>0</th>\n",
       "      <td>60</td>\n",
       "      <td>0.821786</td>\n",
       "    </tr>\n",
       "    <tr>\n",
       "      <th>1</th>\n",
       "      <td>59</td>\n",
       "      <td>0.824992</td>\n",
       "    </tr>\n",
       "    <tr>\n",
       "      <th>2</th>\n",
       "      <td>58</td>\n",
       "      <td>0.822133</td>\n",
       "    </tr>\n",
       "    <tr>\n",
       "      <th>3</th>\n",
       "      <td>57</td>\n",
       "      <td>0.826422</td>\n",
       "    </tr>\n",
       "    <tr>\n",
       "      <th>4</th>\n",
       "      <td>56</td>\n",
       "      <td>0.828223</td>\n",
       "    </tr>\n",
       "  </tbody>\n",
       "</table>\n",
       "</div>"
      ],
      "text/plain": [
       "   num        f1\n",
       "0   60  0.821786\n",
       "1   59  0.824992\n",
       "2   58  0.822133\n",
       "3   57  0.826422\n",
       "4   56  0.828223"
      ]
     },
     "execution_count": 57,
     "metadata": {},
     "output_type": "execute_result"
    }
   ],
   "source": [
    "data.head()"
   ]
  },
  {
   "cell_type": "code",
   "execution_count": 61,
   "metadata": {},
   "outputs": [
    {
     "data": {
      "text/html": [
       "<div>\n",
       "<style scoped>\n",
       "    .dataframe tbody tr th:only-of-type {\n",
       "        vertical-align: middle;\n",
       "    }\n",
       "\n",
       "    .dataframe tbody tr th {\n",
       "        vertical-align: top;\n",
       "    }\n",
       "\n",
       "    .dataframe thead th {\n",
       "        text-align: right;\n",
       "    }\n",
       "</style>\n",
       "<table border=\"1\" class=\"dataframe\">\n",
       "  <thead>\n",
       "    <tr style=\"text-align: right;\">\n",
       "      <th></th>\n",
       "      <th>num</th>\n",
       "      <th>f1</th>\n",
       "    </tr>\n",
       "  </thead>\n",
       "  <tbody>\n",
       "    <tr>\n",
       "      <th>40</th>\n",
       "      <td>20</td>\n",
       "      <td>0.835219</td>\n",
       "    </tr>\n",
       "  </tbody>\n",
       "</table>\n",
       "</div>"
      ],
      "text/plain": [
       "    num        f1\n",
       "40   20  0.835219"
      ]
     },
     "execution_count": 61,
     "metadata": {},
     "output_type": "execute_result"
    }
   ],
   "source": [
    "data.loc[data['f1'] == max(pca_f1_1)]"
   ]
  },
  {
   "cell_type": "markdown",
   "metadata": {},
   "source": [
    "Наибольшее достигаемое значение F1-score составляет 83,5 % при количестве главных компонент, равном 20.\n",
    "Попробуем выполнить преобразование с количеством главных компонент, равным 20, и визуализировать цифры"
   ]
  },
  {
   "cell_type": "code",
   "execution_count": 63,
   "metadata": {},
   "outputs": [],
   "source": [
    "n_comp = 20\n",
    "# получаем сжатое представление объектов\n",
    "Xrot_reduced = np.dot(X, U[:, :n_comp])\n",
    "# восстанавливаем изображение после понижения размерности\n",
    "Xrot_restored = np.dot(Xrot_reduced, U[:,:n_comp].T)"
   ]
  },
  {
   "cell_type": "code",
   "execution_count": 65,
   "metadata": {},
   "outputs": [
    {
     "data": {
      "image/png": "[encoded data removed]",
      "text/plain": [
       "<Figure size 1440x720 with 6 Axes>"
      ]
     },
     "metadata": {
      "needs_background": "light"
     },
     "output_type": "display_data"
    }
   ],
   "source": [
    "fig = plt.figure(figsize=(20, 10))\n",
    "for i, img in enumerate(Xrot_restored[0:6], 1):\n",
    "    subplot = fig.add_subplot(1, 7, i)\n",
    "    img_ = img + X_mean\n",
    "    plt.title('%s' % y_train[i-1])\n",
    "    plt.imshow(img_.reshape((28,28)) + X_mean.reshape((28,28)), cmap='gray');"
   ]
  },
  {
   "cell_type": "markdown",
   "metadata": {},
   "source": [
    "Цифры угадываются с трудом, но для распознавания этого оказывается достаточно.\n",
    "Таким образом, получаем следующие значения:\n",
    "    * для всех данных F1-Score составляет 85,7 %,\n",
    "    * для 20 главных компонент F1-Score составляет 83,5 %."
   ]
  }
 ],
 "metadata": {
  "kernelspec": {
   "display_name": "Python 3",
   "language": "python",
   "name": "python3"
  },
  "language_info": {
   "codemirror_mode": {
    "name": "ipython",
    "version": 3
   },
   "file_extension": ".py",
   "mimetype": "text/x-python",
   "name": "python",
   "nbconvert_exporter": "python",
   "pygments_lexer": "ipython3",
   "version": "3.7.6"
  }
 },
 "nbformat": 4,
 "nbformat_minor": 4
}
