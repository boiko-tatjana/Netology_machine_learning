{
 "cells": [
  {
   "cell_type": "code",
   "execution_count": 1,
   "metadata": {},
   "outputs": [],
   "source": [
    "import json\n",
    "\n",
    "import bz2\n",
    "import regex\n",
    "from tqdm import tqdm\n",
    "from scipy import sparse"
   ]
  },
  {
   "cell_type": "code",
   "execution_count": 290,
   "metadata": {},
   "outputs": [
    {
     "name": "stdout",
     "output_type": "stream",
     "text": [
      "Populating the interactive namespace from numpy and matplotlib\n"
     ]
    },
    {
     "name": "stderr",
     "output_type": "stream",
     "text": [
      "C:\\ProgramData\\Anaconda3\\lib\\site-packages\\IPython\\core\\magics\\pylab.py:160: UserWarning: pylab import has clobbered these variables: ['random', 'clf']\n",
      "`%matplotlib` prevents importing * from pylab and numpy\n",
      "  \"\\n`%matplotlib` prevents importing * from pylab and numpy\"\n"
     ]
    }
   ],
   "source": [
    "import pandas as pd\n",
    "import numpy as np\n",
    "import nltk\n",
    "import matplotlib.pyplot as plt\n",
    "import seaborn as sns\n",
    "from nltk.tokenize import word_tokenize\n",
    "from string import punctuation\n",
    "from sklearn.feature_extraction.text import TfidfVectorizer\n",
    "from sklearn.model_selection import train_test_split\n",
    "from sklearn.feature_extraction.text import CountVectorizer\n",
    "from sklearn.linear_model import LogisticRegression\n",
    "from sklearn.metrics import *\n",
    "import random\n",
    "%matplotlib inline\n",
    "%pylab inline"
   ]
  },
  {
   "cell_type": "code",
   "execution_count": 337,
   "metadata": {},
   "outputs": [],
   "source": [
    "from gensim.corpora import Dictionary\n",
    "from gensim.models import TfidfModel\n",
    "from gensim.models import lsimodel\n",
    "from gensim import similarities"
   ]
  },
  {
   "cell_type": "code",
   "execution_count": 405,
   "metadata": {},
   "outputs": [],
   "source": [
    "from sklearn.decomposition import TruncatedSVD\n",
    "from sklearn.decomposition import LatentDirichletAllocation as LDA\n",
    "from sklearn.pipeline import Pipeline\n",
    "from sklearn.ensemble import RandomForestClassifier"
   ]
  },
  {
   "cell_type": "code",
   "execution_count": 175,
   "metadata": {},
   "outputs": [
    {
     "name": "stderr",
     "output_type": "stream",
     "text": [
      "[nltk_data] Downloading package punkt to\n",
      "[nltk_data]     C:\\Users\\Tatjana\\AppData\\Roaming\\nltk_data...\n",
      "[nltk_data]   Package punkt is already up-to-date!\n"
     ]
    },
    {
     "data": {
      "text/plain": [
       "True"
      ]
     },
     "execution_count": 175,
     "metadata": {},
     "output_type": "execute_result"
    }
   ],
   "source": [
    "nltk.download('punkt')"
   ]
  },
  {
   "cell_type": "code",
   "execution_count": 3,
   "metadata": {
    "scrolled": true
   },
   "outputs": [
    {
     "name": "stderr",
     "output_type": "stream",
     "text": [
      "201030it [03:23, 987.71it/s] \n"
     ]
    }
   ],
   "source": [
    "responses = []\n",
    "with bz2.BZ2File('banki_responses.json.bz2', 'r') as thefile:\n",
    "    for row in tqdm(thefile):\n",
    "        resp = json.loads(row)\n",
    "        if not resp['rating_not_checked'] and (len(resp['text'].split()) > 0):\n",
    "            responses.append(resp)"
   ]
  },
  {
   "cell_type": "markdown",
   "metadata": {},
   "source": [
    "#  Домашнее задание по NLP # 1 [100 баллов]\n",
    "## Классификация по тональности \n",
    "\n",
    "В этом домашнем задании вам предстоит классифицировать по тональности отзывы на банки с сайта banki.ru.\n",
    "\n",
    "Данные содержат непосредственно тексты отзывов, некоторую дополнительную информацию, а также оценку по шкале от 1 до 5. \n",
    "\n",
    "Тексты хранятся в json-ах в массиве responses.\n",
    "\n",
    "Посмотрим на пример отзыва:"
   ]
  },
  {
   "cell_type": "code",
   "execution_count": 4,
   "metadata": {},
   "outputs": [
    {
     "data": {
      "text/plain": [
       "{'city': 'г. Саратов',\n",
       " 'rating_not_checked': False,\n",
       " 'title': 'Карта ко вкладу',\n",
       " 'num_comments': 0,\n",
       " 'bank_license': 'лицензия № 880',\n",
       " 'author': 'ronnichka',\n",
       " 'bank_name': 'Югра',\n",
       " 'datetime': '2015-06-03 20:56:57',\n",
       " 'text': 'Здравствуйте! Хотела написать, что мне месяц не выдают карту ко вкладу, ссылаясь на \"нам же их из Самары везут\" (на секундочку 5 часов езды от нашего города). Но! Прочитала, что людям 3,5 месяцев не выдают карту, и поняла, что у меня все хорошо, пока что. И подарок мне дали, и кулер в отделении есть. Так что я, конечно, готова ждать. Правда хотелось бы не очень долго.',\n",
       " 'rating_grade': 3}"
      ]
     },
     "execution_count": 4,
     "metadata": {},
     "output_type": "execute_result"
    }
   ],
   "source": [
    "responses[99]"
   ]
  },
  {
   "cell_type": "markdown",
   "metadata": {},
   "source": [
    "## Часть 1. Анализ текстов [40/100]\n",
    "\n",
    "1. Посчитайте количество отзывов в разных городах и на разные банки\n",
    "2. Постройте гистограмы длин слов в символах и в словах\n",
    "3. Найдите 10 самых частых:\n",
    "    * слов\n",
    "    * слов без стоп-слов\n",
    "    * лемм \n",
    "* существительных\n",
    "4. Постройте кривые Ципфа и Хипса\n",
    "5. Ответьте на следующие вопросы:\n",
    "    * какое слово встречается чаще, \"сотрудник\" или \"клиент\"?\n",
    "    * сколько раз встречается слова \"мошенничество\" и \"доверие\"?\n",
    "6. В поле \"rating_grade\" записана оценка отзыва по шкале от 1 до 5. Используйте меру $tf-idf$, для того, чтобы найти ключевые слова и биграмы для положительных отзывов (с оценкой 5) и отрицательных отзывов (с оценкой 1)"
   ]
  },
  {
   "cell_type": "markdown",
   "metadata": {},
   "source": [
    "#### 0. Преобразуем набор данных в датафрайм"
   ]
  },
  {
   "cell_type": "code",
   "execution_count": 5,
   "metadata": {},
   "outputs": [],
   "source": [
    "df = pd.DataFrame(responses)"
   ]
  },
  {
   "cell_type": "code",
   "execution_count": 6,
   "metadata": {},
   "outputs": [
    {
     "data": {
      "text/html": [
       "<div>\n",
       "<style scoped>\n",
       "    .dataframe tbody tr th:only-of-type {\n",
       "        vertical-align: middle;\n",
       "    }\n",
       "\n",
       "    .dataframe tbody tr th {\n",
       "        vertical-align: top;\n",
       "    }\n",
       "\n",
       "    .dataframe thead th {\n",
       "        text-align: right;\n",
       "    }\n",
       "</style>\n",
       "<table border=\"1\" class=\"dataframe\">\n",
       "  <thead>\n",
       "    <tr style=\"text-align: right;\">\n",
       "      <th></th>\n",
       "      <th>city</th>\n",
       "      <th>rating_not_checked</th>\n",
       "      <th>title</th>\n",
       "      <th>num_comments</th>\n",
       "      <th>bank_license</th>\n",
       "      <th>author</th>\n",
       "      <th>bank_name</th>\n",
       "      <th>datetime</th>\n",
       "      <th>text</th>\n",
       "      <th>rating_grade</th>\n",
       "    </tr>\n",
       "  </thead>\n",
       "  <tbody>\n",
       "    <tr>\n",
       "      <th>0</th>\n",
       "      <td>г. Москва</td>\n",
       "      <td>False</td>\n",
       "      <td>Жалоба</td>\n",
       "      <td>0</td>\n",
       "      <td>лицензия № 2562</td>\n",
       "      <td>uhnov1</td>\n",
       "      <td>Бинбанк</td>\n",
       "      <td>2015-06-08 12:50:54</td>\n",
       "      <td>Добрый день! Я не являюсь клиентом банка и пор...</td>\n",
       "      <td>NaN</td>\n",
       "    </tr>\n",
       "    <tr>\n",
       "      <th>1</th>\n",
       "      <td>г. Новосибирск</td>\n",
       "      <td>False</td>\n",
       "      <td>Не могу пользоваться услугой Сбербанк он-лайн</td>\n",
       "      <td>0</td>\n",
       "      <td>лицензия № 1481</td>\n",
       "      <td>Foryou</td>\n",
       "      <td>Сбербанк России</td>\n",
       "      <td>2015-06-08 11:09:57</td>\n",
       "      <td>Доброго дня! Являюсь держателем зарплатной кар...</td>\n",
       "      <td>NaN</td>\n",
       "    </tr>\n",
       "    <tr>\n",
       "      <th>2</th>\n",
       "      <td>г. Москва</td>\n",
       "      <td>False</td>\n",
       "      <td>Двойное списание за один товар.</td>\n",
       "      <td>1</td>\n",
       "      <td>лицензия № 2562</td>\n",
       "      <td>Vladimir84</td>\n",
       "      <td>Бинбанк</td>\n",
       "      <td>2015-06-05 20:14:28</td>\n",
       "      <td>Здравствуйте!  Дублирую свое заявление от 03.0...</td>\n",
       "      <td>NaN</td>\n",
       "    </tr>\n",
       "    <tr>\n",
       "      <th>3</th>\n",
       "      <td>г. Ставрополь</td>\n",
       "      <td>False</td>\n",
       "      <td>Меняют проценты комиссии  не предупредив и не ...</td>\n",
       "      <td>2</td>\n",
       "      <td>лицензия № 1481</td>\n",
       "      <td>643609</td>\n",
       "      <td>Сбербанк России</td>\n",
       "      <td>2015-06-05 13:51:01</td>\n",
       "      <td>Добрый день!! Я открыл расчетный счет в СберБа...</td>\n",
       "      <td>NaN</td>\n",
       "    </tr>\n",
       "    <tr>\n",
       "      <th>4</th>\n",
       "      <td>г. Челябинск</td>\n",
       "      <td>False</td>\n",
       "      <td>Верните денежные средства за страховку</td>\n",
       "      <td>1</td>\n",
       "      <td>лицензия № 2766</td>\n",
       "      <td>anfisa-2003</td>\n",
       "      <td>ОТП Банк</td>\n",
       "      <td>2015-06-05 10:58:12</td>\n",
       "      <td>04.03.2015 г. взяла кредит в вашем банке, заяв...</td>\n",
       "      <td>NaN</td>\n",
       "    </tr>\n",
       "  </tbody>\n",
       "</table>\n",
       "</div>"
      ],
      "text/plain": [
       "             city  rating_not_checked  \\\n",
       "0       г. Москва               False   \n",
       "1  г. Новосибирск               False   \n",
       "2       г. Москва               False   \n",
       "3   г. Ставрополь               False   \n",
       "4    г. Челябинск               False   \n",
       "\n",
       "                                               title  num_comments  \\\n",
       "0                                             Жалоба             0   \n",
       "1      Не могу пользоваться услугой Сбербанк он-лайн             0   \n",
       "2                    Двойное списание за один товар.             1   \n",
       "3  Меняют проценты комиссии  не предупредив и не ...             2   \n",
       "4             Верните денежные средства за страховку             1   \n",
       "\n",
       "      bank_license       author        bank_name             datetime  \\\n",
       "0  лицензия № 2562       uhnov1          Бинбанк  2015-06-08 12:50:54   \n",
       "1  лицензия № 1481       Foryou  Сбербанк России  2015-06-08 11:09:57   \n",
       "2  лицензия № 2562   Vladimir84          Бинбанк  2015-06-05 20:14:28   \n",
       "3  лицензия № 1481       643609  Сбербанк России  2015-06-05 13:51:01   \n",
       "4  лицензия № 2766  anfisa-2003         ОТП Банк  2015-06-05 10:58:12   \n",
       "\n",
       "                                                text  rating_grade  \n",
       "0  Добрый день! Я не являюсь клиентом банка и пор...           NaN  \n",
       "1  Доброго дня! Являюсь держателем зарплатной кар...           NaN  \n",
       "2  Здравствуйте!  Дублирую свое заявление от 03.0...           NaN  \n",
       "3  Добрый день!! Я открыл расчетный счет в СберБа...           NaN  \n",
       "4  04.03.2015 г. взяла кредит в вашем банке, заяв...           NaN  "
      ]
     },
     "execution_count": 6,
     "metadata": {},
     "output_type": "execute_result"
    }
   ],
   "source": [
    "df.head()"
   ]
  },
  {
   "cell_type": "markdown",
   "metadata": {},
   "source": [
    "#### 1. Посчитайте количество отзывов в разных городах и на разные банки"
   ]
  },
  {
   "cell_type": "markdown",
   "metadata": {},
   "source": [
    "1.1 Количество отзывов в разных городах"
   ]
  },
  {
   "cell_type": "code",
   "execution_count": 7,
   "metadata": {},
   "outputs": [
    {
     "data": {
      "text/plain": [
       "г. Москва             55354\n",
       "г. Санкт-Петербург    14342\n",
       "г. Екатеринбург        2337\n",
       "г. Новосибирск         2300\n",
       "г. Нижний Новгород     1976\n",
       "                      ...  \n",
       "г. Шемышейка              1\n",
       "г. г. Азов                1\n",
       "г. МО Жуковка             1\n",
       "г. Лимасол                1\n",
       "г. Тюмен                  1\n",
       "Name: city, Length: 5823, dtype: int64"
      ]
     },
     "execution_count": 7,
     "metadata": {},
     "output_type": "execute_result"
    }
   ],
   "source": [
    "cities = df['city'].value_counts()\n",
    "cities"
   ]
  },
  {
   "cell_type": "markdown",
   "metadata": {},
   "source": [
    "1.2 Количество отзывов о разных банках"
   ]
  },
  {
   "cell_type": "code",
   "execution_count": 8,
   "metadata": {},
   "outputs": [
    {
     "data": {
      "text/plain": [
       "Сбербанк России                            26327\n",
       "Альфа-Банк                                 10224\n",
       "ВТБ 24                                      8185\n",
       "Русский Стандарт                            7943\n",
       "Хоум Кредит Банк                            7549\n",
       "                                           ...  \n",
       "Тульский Промышленник — Московский офис        1\n",
       "Юго-Восток                                     1\n",
       "Южный Регион                                   1\n",
       "Тайм Банк                                      1\n",
       "Златкомбанк                                    1\n",
       "Name: bank_name, Length: 670, dtype: int64"
      ]
     },
     "execution_count": 8,
     "metadata": {},
     "output_type": "execute_result"
    }
   ],
   "source": [
    "banks = df['bank_name'].value_counts()\n",
    "banks"
   ]
  },
  {
   "cell_type": "markdown",
   "metadata": {},
   "source": [
    "#### 2. Постройте гистограмы длин слов в символах и в словах"
   ]
  },
  {
   "cell_type": "code",
   "execution_count": 9,
   "metadata": {},
   "outputs": [],
   "source": [
    "sample = df[['text']]"
   ]
  },
  {
   "cell_type": "code",
   "execution_count": 10,
   "metadata": {},
   "outputs": [],
   "source": [
    "import re\n",
    "reg = re.compile(\"[А-Яа-я]+\")"
   ]
  },
  {
   "cell_type": "code",
   "execution_count": 11,
   "metadata": {},
   "outputs": [
    {
     "name": "stderr",
     "output_type": "stream",
     "text": [
      "C:\\ProgramData\\Anaconda3\\lib\\site-packages\\pandas\\core\\indexing.py:1048: SettingWithCopyWarning: \n",
      "A value is trying to be set on a copy of a slice from a DataFrame.\n",
      "Try using .loc[row_indexer,col_indexer] = value instead\n",
      "\n",
      "See the caveats in the documentation: https://pandas.pydata.org/pandas-docs/stable/user_guide/indexing.html#returning-a-view-versus-a-copy\n",
      "  self.obj[item_labels[indexer[info_axis]]] = value\n"
     ]
    }
   ],
   "source": [
    "def words_only(text, regex=reg):\n",
    "    return \" \".join(regex.findall(text))\n",
    "\n",
    "\n",
    "sample.loc[:, 'text'] = sample.loc[:, 'text'].str.lower()\n",
    "sample.loc[:, 'text'] = sample.loc[:, 'text'].apply(words_only)"
   ]
  },
  {
   "cell_type": "markdown",
   "metadata": {},
   "source": [
    "Подсчет количества слов в отзыве"
   ]
  },
  {
   "cell_type": "code",
   "execution_count": 12,
   "metadata": {},
   "outputs": [],
   "source": [
    "def word_count(responce):\n",
    "    tokens = responce.split()\n",
    "    n_tokens = len(tokens)\n",
    "    return n_tokens"
   ]
  },
  {
   "cell_type": "code",
   "execution_count": 13,
   "metadata": {},
   "outputs": [
    {
     "data": {
      "text/plain": [
       "7"
      ]
     },
     "execution_count": 13,
     "metadata": {},
     "output_type": "execute_result"
    }
   ],
   "source": [
    "word_count('Обидно когда диплом сам себя не пишет')"
   ]
  },
  {
   "cell_type": "markdown",
   "metadata": {},
   "source": [
    "Подсчет количества символов в отзыве"
   ]
  },
  {
   "cell_type": "code",
   "execution_count": 14,
   "metadata": {},
   "outputs": [],
   "source": [
    "def char_count(responce):\n",
    "    return len(responce)"
   ]
  },
  {
   "cell_type": "code",
   "execution_count": 15,
   "metadata": {},
   "outputs": [
    {
     "data": {
      "text/plain": [
       "37"
      ]
     },
     "execution_count": 15,
     "metadata": {},
     "output_type": "execute_result"
    }
   ],
   "source": [
    "char_count('Обидно когда диплом сам себя не пишет')"
   ]
  },
  {
   "cell_type": "code",
   "execution_count": 16,
   "metadata": {},
   "outputs": [
    {
     "name": "stderr",
     "output_type": "stream",
     "text": [
      "C:\\ProgramData\\Anaconda3\\lib\\site-packages\\pandas\\core\\indexing.py:845: SettingWithCopyWarning: \n",
      "A value is trying to be set on a copy of a slice from a DataFrame.\n",
      "Try using .loc[row_indexer,col_indexer] = value instead\n",
      "\n",
      "See the caveats in the documentation: https://pandas.pydata.org/pandas-docs/stable/user_guide/indexing.html#returning-a-view-versus-a-copy\n",
      "  self.obj[key] = _infer_fill_value(value)\n",
      "C:\\ProgramData\\Anaconda3\\lib\\site-packages\\pandas\\core\\indexing.py:966: SettingWithCopyWarning: \n",
      "A value is trying to be set on a copy of a slice from a DataFrame.\n",
      "Try using .loc[row_indexer,col_indexer] = value instead\n",
      "\n",
      "See the caveats in the documentation: https://pandas.pydata.org/pandas-docs/stable/user_guide/indexing.html#returning-a-view-versus-a-copy\n",
      "  self.obj[item] = s\n"
     ]
    }
   ],
   "source": [
    "sample.loc[:, 'word_count'] = sample.loc[:, 'text'].apply(word_count)\n",
    "sample.loc[:, 'char_count'] = sample.loc[:, 'text'].apply(char_count)"
   ]
  },
  {
   "cell_type": "code",
   "execution_count": 17,
   "metadata": {},
   "outputs": [
    {
     "data": {
      "text/html": [
       "<div>\n",
       "<style scoped>\n",
       "    .dataframe tbody tr th:only-of-type {\n",
       "        vertical-align: middle;\n",
       "    }\n",
       "\n",
       "    .dataframe tbody tr th {\n",
       "        vertical-align: top;\n",
       "    }\n",
       "\n",
       "    .dataframe thead th {\n",
       "        text-align: right;\n",
       "    }\n",
       "</style>\n",
       "<table border=\"1\" class=\"dataframe\">\n",
       "  <thead>\n",
       "    <tr style=\"text-align: right;\">\n",
       "      <th></th>\n",
       "      <th>text</th>\n",
       "      <th>word_count</th>\n",
       "      <th>char_count</th>\n",
       "    </tr>\n",
       "  </thead>\n",
       "  <tbody>\n",
       "    <tr>\n",
       "      <th>0</th>\n",
       "      <td>добрый день я не являюсь клиентом банка и пору...</td>\n",
       "      <td>213</td>\n",
       "      <td>1432</td>\n",
       "    </tr>\n",
       "    <tr>\n",
       "      <th>1</th>\n",
       "      <td>доброго дня являюсь держателем зарплатной карт...</td>\n",
       "      <td>135</td>\n",
       "      <td>971</td>\n",
       "    </tr>\n",
       "    <tr>\n",
       "      <th>2</th>\n",
       "      <td>здравствуйте дублирую свое заявление от в до м...</td>\n",
       "      <td>83</td>\n",
       "      <td>500</td>\n",
       "    </tr>\n",
       "    <tr>\n",
       "      <th>3</th>\n",
       "      <td>добрый день я открыл расчетный счет в сбербанк...</td>\n",
       "      <td>121</td>\n",
       "      <td>698</td>\n",
       "    </tr>\n",
       "    <tr>\n",
       "      <th>4</th>\n",
       "      <td>г взяла кредит в вашем банке заявленная мною с...</td>\n",
       "      <td>291</td>\n",
       "      <td>1738</td>\n",
       "    </tr>\n",
       "  </tbody>\n",
       "</table>\n",
       "</div>"
      ],
      "text/plain": [
       "                                                text  word_count  char_count\n",
       "0  добрый день я не являюсь клиентом банка и пору...         213        1432\n",
       "1  доброго дня являюсь держателем зарплатной карт...         135         971\n",
       "2  здравствуйте дублирую свое заявление от в до м...          83         500\n",
       "3  добрый день я открыл расчетный счет в сбербанк...         121         698\n",
       "4  г взяла кредит в вашем банке заявленная мною с...         291        1738"
      ]
     },
     "execution_count": 17,
     "metadata": {},
     "output_type": "execute_result"
    }
   ],
   "source": [
    "sample.head()"
   ]
  },
  {
   "cell_type": "markdown",
   "metadata": {},
   "source": [
    "2.1 Гистограмма количества слов в отзыве"
   ]
  },
  {
   "cell_type": "code",
   "execution_count": 18,
   "metadata": {},
   "outputs": [
    {
     "data": {
      "image/png": "[encoded data removed]",
      "text/plain": [
       "<Figure size 432x288 with 1 Axes>"
      ]
     },
     "metadata": {
      "needs_background": "light"
     },
     "output_type": "display_data"
    }
   ],
   "source": [
    "words_count = sample[['word_count']]\n",
    "words_count = words_count[words_count.word_count < 1000]\n",
    "words_count.hist()\n",
    "plt.show()"
   ]
  },
  {
   "cell_type": "markdown",
   "metadata": {},
   "source": [
    "2.2 Гистограмма количества символов в отзыве"
   ]
  },
  {
   "cell_type": "code",
   "execution_count": 19,
   "metadata": {},
   "outputs": [
    {
     "data": {
      "image/png": "[encoded data removed]",
      "text/plain": [
       "<Figure size 432x288 with 1 Axes>"
      ]
     },
     "metadata": {
      "needs_background": "light"
     },
     "output_type": "display_data"
    }
   ],
   "source": [
    "chars_count = sample[['char_count']]\n",
    "chars_count = chars_count[chars_count.char_count < 3000]\n",
    "chars_count.hist()\n",
    "plt.show()"
   ]
  },
  {
   "cell_type": "markdown",
   "metadata": {},
   "source": [
    "#### 3. Найдите 10 самых частых: слов, без учета стоп-слов, лемм"
   ]
  },
  {
   "cell_type": "markdown",
   "metadata": {},
   "source": [
    "10 самых популярных слов"
   ]
  },
  {
   "cell_type": "code",
   "execution_count": 20,
   "metadata": {},
   "outputs": [],
   "source": [
    "words = [word for text in sample.text for word in text.split()]"
   ]
  },
  {
   "cell_type": "code",
   "execution_count": 21,
   "metadata": {},
   "outputs": [
    {
     "data": {
      "text/plain": [
       "в        1330550\n",
       "и        1058997\n",
       "не        855335\n",
       "на        707935\n",
       "что       640057\n",
       "я         577500\n",
       "с         464037\n",
       "по        372769\n",
       "мне       320958\n",
       "банка     275906\n",
       "Name: 0, dtype: int64"
      ]
     },
     "execution_count": 21,
     "metadata": {},
     "output_type": "execute_result"
    }
   ],
   "source": [
    "words = pd.DataFrame(words)\n",
    "words[0].value_counts().head(10)"
   ]
  },
  {
   "cell_type": "markdown",
   "metadata": {},
   "source": [
    "10 самых популярных слов без учета стоп-слов"
   ]
  },
  {
   "cell_type": "code",
   "execution_count": 22,
   "metadata": {},
   "outputs": [
    {
     "name": "stdout",
     "output_type": "stream",
     "text": [
      "['и', 'в', 'во', 'не', 'что', 'он', 'на', 'я', 'с', 'со', 'как', 'а', 'то', 'все', 'она', 'так', 'его', 'но', 'да', 'ты', 'к', 'у', 'же', 'вы', 'за', 'бы', 'по', 'только', 'ее', 'мне', 'было', 'вот', 'от', 'меня', 'еще', 'нет', 'о', 'из', 'ему', 'теперь', 'когда', 'даже', 'ну', 'вдруг', 'ли', 'если', 'уже', 'или', 'ни', 'быть', 'был', 'него', 'до', 'вас', 'нибудь', 'опять', 'уж', 'вам', 'ведь', 'там', 'потом', 'себя', 'ничего', 'ей', 'может', 'они', 'тут', 'где', 'есть', 'надо', 'ней', 'для', 'мы', 'тебя', 'их', 'чем', 'была', 'сам', 'чтоб', 'без', 'будто', 'чего', 'раз', 'тоже', 'себе', 'под', 'будет', 'ж', 'тогда', 'кто', 'этот', 'того', 'потому', 'этого', 'какой', 'совсем', 'ним', 'здесь', 'этом', 'один', 'почти', 'мой', 'тем', 'чтобы', 'нее', 'сейчас', 'были', 'куда', 'зачем', 'всех', 'никогда', 'можно', 'при', 'наконец', 'два', 'об', 'другой', 'хоть', 'после', 'над', 'больше', 'тот', 'через', 'эти', 'нас', 'про', 'всего', 'них', 'какая', 'много', 'разве', 'три', 'эту', 'моя', 'впрочем', 'хорошо', 'свою', 'этой', 'перед', 'иногда', 'лучше', 'чуть', 'том', 'нельзя', 'такой', 'им', 'более', 'всегда', 'конечно', 'всю', 'между', 'это', 'наш', 'тыс', 'млн', 'млрд', 'также', 'т', 'д']\n"
     ]
    }
   ],
   "source": [
    "from nltk.corpus import stopwords\n",
    "mystopwords = stopwords.words('russian') + ['это', 'наш' , 'тыс', 'млн', 'млрд', 'также',  'т', 'д']\n",
    "\n",
    "print(mystopwords)"
   ]
  },
  {
   "cell_type": "code",
   "execution_count": 23,
   "metadata": {},
   "outputs": [
    {
     "name": "stderr",
     "output_type": "stream",
     "text": [
      "C:\\ProgramData\\Anaconda3\\lib\\site-packages\\pandas\\core\\generic.py:5303: SettingWithCopyWarning: \n",
      "A value is trying to be set on a copy of a slice from a DataFrame.\n",
      "Try using .loc[row_indexer,col_indexer] = value instead\n",
      "\n",
      "See the caveats in the documentation: https://pandas.pydata.org/pandas-docs/stable/user_guide/indexing.html#returning-a-view-versus-a-copy\n",
      "  self[name] = value\n"
     ]
    }
   ],
   "source": [
    "def remove_stopwords(text, mystopwords = mystopwords):\n",
    "    try:\n",
    "        return \" \".join([token for token in text.split() if not token in mystopwords])\n",
    "    except:\n",
    "        return \"\"\n",
    "sample.text = sample.text.apply(remove_stopwords) "
   ]
  },
  {
   "cell_type": "code",
   "execution_count": 24,
   "metadata": {},
   "outputs": [
    {
     "name": "stderr",
     "output_type": "stream",
     "text": [
      "C:\\ProgramData\\Anaconda3\\lib\\site-packages\\pandas\\core\\indexing.py:845: SettingWithCopyWarning: \n",
      "A value is trying to be set on a copy of a slice from a DataFrame.\n",
      "Try using .loc[row_indexer,col_indexer] = value instead\n",
      "\n",
      "See the caveats in the documentation: https://pandas.pydata.org/pandas-docs/stable/user_guide/indexing.html#returning-a-view-versus-a-copy\n",
      "  self.obj[key] = _infer_fill_value(value)\n",
      "C:\\ProgramData\\Anaconda3\\lib\\site-packages\\pandas\\core\\indexing.py:966: SettingWithCopyWarning: \n",
      "A value is trying to be set on a copy of a slice from a DataFrame.\n",
      "Try using .loc[row_indexer,col_indexer] = value instead\n",
      "\n",
      "See the caveats in the documentation: https://pandas.pydata.org/pandas-docs/stable/user_guide/indexing.html#returning-a-view-versus-a-copy\n",
      "  self.obj[item] = s\n"
     ]
    }
   ],
   "source": [
    "sample.loc[:, 'word_count_no_stop'] = sample.loc[:, 'text'].apply(word_count)\n",
    "sample.loc[:, 'char_count_no_stop'] = sample.loc[:, 'text'].apply(char_count)"
   ]
  },
  {
   "cell_type": "code",
   "execution_count": 25,
   "metadata": {},
   "outputs": [
    {
     "data": {
      "text/plain": [
       "банка        275906\n",
       "банк         215426\n",
       "деньги       131201\n",
       "карту        105829\n",
       "карты        101821\n",
       "кредит        81136\n",
       "день          76552\n",
       "банке         72169\n",
       "заявление     70423\n",
       "очень         66824\n",
       "Name: 0, dtype: int64"
      ]
     },
     "execution_count": 25,
     "metadata": {},
     "output_type": "execute_result"
    }
   ],
   "source": [
    "words = [word for text in sample.text for word in text.split()]\n",
    "words_no_stop = pd.DataFrame(words)\n",
    "words_no_stop[0].value_counts().head(10)"
   ]
  },
  {
   "cell_type": "markdown",
   "metadata": {},
   "source": [
    "10 самых частых лемм\n",
    "Поскольку на компьютере под управлением ОС MS Windows лемматизация работает очень медленно (по предварительным оценкам, на лемматизацию первых 10 отзывов затрачивается 12,7 с, т.е., на лемматизацию одного отзыва затрачивается порядка 1,27 с), определим 10 самых частых лемм по первым 100 отзывам."
   ]
  },
  {
   "cell_type": "code",
   "execution_count": 26,
   "metadata": {},
   "outputs": [],
   "source": [
    "from pymystem3 import Mystem"
   ]
  },
  {
   "cell_type": "code",
   "execution_count": 27,
   "metadata": {},
   "outputs": [],
   "source": [
    "m = Mystem()\n",
    "def lemmatize(text, mystem=m):\n",
    "    try:\n",
    "        return \"\".join(m.lemmatize(text)).strip()  \n",
    "    except:\n",
    "        return \" \""
   ]
  },
  {
   "cell_type": "code",
   "execution_count": 28,
   "metadata": {},
   "outputs": [],
   "source": [
    "sample = df[['text']]"
   ]
  },
  {
   "cell_type": "code",
   "execution_count": 29,
   "metadata": {},
   "outputs": [],
   "source": [
    "small_sample = sample.head(100)"
   ]
  },
  {
   "cell_type": "code",
   "execution_count": 30,
   "metadata": {},
   "outputs": [
    {
     "data": {
      "text/plain": [
       "100"
      ]
     },
     "execution_count": 30,
     "metadata": {},
     "output_type": "execute_result"
    }
   ],
   "source": [
    "len(small_sample)"
   ]
  },
  {
   "cell_type": "code",
   "execution_count": 31,
   "metadata": {},
   "outputs": [
    {
     "data": {
      "text/html": [
       "<div>\n",
       "<style scoped>\n",
       "    .dataframe tbody tr th:only-of-type {\n",
       "        vertical-align: middle;\n",
       "    }\n",
       "\n",
       "    .dataframe tbody tr th {\n",
       "        vertical-align: top;\n",
       "    }\n",
       "\n",
       "    .dataframe thead th {\n",
       "        text-align: right;\n",
       "    }\n",
       "</style>\n",
       "<table border=\"1\" class=\"dataframe\">\n",
       "  <thead>\n",
       "    <tr style=\"text-align: right;\">\n",
       "      <th></th>\n",
       "      <th>text</th>\n",
       "    </tr>\n",
       "  </thead>\n",
       "  <tbody>\n",
       "    <tr>\n",
       "      <th>0</th>\n",
       "      <td>Добрый день! Я не являюсь клиентом банка и пор...</td>\n",
       "    </tr>\n",
       "    <tr>\n",
       "      <th>1</th>\n",
       "      <td>Доброго дня! Являюсь держателем зарплатной кар...</td>\n",
       "    </tr>\n",
       "    <tr>\n",
       "      <th>2</th>\n",
       "      <td>Здравствуйте!  Дублирую свое заявление от 03.0...</td>\n",
       "    </tr>\n",
       "    <tr>\n",
       "      <th>3</th>\n",
       "      <td>Добрый день!! Я открыл расчетный счет в СберБа...</td>\n",
       "    </tr>\n",
       "    <tr>\n",
       "      <th>4</th>\n",
       "      <td>04.03.2015 г. взяла кредит в вашем банке, заяв...</td>\n",
       "    </tr>\n",
       "  </tbody>\n",
       "</table>\n",
       "</div>"
      ],
      "text/plain": [
       "                                                text\n",
       "0  Добрый день! Я не являюсь клиентом банка и пор...\n",
       "1  Доброго дня! Являюсь держателем зарплатной кар...\n",
       "2  Здравствуйте!  Дублирую свое заявление от 03.0...\n",
       "3  Добрый день!! Я открыл расчетный счет в СберБа...\n",
       "4  04.03.2015 г. взяла кредит в вашем банке, заяв..."
      ]
     },
     "execution_count": 31,
     "metadata": {},
     "output_type": "execute_result"
    }
   ],
   "source": [
    "small_sample.head()"
   ]
  },
  {
   "cell_type": "code",
   "execution_count": 32,
   "metadata": {},
   "outputs": [
    {
     "name": "stdout",
     "output_type": "stream",
     "text": [
      "Wall time: 1min 54s\n"
     ]
    },
    {
     "name": "stderr",
     "output_type": "stream",
     "text": [
      "C:\\ProgramData\\Anaconda3\\lib\\site-packages\\pandas\\core\\generic.py:5303: SettingWithCopyWarning: \n",
      "A value is trying to be set on a copy of a slice from a DataFrame.\n",
      "Try using .loc[row_indexer,col_indexer] = value instead\n",
      "\n",
      "See the caveats in the documentation: https://pandas.pydata.org/pandas-docs/stable/user_guide/indexing.html#returning-a-view-versus-a-copy\n",
      "  self[name] = value\n"
     ]
    }
   ],
   "source": [
    "%%time \n",
    "small_sample.text = small_sample.text.apply(lemmatize)"
   ]
  },
  {
   "cell_type": "code",
   "execution_count": 33,
   "metadata": {},
   "outputs": [
    {
     "data": {
      "text/html": [
       "<div>\n",
       "<style scoped>\n",
       "    .dataframe tbody tr th:only-of-type {\n",
       "        vertical-align: middle;\n",
       "    }\n",
       "\n",
       "    .dataframe tbody tr th {\n",
       "        vertical-align: top;\n",
       "    }\n",
       "\n",
       "    .dataframe thead th {\n",
       "        text-align: right;\n",
       "    }\n",
       "</style>\n",
       "<table border=\"1\" class=\"dataframe\">\n",
       "  <thead>\n",
       "    <tr style=\"text-align: right;\">\n",
       "      <th></th>\n",
       "      <th>text</th>\n",
       "    </tr>\n",
       "  </thead>\n",
       "  <tbody>\n",
       "    <tr>\n",
       "      <th>0</th>\n",
       "      <td>добрый день! я не являться клиент банк и поруч...</td>\n",
       "    </tr>\n",
       "    <tr>\n",
       "      <th>1</th>\n",
       "      <td>добрый день! являться держатель зарплатной кар...</td>\n",
       "    </tr>\n",
       "    <tr>\n",
       "      <th>2</th>\n",
       "      <td>здравствовать!  дублировать свой заявление от ...</td>\n",
       "    </tr>\n",
       "    <tr>\n",
       "      <th>3</th>\n",
       "      <td>добрый день!! я открывать расчетный счет в сбе...</td>\n",
       "    </tr>\n",
       "    <tr>\n",
       "      <th>4</th>\n",
       "      <td>04.03.2015 г. взять кредит в ваш банк, заявлят...</td>\n",
       "    </tr>\n",
       "  </tbody>\n",
       "</table>\n",
       "</div>"
      ],
      "text/plain": [
       "                                                text\n",
       "0  добрый день! я не являться клиент банк и поруч...\n",
       "1  добрый день! являться держатель зарплатной кар...\n",
       "2  здравствовать!  дублировать свой заявление от ...\n",
       "3  добрый день!! я открывать расчетный счет в сбе...\n",
       "4  04.03.2015 г. взять кредит в ваш банк, заявлят..."
      ]
     },
     "execution_count": 33,
     "metadata": {},
     "output_type": "execute_result"
    }
   ],
   "source": [
    "small_sample.head()"
   ]
  },
  {
   "cell_type": "markdown",
   "metadata": {},
   "source": [
    "Удаление стоп-лемм"
   ]
  },
  {
   "cell_type": "code",
   "execution_count": 85,
   "metadata": {},
   "outputs": [],
   "source": [
    "mystoplemmas = stopwords.words('russian') + \\\n",
    "['это', 'наш' , 'тыс', 'млн', 'млрд', 'также',  'т', 'д', '-']\n",
    "def  remove_stoplemmas(text, mystoplemmas = mystoplemmas):\n",
    "    try:\n",
    "        return \" \".join([token for token in text.split() \n",
    "                         if not token in mystoplemmas])\n",
    "    except:\n",
    "        return \"\""
   ]
  },
  {
   "cell_type": "code",
   "execution_count": 86,
   "metadata": {},
   "outputs": [],
   "source": [
    "small_sample.text = small_sample.text.apply(remove_stoplemmas)"
   ]
  },
  {
   "cell_type": "code",
   "execution_count": 87,
   "metadata": {},
   "outputs": [
    {
     "data": {
      "text/plain": [
       "банк       192\n",
       "карта      111\n",
       "кредит      81\n",
       "весь        74\n",
       "счет        63\n",
       "сумма       62\n",
       "данный      60\n",
       "который     59\n",
       "свой        51\n",
       "мочь        51\n",
       "Name: 0, dtype: int64"
      ]
     },
     "execution_count": 87,
     "metadata": {},
     "output_type": "execute_result"
    }
   ],
   "source": [
    "lemmas = [lemma for text in small_sample.text for lemma in text.split()]\n",
    "lemmas_no_stop = pd.DataFrame(lemmas)\n",
    "lemmas_no_stop[0].value_counts().head(10)"
   ]
  },
  {
   "cell_type": "markdown",
   "metadata": {},
   "source": [
    "#### 4. Найдите 10 самых частых существительных"
   ]
  },
  {
   "cell_type": "code",
   "execution_count": 104,
   "metadata": {},
   "outputs": [
    {
     "name": "stdout",
     "output_type": "stream",
     "text": [
      "Collecting ufal.udpipe\n",
      "  Downloading ufal.udpipe-1.2.0.3-cp37-cp37m-win_amd64.whl (691 kB)\n",
      "Installing collected packages: ufal.udpipe\n",
      "Successfully installed ufal.udpipe-1.2.0.3\n"
     ]
    }
   ],
   "source": [
    "#!pip install ufal.udpipe"
   ]
  },
  {
   "cell_type": "code",
   "execution_count": 38,
   "metadata": {},
   "outputs": [],
   "source": [
    "from ufal.udpipe import Model, Pipeline"
   ]
  },
  {
   "cell_type": "code",
   "execution_count": 39,
   "metadata": {},
   "outputs": [],
   "source": [
    "model = Model.load(\"russian-ud-2.0-170801.udpipe\") # path to the model"
   ]
  },
  {
   "cell_type": "code",
   "execution_count": 40,
   "metadata": {},
   "outputs": [
    {
     "data": {
      "text/plain": [
       "<Swig Object of type 'model *' at 0x00000200664EA5B0>"
      ]
     },
     "execution_count": 40,
     "metadata": {},
     "output_type": "execute_result"
    }
   ],
   "source": [
    "model"
   ]
  },
  {
   "cell_type": "code",
   "execution_count": 41,
   "metadata": {},
   "outputs": [],
   "source": [
    "pipeline = Pipeline(model, 'generic_tokenizer', '', '', '')"
   ]
  },
  {
   "cell_type": "code",
   "execution_count": 195,
   "metadata": {},
   "outputs": [],
   "source": [
    "sample = df[['text']]"
   ]
  },
  {
   "cell_type": "code",
   "execution_count": 179,
   "metadata": {},
   "outputs": [
    {
     "data": {
      "text/plain": [
       "'Добрый день! Я не являюсь клиентом банка и поручителем по кредитному договору, а также не являюсь каким-либо другим лицом, письменно  оформившим отношения с банком по поводу урегулирования чьей-либо  задолженности.  Начиная с марта 2015 года начали приходить бесконечные письма из ООО \"Примо коллект\"на мой адрес: город Москва, Уваровский переулок, дом 10, квартира 111, с угрозами о возбуждении уголовного дела в отношении гражданина Филиппова Эдуарда Владимировича, который уклоняется от уплаты взятых им кредитов: договор № 81014 от 20.10.2013 года и договор № 2464946 от 09.10.2014 года. Со всей ответственностью\\xa0 хочу Вас заверить, что вышеуказанный гражданин, которого Вы разыскиваете, мне не знаком и никогда в моем адресе не был зарегистрирован. Каким образом Вы не удостоверившись в подлинности его документов оформили на его имя кредитный договор, мне по меньшей мере не понятно,\\xa0 и почему по Вашей милости я должна переживать и бояться за себе и свое имущество. Письма доставляют мне серьезные неудобства, нарушают мои гражданские права, а также нарушают закон о защите персональных данных. Убедительно прошу прекратить посылать на мой адрес письма с угрозами по вопросам, к которым я не имею отношения. В случае отклонения моей претензии буду вынуждена обратиться с жалобами в  другие органы: Росспотребнадзор, Центральный банк, Службу Финансового  омбудсмена. Кроме этого будет подано заявление в полицию и заявление в  суд возмещение причиненного мне морального вреда. Надеюсь на скорое решение моего вопроса.'"
      ]
     },
     "execution_count": 179,
     "metadata": {},
     "output_type": "execute_result"
    }
   ],
   "source": [
    "sample.text[0]"
   ]
  },
  {
   "cell_type": "code",
   "execution_count": 44,
   "metadata": {},
   "outputs": [],
   "source": [
    "parsed = pipeline.process(sample.text[0])"
   ]
  },
  {
   "cell_type": "code",
   "execution_count": 45,
   "metadata": {},
   "outputs": [
    {
     "data": {
      "text/plain": [
       "str"
      ]
     },
     "execution_count": 45,
     "metadata": {},
     "output_type": "execute_result"
    }
   ],
   "source": [
    "type(parsed)"
   ]
  },
  {
   "cell_type": "code",
   "execution_count": 46,
   "metadata": {},
   "outputs": [
    {
     "data": {
      "text/plain": [
       "'# newdoc\\n# newpar\\n# sent_id = 1\\n# text = Добрый день!\\n1\\tДобрый\\tДобрый\\tADJ\\tJJL\\tAnimacy=Inan|Case=Nom|Gender=Masc|Number=Sing\\t2\\tamod\\t_\\t_\\n2\\tдень\\tДЕНЬ\\tNOUN\\tNN\\tAnimacy=Inan|Case=Nom|Gender=Masc|Number=Sing\\t0\\troot\\t_\\tSpaceAfter=No\\n3\\t!\\t!\\tPUNCT\\t.\\t_\\t2\\tpunct\\t_\\t_\\n\\n# sent_id = 2\\n# text = Я не являюсь клиентом банка и поручителем по кредитному договору, а также не являюсь каким-либо другим лицом, письменно оформившим отношения с банком по поводу урегулирования чьей-либо задолженности.\\n1\\tЯ\\tЯ\\tPRON\\tPRP\\tCase=Nom|Number=Sing|Person=1\\t3\\tnsubj\\t_\\t_\\n2\\tне\\tНЕ\\tPART\\tNEG\\tPolarity=Neg\\t3\\tadvmod\\t_\\t_\\n3\\tявляюсь\\tявляюсь\\tVERB\\tVBG\\tAspect=Imp|VerbForm=Conv\\t24\\tacl\\t_\\t_\\n4\\tклиентом\\tклиентом\\tNOUN\\tNN\\tAnimacy=Inan|Case=Ins|Gender=Masc|Number=Sing\\t3\\tiobj\\t_\\t_\\n5\\tбанка\\tБАНК\\tNOUN\\tNN\\tAnimacy=Inan|Case=Gen|Gender=Masc|Number=Sing\\t4\\tnmod\\t_\\t_\\n6\\tи\\tИ\\tCCONJ\\tCC\\t_\\t7\\tcc\\t_\\t_\\n7\\tпоручителем\\tпорУЧИТЕЛЬ\\tNOUN\\tNN\\tAnimacy=Anim|Case=Ins|Gender=Masc|Number=Sing\\t4\\tconj\\t_\\t_\\n8\\tпо\\tПО\\tADP\\tIN\\t_\\t10\\tcase\\t_\\t_\\n9\\tкредитному\\tкредитному\\tADJ\\tJJL\\tAnimacy=Inan|Case=Dat|Gender=Masc|Number=Sing\\t10\\tamod\\t_\\t_\\n10\\tдоговору\\tДОГОВОР\\tNOUN\\tNN\\tAnimacy=Inan|Case=Dat|Gender=Masc|Number=Sing\\t4\\tnmod\\t_\\tSpaceAfter=No\\n11\\t,\\t,\\tPUNCT\\t,\\t_\\t15\\tpunct\\t_\\t_\\n12\\tа\\tА\\tCCONJ\\tCC\\t_\\t15\\tcc\\t_\\t_\\n13\\tтакже\\tТАКЖЕ\\tCCONJ\\tCC\\t_\\t12\\tfixed\\t_\\t_\\n14\\tне\\tНЕ\\tPART\\tNEG\\tPolarity=Neg\\t15\\tadvmod\\t_\\t_\\n15\\tявляюсь\\tявляюсь\\tVERB\\tVBG\\tAspect=Imp|VerbForm=Conv\\t23\\tadvcl\\t_\\t_\\n16\\tкаким\\tкАКОЙ\\tDET\\tDT\\tAnimacy=Inan|Case=Ins|Gender=Masc|Number=Sing\\t20\\tamod\\t_\\tSpaceAfter=No\\n17\\t-\\t-\\tPUNCT\\t-\\t_\\t16\\tgoeswith\\t_\\tSpaceAfter=No\\n18\\tлибо\\tЛИБО\\tADV\\tAFX\\t_\\t16\\tgoeswith\\t_\\t_\\n19\\tдругим\\tДРУГОЙ\\tADJ\\tJJL\\tAnimacy=Inan|Case=Ins|Gender=Masc|Number=Sing\\t20\\tamod\\t_\\t_\\n20\\tлицом\\tлицОМ\\tNOUN\\tNN\\tAnimacy=Inan|Case=Ins|Gender=Masc|Number=Sing\\t15\\tiobj\\t_\\tSpaceAfter=No\\n21\\t,\\t,\\tPUNCT\\t,\\t_\\t15\\tpunct\\t_\\t_\\n22\\tписьменно\\tписьменно\\tADV\\tRB\\t_\\t23\\tadvmod\\t_\\tSpacesAfter=\\\\s\\\\s\\n23\\tоформившим\\tоформившим\\tVERB\\tVBNL\\tAnimacy=Inan|Aspect=Imp|Case=Ins|Gender=Neut|Number=Sing|Tense=Past|VerbForm=Part|Voice=Act\\t24\\tacl\\t_\\t_\\n24\\tотношения\\tОТНОШЕНИЕ\\tNOUN\\tNN\\tAnimacy=Inan|Case=Nom|Gender=Neut|Number=Plur\\t0\\troot\\t_\\t_\\n25\\tс\\tС\\tADP\\tIN\\t_\\t26\\tcase\\t_\\t_\\n26\\tбанком\\tбанком\\tNOUN\\tNN\\tAnimacy=Inan|Case=Ins|Gender=Masc|Number=Sing\\t24\\tnmod\\t_\\t_\\n27\\tпо\\tПО\\tADP\\tIN\\t_\\t28\\tcase\\t_\\t_\\n28\\tповоду\\tПОВОД\\tNOUN\\tNN\\tAnimacy=Inan|Case=Dat|Gender=Masc|Number=Sing\\t26\\tnmod\\t_\\t_\\n29\\tурегулирования\\tурегулирования\\tNOUN\\tNN\\tAnimacy=Inan|Case=Gen|Gender=Neut|Number=Sing\\t28\\tnmod\\t_\\t_\\n30\\tчьей\\tчьей\\tNOUN\\tNN\\tAnimacy=Anim|Case=Gen|Gender=Masc|Number=Plur\\t29\\tnmod\\t_\\tSpaceAfter=No\\n31\\t-\\t-\\tPUNCT\\t-\\t_\\t30\\tgoeswith\\t_\\tSpaceAfter=No\\n32\\tлибо\\tЛИБО\\tADV\\tAFX\\t_\\t30\\tgoeswith\\t_\\tSpacesAfter=\\\\s\\\\s\\n33\\tзадолженности\\tзадолженности\\tNOUN\\tNN\\tAnimacy=Inan|Case=Gen|Gender=Fem|Number=Sing\\t30\\tnmod\\t_\\tSpaceAfter=No\\n34\\t.\\t.\\tPUNCT\\t.\\t_\\t24\\tpunct\\t_\\tSpacesAfter=\\\\s\\\\s\\n\\n# sent_id = 3\\n# text = Начиная с марта 2015 года начали приходить бесконечные письма из ООО \"Примо коллект\"на мой адрес: город Москва, Уваровский переулок, дом 10, квартира 111, с угрозами о возбуждении уголовного дела в отношении гражданина Филиппова Эдуарда Владимировича, который уклоняется от уплаты взятых им кредитов: договор № 81014 от 20.10.2013 года и договор № 2464946 от 09.10.2014 года.\\n1\\tНачиная\\tНАЧИНАТЬ\\tVERB\\tVBG\\tAspect=Imp|VerbForm=Conv\\t6\\tadvcl\\t_\\t_\\n2\\tс\\tС\\tADP\\tIN\\t_\\t3\\tcase\\t_\\t_\\n3\\tмарта\\tМАРТ\\tNOUN\\tNN\\tAnimacy=Inan|Case=Gen|Gender=Masc|Number=Sing\\t1\\tobl\\t_\\t_\\n4\\t2015\\t2015\\tNUM\\tCD\\tCase=Nom|NumType=Card\\t5\\tnummod:gov\\t_\\t_\\n5\\tгода\\tГОД\\tNOUN\\tNN\\tAnimacy=Inan|Case=Gen|Gender=Masc|Number=Sing\\t3\\tnmod\\t_\\t_\\n6\\tначали\\tНАЧАТЬ\\tVERB\\tVBC\\tAspect=Perf|Mood=Ind|Number=Plur|Tense=Past|VerbForm=Fin\\t0\\troot\\t_\\t_\\n7\\tприходить\\tприходить\\tVERB\\tVB\\tAspect=Imp|VerbForm=Inf\\t6\\txcomp\\t_\\t_\\n8\\tбесконечные\\tбесконечные\\tADJ\\tJJL\\tAnimacy=Inan|Case=Acc|Number=Plur\\t9\\tamod\\t_\\t_\\n9\\tписьма\\tПИСЬМО\\tNOUN\\tNN\\tAnimacy=Inan|Case=Acc|Gender=Neut|Number=Plur\\t7\\tobj\\t_\\t_\\n10\\tиз\\tИЗ\\tADP\\tIN\\t_\\t11\\tcase\\t_\\t_\\n11\\tООО\\tООО\\tPROPN\\tNNP\\tAnimacy=Inan|Case=Gen|Gender=Masc|Number=Sing\\t9\\tnmod\\t_\\t_\\n12\\t\"\\t\"\\tPUNCT\\t,\\t_\\t6\\tpunct\\t_\\tSpaceAfter=No\\n13\\tПримо\\tПримо\\tADP\\tIN\\t_\\t14\\tcase\\t_\\t_\\n14\\tколлект\\tколлект\\tNOUN\\tNN\\tAnimacy=Inan|Case=Acc|Gender=Masc|Number=Sing\\t19\\tnmod\\t_\\tSpaceAfter=No\\n15\\t\"\\t\"\\tPUNCT\\t,\\t_\\t14\\tpunct\\t_\\tSpaceAfter=No\\n16\\tна\\tНА\\tADP\\tIN\\t_\\t18\\tcase\\t_\\t_\\n17\\tмой\\tМОЙ\\tDET\\tPRP$\\tAnimacy=Anim|Case=Nom|Gender=Masc|Number=Sing|Person=1\\t18\\tamod\\t_\\t_\\n18\\tадрес\\tАДРЕС\\tNOUN\\tNN\\tAnimacy=Inan|Case=Nom|Gender=Masc|Number=Sing\\t19\\tnmod\\t_\\tSpaceAfter=No\\n19\\t:\\t:\\tPUNCT\\t:\\t_\\t6\\tpunct\\t_\\t_\\n20\\tгород\\tГОРОД\\tNOUN\\tNN\\tAnimacy=Inan|Case=Nom|Gender=Masc|Number=Sing\\t6\\tappos\\t_\\t_\\n21\\tМосква\\tМОСКВА\\tPROPN\\tNNP\\tAnimacy=Inan|Case=Nom|Gender=Fem|Number=Sing\\t20\\tappos\\t_\\tSpaceAfter=No\\n22\\t,\\t,\\tPUNCT\\t,\\t_\\t24\\tpunct\\t_\\t_\\n23\\tУваровский\\tУваровский\\tADJ\\tJJL\\tAnimacy=Inan|Case=Nom|Gender=Masc|Number=Sing\\t24\\tamod\\t_\\t_\\n24\\tпереулок\\tпереулок\\tNOUN\\tNN\\tAnimacy=Inan|Case=Nom|Gender=Masc|Number=Sing\\t20\\tconj\\t_\\tSpaceAfter=No\\n25\\t,\\t,\\tPUNCT\\t,\\t_\\t26\\tpunct\\t_\\t_\\n26\\tдом\\tДОМ\\tNOUN\\tNN\\tAnimacy=Inan|Case=Nom|Gender=Masc|Number=Sing\\t20\\tconj\\t_\\t_\\n27\\t10\\t10\\tNUM\\tCD\\tCase=Nom|NumType=Card\\t26\\tnummod\\t_\\tSpaceAfter=No\\n28\\t,\\t,\\tPUNCT\\t,\\t_\\t29\\tpunct\\t_\\t_\\n29\\tквартира\\tквартира\\tNOUN\\tNN\\tAnimacy=Inan|Case=Nom|Gender=Fem|Number=Sing\\t20\\tconj\\t_\\t_\\n30\\t111\\t111\\tNUM\\tCD\\tCase=Nom|NumType=Card\\t29\\tnummod\\t_\\tSpaceAfter=No\\n31\\t,\\t,\\tPUNCT\\t,\\t_\\t20\\tpunct\\t_\\t_\\n32\\tс\\tС\\tADP\\tIN\\t_\\t33\\tcase\\t_\\t_\\n33\\tугрозами\\tугрозами\\tNOUN\\tNN\\tAnimacy=Anim|Case=Ins|Gender=Masc|Number=Plur\\t20\\tnmod\\t_\\t_\\n34\\tо\\tО\\tADP\\tIN\\t_\\t35\\tcase\\t_\\t_\\n35\\tвозбуждении\\tвозбуждении\\tNOUN\\tNN\\tAnimacy=Inan|Case=Loc|Gender=Neut|Number=Sing\\t33\\tnmod\\t_\\t_\\n36\\tуголовного\\tУГОЛОВНЫЙ\\tADJ\\tJJL\\tAnimacy=Inan|Case=Gen|Gender=Neut|Number=Sing\\t37\\tamod\\t_\\t_\\n37\\tдела\\tДЕЛО\\tNOUN\\tNN\\tAnimacy=Inan|Case=Gen|Gender=Neut|Number=Sing\\t35\\tnmod\\t_\\t_\\n38\\tв\\tВ\\tADP\\tIN\\t_\\t39\\tcase\\t_\\t_\\n39\\tотношении\\tОТНОШЕНИЕ\\tNOUN\\tNN\\tAnimacy=Inan|Case=Loc|Gender=Neut|Number=Sing\\t6\\tobl\\t_\\t_\\n40\\tгражданина\\tГРАЖДАНИН\\tNOUN\\tNN\\tAnimacy=Anim|Case=Gen|Gender=Masc|Number=Sing\\t39\\tnmod\\t_\\t_\\n41\\tФилиппова\\tФилиппова\\tPROPN\\tNNP\\tAnimacy=Anim|Case=Gen|Gender=Masc|Number=Sing\\t40\\tappos\\t_\\t_\\n42\\tЭдуарда\\tЭДУАРД\\tPROPN\\tNNP\\tAnimacy=Anim|Case=Gen|Gender=Masc|Number=Sing\\t41\\tflat\\t_\\t_\\n43\\tВладимировича\\tВладимировича\\tPROPN\\tNNP\\tAnimacy=Anim|Case=Gen|Gender=Masc|Number=Sing\\t41\\tflat\\t_\\tSpaceAfter=No\\n44\\t,\\t,\\tPUNCT\\t,\\t_\\t46\\tpunct\\t_\\t_\\n45\\tкоторый\\tКОТОРЫЙ\\tPRON\\tAWP\\tAnimacy=Inan|Case=Nom|Gender=Masc|Number=Sing\\t46\\tnsubj\\t_\\t_\\n46\\tуклоняется\\tуклоняется\\tVERB\\tVBC\\tAspect=Imp|Mood=Ind|Number=Sing|Person=3|Tense=Pres|VerbForm=Fin|Voice=Mid\\t40\\tacl:relcl\\t_\\t_\\n47\\tот\\tОТ\\tADP\\tIN\\t_\\t48\\tcase\\t_\\t_\\n48\\tуплаты\\tУПЛАТА\\tNOUN\\tNN\\tAnimacy=Inan|Case=Gen|Gender=Fem|Number=Sing\\t46\\tobl\\t_\\t_\\n49\\tвзятых\\tвзятых\\tVERB\\tVBNL\\tAnimacy=Inan|Aspect=Perf|Case=Gen|Number=Plur|Tense=Past|VerbForm=Part|Voice=Pass\\t51\\tacl\\t_\\t_\\n50\\tим\\tОНИ\\tPRON\\tPRP\\tCase=Ins|Gender=Masc|Number=Sing|Person=3\\t49\\tiobj\\t_\\t_\\n51\\tкредитов\\tТИкредОВ\\tNOUN\\tNN\\tAnimacy=Inan|Case=Gen|Gender=Masc|Number=Plur\\t48\\tnmod\\t_\\tSpaceAfter=No\\n52\\t:\\t:\\tPUNCT\\t:\\t_\\t46\\tpunct\\t_\\t_\\n53\\tдоговор\\tДОГОВОР\\tNOUN\\tNN\\tAnimacy=Inan|Case=Nom|Gender=Masc|Number=Sing\\t46\\tnsubj\\t_\\t_\\n54\\t№\\t№\\tSYM\\tSYM\\t_\\t55\\tpunct\\t_\\t_\\n55\\t81014\\t81014\\tNUM\\tCD\\tCase=Nom|NumType=Card\\t53\\tappos\\t_\\t_\\n56\\tот\\tОТ\\tADP\\tIN\\t_\\t60\\tcase\\t_\\t_\\n57\\t20.10\\t20.10\\tNUM\\tCD\\tCase=Nom|NumType=Card\\t60\\tnummod:gov\\t_\\tSpaceAfter=No\\n58\\t.\\t.\\tPUNCT\\t.\\t_\\t57\\tpunct\\t_\\tSpaceAfter=No\\n59\\t2013\\t2013\\tADJ\\tORD\\tAnimacy=Inan|Case=Gen|Gender=Masc|Number=Sing\\t60\\tamod\\t_\\t_\\n60\\tгода\\tГОД\\tNOUN\\tNN\\tAnimacy=Inan|Case=Gen|Gender=Masc|Number=Sing\\t55\\tnmod\\t_\\t_\\n61\\tи\\tИ\\tCCONJ\\tCC\\t_\\t62\\tcc\\t_\\t_\\n62\\tдоговор\\tДОГОВОР\\tNOUN\\tNN\\tAnimacy=Inan|Case=Nom|Gender=Masc|Number=Sing\\t60\\tconj\\t_\\t_\\n63\\t№\\t№\\tSYM\\tSYM\\t_\\t64\\tpunct\\t_\\t_\\n64\\t2464946\\t2464946\\tNUM\\tCD\\tCase=Nom|NumType=Card\\t62\\tconj\\t_\\t_\\n65\\tот\\tОТ\\tADP\\tIN\\t_\\t66\\tcase\\t_\\t_\\n66\\t09.10\\t09.10\\tNUM\\tCD\\tCase=Nom|NumType=Card\\t62\\tnmod\\t_\\tSpaceAfter=No\\n67\\t.\\t.\\tPUNCT\\t.\\t_\\t66\\tpunct\\t_\\tSpaceAfter=No\\n68\\t2014\\t2014\\tNUM\\tCD\\tCase=Nom|NumType=Card\\t69\\tnummod:gov\\t_\\t_\\n69\\tгода\\tГОД\\tNOUN\\tNN\\tAnimacy=Inan|Case=Gen|Gender=Masc|Number=Sing\\t62\\tnmod\\t_\\tSpaceAfter=No\\n70\\t.\\t.\\tPUNCT\\t.\\t_\\t6\\tpunct\\t_\\t_\\n\\n# sent_id = 4\\n# text = Со всей ответственностью хочу Вас заверить, что вышеуказанный гражданин, которого Вы разыскиваете, мне не знаком и никогда в моем адресе не был зарегистрирован.\\n1\\tСо\\tСО\\tADP\\tIN\\t_\\t3\\tcase\\t_\\t_\\n2\\tвсей\\tВЕСЬ\\tDET\\tDT\\tAnimacy=Inan|Case=Dat|Gender=Fem|Number=Sing\\t3\\tdet\\t_\\t_\\n3\\tответственностью\\tответственностью\\tNOUN\\tNN\\tAnimacy=Inan|Case=Ins|Gender=Fem|Number=Sing\\t6\\tobl\\t_\\tSpacesAfter=\\xa0\\\\s\\n4\\tхочу\\tхочу\\tADP\\tIN\\t_\\t5\\tcase\\t_\\t_\\n5\\tВас\\tВЫ\\tPRON\\tPRP\\tCase=Acc|Number=Plur|Person=2\\t6\\tobl\\t_\\t_\\n6\\tзаверить\\tзаверить\\tVERB\\tVB\\tAspect=Perf|VerbForm=Inf\\t0\\troot\\t_\\tSpaceAfter=No\\n7\\t,\\t,\\tPUNCT\\t,\\t_\\t10\\tpunct\\t_\\t_\\n8\\tчто\\tЧТО\\tSCONJ\\tIN\\t_\\t10\\tmark\\t_\\t_\\n9\\tвышеуказанный\\tвышеуказанный\\tVERB\\tVBNL\\tAnimacy=Inan|Aspect=Perf|Case=Acc|Gender=Masc|Number=Sing|Tense=Past|VerbForm=Part|Voice=Pass\\t10\\tacl\\t_\\t_\\n10\\tгражданин\\tГРАЖДАНИН\\tNOUN\\tNN\\tAnimacy=Inan|Case=Acc|Gender=Masc|Number=Sing\\t6\\tccomp\\t_\\tSpaceAfter=No\\n11\\t,\\t,\\tPUNCT\\t,\\t_\\t14\\tpunct\\t_\\t_\\n12\\tкоторого\\tКОТОРЫЙ\\tPRON\\tAWP\\tAnimacy=Anim|Case=Acc|Gender=Masc|Number=Sing\\t14\\tobj\\t_\\t_\\n13\\tВы\\tВЫ\\tPRON\\tPRP\\tCase=Nom|Number=Plur|Person=2\\t14\\tnsubj\\t_\\t_\\n14\\tразыскиваете\\tразыскиваете\\tVERB\\tVBC\\tAspect=Imp|Mood=Ind|Number=Plur|Person=2|Tense=Pres|VerbForm=Fin\\t10\\tacl:relcl\\t_\\tSpaceAfter=No\\n15\\t,\\t,\\tPUNCT\\t,\\t_\\t18\\tpunct\\t_\\t_\\n16\\tмне\\tЯ\\tPRON\\tPRP\\tCase=Dat|Number=Sing|Person=1\\t18\\tiobj\\t_\\t_\\n17\\tне\\tНЕ\\tPART\\tNEG\\tPolarity=Neg\\t18\\tadvmod\\t_\\t_\\n18\\tзнаком\\tЗНАКОМЫЙ\\tADJ\\tJJH\\tAnimacy=Anim|Case=Nom|Gender=Masc|Number=Sing|Variant=Short\\t14\\tconj\\t_\\t_\\n19\\tи\\tИ\\tCCONJ\\tCC\\t_\\t26\\tcc\\t_\\t_\\n20\\tникогда\\tНИКОГДА\\tADV\\tRB\\t_\\t23\\tadvmod\\t_\\t_\\n21\\tв\\tВ\\tADP\\tIN\\t_\\t23\\tcase\\t_\\t_\\n22\\tмоем\\tмОЙ\\tADJ\\tJJL\\tAnimacy=Inan|Case=Loc|Gender=Masc|Number=Sing\\t23\\tamod\\t_\\t_\\n23\\tадресе\\tадрЕСА\\tNOUN\\tNN\\tAnimacy=Inan|Case=Loc|Gender=Masc|Number=Sing\\t26\\tobl\\t_\\t_\\n24\\tне\\tНЕ\\tPART\\tNEG\\tPolarity=Neg\\t26\\tadvmod\\t_\\t_\\n25\\tбыл\\tБЫТЬ\\tAUX\\tVBC\\tAspect=Imp|Gender=Masc|Mood=Ind|Number=Sing|Tense=Past|VerbForm=Fin\\t26\\taux:pass\\t_\\t_\\n26\\tзарегистрирован\\tЗАРЕГИСТРИРОВАТЬ\\tVERB\\tVBNH\\tAnimacy=Inan|Aspect=Perf|Case=Nom|Gender=Masc|Number=Sing|Tense=Past|Variant=Short|VerbForm=Part|Voice=Pass\\t18\\tconj\\t_\\tSpaceAfter=No\\n27\\t.\\t.\\tPUNCT\\t.\\t_\\t6\\tpunct\\t_\\t_\\n\\n# sent_id = 5\\n# text = Каким образом Вы не удостоверившись в подлинности его документов оформили на его имя кредитный договор, мне по меньшей мере не понятно, и почему по Вашей милости я должна переживать и бояться за себе и свое имущество.\\n1\\tКаким\\tКАКОЙ\\tDET\\tDT\\tAnimacy=Inan|Case=Ins|Gender=Masc|Number=Sing\\t2\\tdet\\t_\\t_\\n2\\tобразом\\tОБРАЗ\\tNOUN\\tNN\\tAnimacy=Inan|Case=Ins|Gender=Masc|Number=Sing\\t5\\tadvmod\\t_\\t_\\n3\\tВы\\tВЫ\\tPRON\\tPRP\\tCase=Nom|Number=Plur|Person=2\\t5\\tnsubj\\t_\\t_\\n4\\tне\\tНЕ\\tPART\\tNEG\\tPolarity=Neg\\t5\\tadvmod\\t_\\t_\\n5\\tудостоверившись\\tудостоверившись\\tVERB\\tVB\\tAspect=Imp|VerbForm=Inf|Voice=Mid\\t0\\troot\\t_\\t_\\n6\\tв\\tВ\\tADP\\tIN\\t_\\t7\\tcase\\t_\\t_\\n7\\tподлинности\\tподлинности\\tNOUN\\tNN\\tAnimacy=Inan|Case=Loc|Gender=Fem|Number=Sing\\t5\\tobl\\t_\\t_\\n8\\tего\\tЕГО\\tDET\\tPRP$\\tPerson=3\\t9\\tdet\\t_\\t_\\n9\\tдокументов\\tДОКУМЕНТ\\tNOUN\\tNN\\tAnimacy=Inan|Case=Gen|Gender=Masc|Number=Plur\\t15\\tnmod\\t_\\t_\\n10\\tоформили\\tофорМИЛИ\\tCCONJ\\tCC\\t_\\t15\\tcc\\t_\\t_\\n11\\tна\\tНА\\tADP\\tIN\\t_\\t13\\tcase\\t_\\t_\\n12\\tего\\tЕГО\\tDET\\tPRP$\\tPerson=3\\t13\\tdet\\t_\\t_\\n13\\tимя\\tИМЯ\\tNOUN\\tNN\\tAnimacy=Inan|Case=Acc|Gender=Neut|Number=Sing\\t15\\tnmod\\t_\\t_\\n14\\tкредитный\\tкредитный\\tADJ\\tJJL\\tAnimacy=Inan|Case=Acc|Gender=Masc|Number=Sing\\t15\\tamod\\t_\\t_\\n15\\tдоговор\\tДОГОВОР\\tNOUN\\tNN\\tAnimacy=Inan|Case=Acc|Gender=Masc|Number=Sing\\t7\\tappos\\t_\\tSpaceAfter=No\\n16\\t,\\t,\\tPUNCT\\t,\\t_\\t22\\tpunct\\t_\\t_\\n17\\tмне\\tЯ\\tPRON\\tPRP\\tCase=Dat|Number=Sing|Person=1\\t22\\tobj\\t_\\t_\\n18\\tпо\\tПО\\tADP\\tIN\\t_\\t20\\tcase\\t_\\t_\\n19\\tменьшей\\tМЕНЬШИЙ\\tADJ\\tJJRL\\tAnimacy=Inan|Case=Dat|Gender=Fem|Number=Sing\\t20\\tamod\\t_\\t_\\n20\\tмере\\tМЕРА\\tNOUN\\tNN\\tAnimacy=Inan|Case=Dat|Gender=Fem|Number=Sing\\t22\\tnmod\\t_\\t_\\n21\\tне\\tНЕ\\tPART\\tNEG\\tPolarity=Neg\\t22\\tadvmod\\t_\\t_\\n22\\tпонятно\\tпонятно\\tADV\\tRB\\t_\\t15\\tconj\\t_\\tSpaceAfter=No\\n23\\t,\\t,\\tPUNCT\\t,\\t_\\t30\\tpunct\\t_\\tSpacesAfter=\\xa0\\\\s\\n24\\tи\\tИ\\tCCONJ\\tCC\\t_\\t30\\tcc\\t_\\t_\\n25\\tпочему\\tПОЧЕМУ\\tSCONJ\\tIN\\t_\\t30\\tmark\\t_\\t_\\n26\\tпо\\tПО\\tADP\\tIN\\t_\\t28\\tcase\\t_\\t_\\n27\\tВашей\\tВашей\\tDET\\tPRP$\\tAnimacy=Inan|Case=Ins|Gender=Fem|Number=Sing|Person=1\\t28\\tdet\\t_\\t_\\n28\\tмилости\\tМИЛОСТЬ\\tNOUN\\tNN\\tAnimacy=Inan|Case=Loc|Gender=Fem|Number=Sing\\t30\\tnmod\\t_\\t_\\n29\\tя\\tЙ\\tPRON\\tPRP\\tCase=Nom|Number=Sing|Person=1\\t30\\tnsubj\\t_\\t_\\n30\\tдолжна\\tДОЛЖЕН\\tADJ\\tJJH\\tAnimacy=Inan|Case=Nom|Gender=Fem|Number=Sing|Variant=Short\\t15\\tconj\\t_\\t_\\n31\\tпереживать\\tпереживать\\tVERB\\tVB\\tAspect=Imp|VerbForm=Inf\\t30\\txcomp\\t_\\t_\\n32\\tи\\tИ\\tCCONJ\\tCC\\t_\\t33\\tcc\\t_\\t_\\n33\\tбояться\\tбояться\\tVERB\\tVB\\tAspect=Imp|VerbForm=Inf|Voice=Mid\\t31\\tconj\\t_\\t_\\n34\\tза\\tЗА\\tADP\\tIN\\t_\\t35\\tcase\\t_\\t_\\n35\\tсебе\\tСЕБЯ\\tPRON\\tPRP\\tCase=Loc|Reflex=Yes\\t33\\tobl\\t_\\t_\\n36\\tи\\tИ\\tCCONJ\\tCC\\t_\\t38\\tcc\\t_\\t_\\n37\\tсвое\\tСВОЙ\\tDET\\tPRP$\\tAnimacy=Inan|Case=Acc|Gender=Neut|Number=Sing|Reflex=Yes\\t38\\tdet\\t_\\t_\\n38\\tимущество\\tИМУЩЕСТВО\\tNOUN\\tNN\\tAnimacy=Inan|Case=Acc|Gender=Neut|Number=Sing\\t31\\tconj\\t_\\tSpaceAfter=No\\n39\\t.\\t.\\tPUNCT\\t.\\t_\\t5\\tpunct\\t_\\t_\\n\\n# sent_id = 6\\n# text = Письма доставляют мне серьезные неудобства, нарушают мои гражданские права, а также нарушают закон о защите персональных данных.\\n1\\tПисьма\\tПИСЬМО\\tADV\\tRB\\t_\\t2\\tadvmod\\t_\\t_\\n2\\tдоставляют\\tдоставляют\\tVERB\\tVBC\\tAspect=Imp|Mood=Ind|Number=Plur|Person=3|Tense=Pres|VerbForm=Fin\\t0\\troot\\t_\\t_\\n3\\tмне\\tЯ\\tPRON\\tPRP\\tCase=Dat|Number=Sing|Person=1\\t2\\tobj\\t_\\t_\\n4\\tсерьезные\\tСЕРЬЕЗНЫЙ\\tADJ\\tJJL\\tAnimacy=Inan|Case=Nom|Number=Plur\\t5\\tamod\\t_\\t_\\n5\\tнеудобства\\tнеудобства\\tNOUN\\tNN\\tAnimacy=Inan|Case=Nom|Gender=Neut|Number=Plur\\t7\\tnsubj\\t_\\tSpaceAfter=No\\n6\\t,\\t,\\tPUNCT\\t,\\t_\\t5\\tpunct\\t_\\t_\\n7\\tнарушают\\tнарушают\\tVERB\\tVBC\\tAspect=Imp|Mood=Ind|Number=Plur|Person=3|Tense=Pres|VerbForm=Fin\\t2\\tparataxis\\t_\\t_\\n8\\tмои\\tмои\\tDET\\tPRP$\\tAnimacy=Inan|Case=Acc|Number=Plur|Reflex=Yes\\t10\\tdet\\t_\\t_\\n9\\tгражданские\\tГРАЖДАНСКИЙ\\tADJ\\tJJL\\tAnimacy=Inan|Case=Acc|Number=Plur\\t10\\tamod\\t_\\t_\\n10\\tправа\\tПРАВО\\tNOUN\\tNN\\tAnimacy=Inan|Case=Acc|Gender=Neut|Number=Plur\\t7\\tobj\\t_\\tSpaceAfter=No\\n11\\t,\\t,\\tPUNCT\\t,\\t_\\t14\\tpunct\\t_\\t_\\n12\\tа\\tА\\tCCONJ\\tCC\\t_\\t14\\tcc\\t_\\t_\\n13\\tтакже\\tТАКЖЕ\\tCCONJ\\tCC\\t_\\t12\\tfixed\\t_\\t_\\n14\\tнарушают\\tнарушают\\tVERB\\tVBC\\tAspect=Imp|Mood=Ind|Number=Plur|Person=3|Tense=Pres|VerbForm=Fin\\t7\\tconj\\t_\\t_\\n15\\tзакон\\tЗАКОН\\tNOUN\\tNN\\tAnimacy=Inan|Case=Acc|Gender=Masc|Number=Sing\\t14\\tobj\\t_\\t_\\n16\\tо\\tО\\tADP\\tIN\\t_\\t17\\tcase\\t_\\t_\\n17\\tзащите\\tЗАЩИТА\\tNOUN\\tNN\\tAnimacy=Inan|Case=Loc|Gender=Masc|Number=Sing\\t15\\tnmod\\t_\\t_\\n18\\tперсональных\\tПЕРСОНАЛЬНЫЙ\\tADJ\\tJJL\\tAnimacy=Inan|Case=Gen|Number=Plur\\t19\\tamod\\t_\\t_\\n19\\tданных\\tДАННЫЕ\\tNOUN\\tNN\\tAnimacy=Inan|Case=Gen|Gender=Neut|Number=Plur\\t17\\tnmod\\t_\\tSpaceAfter=No\\n20\\t.\\t.\\tPUNCT\\t.\\t_\\t2\\tpunct\\t_\\t_\\n\\n# sent_id = 7\\n# text = Убедительно прошу прекратить посылать на мой адрес письма с угрозами по вопросам, к которым я не имею отношения.\\n1\\tУбедительно\\tУбедительно\\tADV\\tRB\\t_\\t0\\troot\\t_\\t_\\n2\\tпрошу\\tпрошУ\\tNOUN\\tNN\\tAnimacy=Inan|Case=Acc|Gender=Fem|Number=Sing\\t1\\tobj\\t_\\t_\\n3\\tпрекратить\\tПРЕКРАТИТЬ\\tVERB\\tVB\\tAspect=Perf|VerbForm=Inf\\t2\\tacl\\t_\\t_\\n4\\tпосылать\\tпосылать\\tVERB\\tVB\\tAspect=Imp|VerbForm=Inf\\t19\\tacl\\t_\\t_\\n5\\tна\\tНА\\tADP\\tIN\\t_\\t7\\tcase\\t_\\t_\\n6\\tмой\\tМОЙ\\tDET\\tPRP$\\tAnimacy=Anim|Case=Nom|Gender=Masc|Number=Sing|Person=1\\t7\\tamod\\t_\\t_\\n7\\tадрес\\tАДРЕС\\tNOUN\\tNN\\tAnimacy=Inan|Case=Nom|Gender=Masc|Number=Sing\\t4\\tobl\\t_\\t_\\n8\\tписьма\\tПИСЬМО\\tADV\\tRB\\t_\\t4\\tadvmod\\t_\\t_\\n9\\tс\\tС\\tADP\\tIN\\t_\\t10\\tcase\\t_\\t_\\n10\\tугрозами\\tугрозами\\tNOUN\\tNN\\tAnimacy=Anim|Case=Ins|Gender=Masc|Number=Plur\\t4\\tobl\\t_\\t_\\n11\\tпо\\tПО\\tADP\\tIN\\t_\\t12\\tcase\\t_\\t_\\n12\\tвопросам\\tВОПРОС\\tNOUN\\tNN\\tAnimacy=Inan|Case=Dat|Gender=Masc|Number=Plur\\t19\\tnmod\\t_\\tSpaceAfter=No\\n13\\t,\\t,\\tPUNCT\\t,\\t_\\t18\\tpunct\\t_\\t_\\n14\\tк\\tК\\tADP\\tIN\\t_\\t15\\tcase\\t_\\t_\\n15\\tкоторым\\tКОТОРЫЙ\\tPRON\\tAWP\\tAnimacy=Inan|Case=Dat|Number=Plur\\t18\\tnmod\\t_\\t_\\n16\\tя\\tЯ\\tPRON\\tPRP\\tCase=Nom|Number=Sing|Person=1\\t18\\tnsubj\\t_\\t_\\n17\\tне\\tНЕ\\tPART\\tNEG\\tPolarity=Neg\\t18\\tadvmod\\t_\\t_\\n18\\tимею\\tимею\\tADJ\\tJJL\\tAnimacy=Inan|Case=Acc|Gender=Fem|Number=Sing\\t19\\tamod\\t_\\t_\\n19\\tотношения\\tОТНОШЕНИЕ\\tNOUN\\tNN\\tAnimacy=Inan|Case=Acc|Gender=Neut|Number=Plur\\t3\\tobj\\t_\\tSpaceAfter=No\\n20\\t.\\t.\\tPUNCT\\t.\\t_\\t1\\tpunct\\t_\\t_\\n\\n# sent_id = 8\\n# text = В случае отклонения моей претензии буду вынуждена обратиться с жалобами в другие органы: Росспотребнадзор, Центральный банк, Службу Финансового омбудсмена.\\n1\\tВ\\tВ\\tADP\\tIN\\t_\\t2\\tcase\\t_\\t_\\n2\\tслучае\\tСЛУЧАЙ\\tNOUN\\tNN\\tAnimacy=Inan|Case=Loc|Gender=Masc|Number=Sing\\t7\\tobl\\t_\\t_\\n3\\tотклонения\\tотклонения\\tNOUN\\tNN\\tAnimacy=Inan|Case=Gen|Gender=Neut|Number=Sing\\t2\\tnmod\\t_\\t_\\n4\\tмоей\\tМОЙ\\tDET\\tPRP$\\tAnimacy=Inan|Case=Gen|Gender=Fem|Number=Sing|Reflex=Yes\\t5\\tdet\\t_\\t_\\n5\\tпретензии\\tпретензии\\tNOUN\\tNN\\tAnimacy=Inan|Case=Gen|Gender=Fem|Number=Sing\\t3\\tnmod\\t_\\t_\\n6\\tбуду\\tбуду\\tADP\\tIN\\t_\\t7\\tcase\\t_\\t_\\n7\\tвынуждена\\tвынуждена\\tVERB\\tVBNH\\tAnimacy=Anim|Aspect=Perf|Case=Nom|Gender=Fem|Number=Sing|Tense=Past|Variant=Short|VerbForm=Part|Voice=Pass\\t0\\troot\\t_\\t_\\n8\\tобратиться\\tобратиться\\tVERB\\tVB\\tAspect=Perf|VerbForm=Inf|Voice=Mid\\t7\\txcomp\\t_\\t_\\n9\\tс\\tС\\tADP\\tIN\\t_\\t10\\tcase\\t_\\t_\\n10\\tжалобами\\tЖАЛОБА\\tNOUN\\tNN\\tAnimacy=Inan|Case=Ins|Gender=Fem|Number=Plur\\t8\\tobl\\t_\\t_\\n11\\tв\\tВ\\tADP\\tIN\\t_\\t13\\tcase\\t_\\tSpacesAfter=\\\\s\\\\s\\n12\\tдругие\\tДРУГОЙ\\tADJ\\tJJL\\tAnimacy=Inan|Case=Acc|Number=Plur\\t13\\tamod\\t_\\t_\\n13\\tорганы\\tОРГАН\\tNOUN\\tNN\\tAnimacy=Inan|Case=Acc|Gender=Masc|Number=Plur\\t8\\tobl\\t_\\tSpaceAfter=No\\n14\\t:\\t:\\tPUNCT\\t:\\t_\\t13\\tpunct\\t_\\t_\\n15\\tРосспотребнадзор\\tРосспотребНАДЗОР\\tPROPN\\tNNP\\tAnimacy=Inan|Case=Nom|Gender=Masc|Number=Sing\\t13\\tappos\\t_\\tSpaceAfter=No\\n16\\t,\\t,\\tPUNCT\\t,\\t_\\t18\\tpunct\\t_\\t_\\n17\\tЦентральный\\tЦЕНТРАЛЬНЫЙ\\tADJ\\tJJL\\tAnimacy=Inan|Case=Nom|Gender=Masc|Number=Sing\\t18\\tamod\\t_\\t_\\n18\\tбанк\\tБАНК\\tNOUN\\tNN\\tAnimacy=Inan|Case=Nom|Gender=Masc|Number=Sing\\t15\\tconj\\t_\\tSpaceAfter=No\\n19\\t,\\t,\\tPUNCT\\t,\\t_\\t20\\tpunct\\t_\\t_\\n20\\tСлужбу\\tСЛУЖБА\\tNOUN\\tNN\\tAnimacy=Inan|Case=Acc|Gender=Fem|Number=Sing\\t15\\tconj\\t_\\t_\\n21\\tФинансового\\tФинансового\\tADJ\\tJJL\\tAnimacy=Inan|Case=Gen|Gender=Masc|Number=Sing\\t22\\tamod\\t_\\tSpacesAfter=\\\\s\\\\s\\n22\\tомбудсмена\\tомбудСМЕНА\\tNOUN\\tNN\\tAnimacy=Inan|Case=Gen|Gender=Masc|Number=Sing\\t20\\tnmod\\t_\\tSpaceAfter=No\\n23\\t.\\t.\\tPUNCT\\t.\\t_\\t7\\tpunct\\t_\\t_\\n\\n# sent_id = 9\\n# text = Кроме этого будет подано заявление в полицию и заявление в суд возмещение причиненного мне морального вреда.\\n1\\tКроме\\tКРОМЕ\\tADP\\tIN\\t_\\t2\\tcase\\t_\\t_\\n2\\tэтого\\tЭТО\\tPRON\\tDT\\tAnimacy=Inan|Case=Gen|Gender=Neut|Number=Sing\\t4\\tobl\\t_\\t_\\n3\\tбудет\\tБЫТЬ\\tAUX\\tVBC\\tAspect=Imp|Mood=Ind|Number=Sing|Person=3|Tense=Fut|VerbForm=Fin\\t4\\taux:pass\\t_\\t_\\n4\\tподано\\tподано\\tVERB\\tVBNH\\tAnimacy=Inan|Aspect=Perf|Case=Nom|Gender=Neut|Number=Sing|Tense=Past|Variant=Short|VerbForm=Part|Voice=Pass\\t0\\troot\\t_\\t_\\n5\\tзаявление\\tЗАЯВЛЕНИЕ\\tNOUN\\tNN\\tAnimacy=Inan|Case=Nom|Gender=Neut|Number=Sing\\t4\\tnsubj:pass\\t_\\t_\\n6\\tв\\tВ\\tADP\\tIN\\t_\\t7\\tcase\\t_\\t_\\n7\\tполицию\\tполицию\\tNOUN\\tNN\\tAnimacy=Inan|Case=Acc|Gender=Fem|Number=Sing\\t5\\tnmod\\t_\\t_\\n8\\tи\\tИ\\tCCONJ\\tCC\\t_\\t9\\tcc\\t_\\t_\\n9\\tзаявление\\tЗАЯВЛЕНИЕ\\tNOUN\\tNN\\tAnimacy=Inan|Case=Acc|Gender=Neut|Number=Sing\\t7\\tconj\\t_\\t_\\n10\\tв\\tВ\\tADP\\tIN\\t_\\t11\\tcase\\t_\\tSpacesAfter=\\\\s\\\\s\\n11\\tсуд\\tСУД\\tNOUN\\tNN\\tAnimacy=Inan|Case=Acc|Gender=Masc|Number=Sing\\t4\\tobl\\t_\\t_\\n12\\tвозмещение\\tвозмещение\\tNOUN\\tNN\\tAnimacy=Inan|Case=Acc|Gender=Neut|Number=Sing\\t4\\tobj\\t_\\t_\\n13\\tпричиненного\\tпричиненного\\tVERB\\tVBNL\\tAnimacy=Anim|Aspect=Perf|Case=Gen|Gender=Masc|Number=Sing|Tense=Past|VerbForm=Part|Voice=Pass\\t16\\tacl\\t_\\t_\\n14\\tмне\\tЯ\\tADV\\tRB\\t_\\t13\\tadvmod\\t_\\t_\\n15\\tморального\\tМОРАЛЬНЫЙ\\tADJ\\tJJL\\tAnimacy=Inan|Case=Gen|Gender=Masc|Number=Sing\\t16\\tamod\\t_\\t_\\n16\\tвреда\\tвреда\\tNOUN\\tNN\\tAnimacy=Inan|Case=Gen|Gender=Masc|Number=Sing\\t12\\tnmod\\t_\\tSpaceAfter=No\\n17\\t.\\t.\\tPUNCT\\t.\\t_\\t4\\tpunct\\t_\\t_\\n\\n# sent_id = 10\\n# text = Надеюсь на скорое решение моего вопроса.\\n1\\tНадеюсь\\tНадеюсь\\tVERB\\tVBG\\tAspect=Imp|VerbForm=Conv\\t0\\troot\\t_\\t_\\n2\\tна\\tНА\\tADP\\tIN\\t_\\t4\\tcase\\t_\\t_\\n3\\tскорое\\tскорое\\tADJ\\tORD\\tAnimacy=Inan|Case=Acc|Gender=Neut|Number=Sing\\t4\\tamod\\t_\\t_\\n4\\tрешение\\tРЕШЕНИЕ\\tNOUN\\tNN\\tAnimacy=Inan|Case=Acc|Gender=Neut|Number=Sing\\t1\\tobl\\t_\\t_\\n5\\tмоего\\tмоего\\tDET\\tPRP$\\tAnimacy=Inan|Case=Gen|Gender=Masc|Number=Sing|Reflex=Yes\\t6\\tdet\\t_\\t_\\n6\\tвопроса\\tвопроса\\tNOUN\\tNN\\tAnimacy=Inan|Case=Gen|Gender=Masc|Number=Sing\\t4\\tnmod\\t_\\tSpaceAfter=No\\n7\\t.\\t.\\tPUNCT\\t.\\t_\\t1\\tpunct\\t_\\tSpacesAfter=\\\\n\\n\\n'"
      ]
     },
     "execution_count": 46,
     "metadata": {},
     "output_type": "execute_result"
    }
   ],
   "source": [
    "parsed"
   ]
  },
  {
   "cell_type": "code",
   "execution_count": 47,
   "metadata": {},
   "outputs": [
    {
     "name": "stdout",
     "output_type": "stream",
     "text": [
      "# newdoc\n",
      "# newpar\n",
      "# sent_id = 1\n",
      "# text = Добрый день!\n",
      "1\tДобрый\tДобрый\tADJ\tJJL\tAnimacy=Inan|Case=Nom|Gender=Masc|Number=Sing\t2\tamod\t_\t_\n",
      "2\tдень\tДЕНЬ\tNOUN\tNN\tAnimacy=Inan|Case=Nom|Gender=Masc|Number=Sing\t0\troot\t_\tSpaceAfter=No\n",
      "3\t!\t!\tPUNCT\t.\t_\t2\tpunct\t_\t_\n",
      "\n",
      "# sent_id = 2\n",
      "# text = Я не являюсь клиентом банка и поручителем по кредитному договору, а также не являюсь каким-либо другим лицом, письменно оформившим отношения с банком по поводу урегулирования чьей-либо задолженности.\n",
      "1\tЯ\tЯ\tPRON\tPRP\tCase=Nom|Number=Sing|Person=1\t3\tnsubj\t_\t_\n",
      "2\tне\tНЕ\tPART\tNEG\tPolarity=Neg\t3\tadvmod\t_\t_\n",
      "3\tявляюсь\tявляюсь\tVERB\tVBG\tAspect=Imp|VerbForm=Conv\t24\tacl\t_\t_\n",
      "4\tклиентом\tклиентом\tNOUN\tNN\tAnimacy=Inan|Case=Ins|Gender=Masc|Number=Sing\t3\tiobj\t_\t_\n",
      "5\tбанка\tБАНК\tNOUN\tNN\tAnimacy=Inan|Case=Gen|Gender=Masc|Number=Sing\t4\tnmod\t_\t_\n",
      "6\tи\tИ\tCCONJ\tCC\t_\t7\tcc\t_\t_\n",
      "7\tпоручителем\tпорУЧИТЕЛЬ\tNOUN\tNN\tAnimacy=Anim|Case=Ins|Gender=Masc|Number=Sing\t4\tconj\t_\t_\n",
      "8\tпо\tПО\tADP\tIN\t_\t10\tcase\t_\t_\n",
      "9\tкредитному\tкредитному\tADJ\tJJL\tAnimacy=Inan|Case=Dat|Gender=Masc|Number=Sing\t10\tamod\t_\t_\n",
      "10\tдоговору\tДОГОВОР\tNOUN\tNN\tAnimacy=Inan|Case=Dat|Gender=Masc|Number=Sing\t4\tnmod\t_\tSpaceAfter=No\n",
      "11\t,\t,\tPUNCT\t,\t_\t15\tpunct\t_\t_\n",
      "12\tа\tА\tCCONJ\tCC\t_\t15\tcc\t_\t_\n",
      "13\tтакже\tТАКЖЕ\tCCONJ\tCC\t_\t12\tfixed\t_\t_\n",
      "14\tне\tНЕ\tPART\tNEG\tPolarity=Neg\t15\tadvmod\t_\t_\n",
      "15\tявляюсь\tявляюсь\tVERB\tVBG\tAspect=Imp|VerbForm=Conv\t23\tadvcl\t_\t_\n",
      "16\tкаким\tкАКОЙ\tDET\tDT\tAnimacy=Inan|Case=Ins|Gender=Masc|Number=Sing\t20\tamod\t_\tSpaceAfter=No\n",
      "17\t-\t-\tPUNCT\t-\t_\t16\tgoeswith\t_\tSpaceAfter=No\n",
      "18\tлибо\tЛИБО\tADV\tAFX\t_\t16\tgoeswith\t_\t_\n",
      "19\tдругим\tДРУГОЙ\tADJ\tJJL\tAnimacy=Inan|Case=Ins|Gender=Masc|Number=Sing\t20\tamod\t_\t_\n",
      "20\tлицом\tлицОМ\tNOUN\tNN\tAnimacy=Inan|Case=Ins|Gender=Masc|Number=Sing\t15\tiobj\t_\tSpaceAfter=No\n",
      "21\t,\t,\tPUNCT\t,\t_\t15\tpunct\t_\t_\n",
      "22\tписьменно\tписьменно\tADV\tRB\t_\t23\tadvmod\t_\tSpacesAfter=\\s\\s\n",
      "23\tоформившим\tоформившим\tVERB\tVBNL\tAnimacy=Inan|Aspect=Imp|Case=Ins|Gender=Neut|Number=Sing|Tense=Past|VerbForm=Part|Voice=Act\t24\tacl\t_\t_\n",
      "24\tотношения\tОТНОШЕНИЕ\tNOUN\tNN\tAnimacy=Inan|Case=Nom|Gender=Neut|Number=Plur\t0\troot\t_\t_\n",
      "25\tс\tС\tADP\tIN\t_\t26\tcase\t_\t_\n",
      "26\tбанком\tбанком\tNOUN\tNN\tAnimacy=Inan|Case=Ins|Gender=Masc|Number=Sing\t24\tnmod\t_\t_\n",
      "27\tпо\tПО\tADP\tIN\t_\t28\tcase\t_\t_\n",
      "28\tповоду\tПОВОД\tNOUN\tNN\tAnimacy=Inan|Case=Dat|Gender=Masc|Number=Sing\t26\tnmod\t_\t_\n",
      "29\tурегулирования\tурегулирования\tNOUN\tNN\tAnimacy=Inan|Case=Gen|Gender=Neut|Number=Sing\t28\tnmod\t_\t_\n",
      "30\tчьей\tчьей\tNOUN\tNN\tAnimacy=Anim|Case=Gen|Gender=Masc|Number=Plur\t29\tnmod\t_\tSpaceAfter=No\n",
      "31\t-\t-\tPUNCT\t-\t_\t30\tgoeswith\t_\tSpaceAfter=No\n",
      "32\tлибо\tЛИБО\tADV\tAFX\t_\t30\tgoeswith\t_\tSpacesAfter=\\s\\s\n",
      "33\tзадолженности\tзадолженности\tNOUN\tNN\tAnimacy=Inan|Case=Gen|Gender=Fem|Number=Sing\t30\tnmod\t_\tSpaceAfter=No\n",
      "34\t.\t.\tPUNCT\t.\t_\t24\tpunct\t_\tSpacesAfter=\\s\\s\n",
      "\n",
      "# sent_id = 3\n",
      "# text = Начиная с марта 2015 года начали приходить бесконечные письма из ООО \"Примо коллект\"на мой адрес: город Москва, Уваровский переулок, дом 10, квартира 111, с угрозами о возбуждении уголовного дела в отношении гражданина Филиппова Эдуарда Владимировича, который уклоняется от уплаты взятых им кредитов: договор № 81014 от 20.10.2013 года и договор № 2464946 от 09.10.2014 года.\n",
      "1\tНачиная\tНАЧИНАТЬ\tVERB\tVBG\tAspect=Imp|VerbForm=Conv\t6\tadvcl\t_\t_\n",
      "2\tс\tС\tADP\tIN\t_\t3\tcase\t_\t_\n",
      "3\tмарта\tМАРТ\tNOUN\tNN\tAnimacy=Inan|Case=Gen|Gender=Masc|Number=Sing\t1\tobl\t_\t_\n",
      "4\t2015\t2015\tNUM\tCD\tCase=Nom|NumType=Card\t5\tnummod:gov\t_\t_\n",
      "5\tгода\tГОД\tNOUN\tNN\tAnimacy=Inan|Case=Gen|Gender=Masc|Number=Sing\t3\tnmod\t_\t_\n",
      "6\tначали\tНАЧАТЬ\tVERB\tVBC\tAspect=Perf|Mood=Ind|Number=Plur|Tense=Past|VerbForm=Fin\t0\troot\t_\t_\n",
      "7\tприходить\tприходить\tVERB\tVB\tAspect=Imp|VerbForm=Inf\t6\txcomp\t_\t_\n",
      "8\tбесконечные\tбесконечные\tADJ\tJJL\tAnimacy=Inan|Case=Acc|Number=Plur\t9\tamod\t_\t_\n",
      "9\tписьма\tПИСЬМО\tNOUN\tNN\tAnimacy=Inan|Case=Acc|Gender=Neut|Number=Plur\t7\tobj\t_\t_\n",
      "10\tиз\tИЗ\tADP\tIN\t_\t11\tcase\t_\t_\n",
      "11\tООО\tООО\tPROPN\tNNP\tAnimacy=Inan|Case=Gen|Gender=Masc|Number=Sing\t9\tnmod\t_\t_\n",
      "12\t\"\t\"\tPUNCT\t,\t_\t6\tpunct\t_\tSpaceAfter=No\n",
      "13\tПримо\tПримо\tADP\tIN\t_\t14\tcase\t_\t_\n",
      "14\tколлект\tколлект\tNOUN\tNN\tAnimacy=Inan|Case=Acc|Gender=Masc|Number=Sing\t19\tnmod\t_\tSpaceAfter=No\n",
      "15\t\"\t\"\tPUNCT\t,\t_\t14\tpunct\t_\tSpaceAfter=No\n",
      "16\tна\tНА\tADP\tIN\t_\t18\tcase\t_\t_\n",
      "17\tмой\tМОЙ\tDET\tPRP$\tAnimacy=Anim|Case=Nom|Gender=Masc|Number=Sing|Person=1\t18\tamod\t_\t_\n",
      "18\tадрес\tАДРЕС\tNOUN\tNN\tAnimacy=Inan|Case=Nom|Gender=Masc|Number=Sing\t19\tnmod\t_\tSpaceAfter=No\n",
      "19\t:\t:\tPUNCT\t:\t_\t6\tpunct\t_\t_\n",
      "20\tгород\tГОРОД\tNOUN\tNN\tAnimacy=Inan|Case=Nom|Gender=Masc|Number=Sing\t6\tappos\t_\t_\n",
      "21\tМосква\tМОСКВА\tPROPN\tNNP\tAnimacy=Inan|Case=Nom|Gender=Fem|Number=Sing\t20\tappos\t_\tSpaceAfter=No\n",
      "22\t,\t,\tPUNCT\t,\t_\t24\tpunct\t_\t_\n",
      "23\tУваровский\tУваровский\tADJ\tJJL\tAnimacy=Inan|Case=Nom|Gender=Masc|Number=Sing\t24\tamod\t_\t_\n",
      "24\tпереулок\tпереулок\tNOUN\tNN\tAnimacy=Inan|Case=Nom|Gender=Masc|Number=Sing\t20\tconj\t_\tSpaceAfter=No\n",
      "25\t,\t,\tPUNCT\t,\t_\t26\tpunct\t_\t_\n",
      "26\tдом\tДОМ\tNOUN\tNN\tAnimacy=Inan|Case=Nom|Gender=Masc|Number=Sing\t20\tconj\t_\t_\n",
      "27\t10\t10\tNUM\tCD\tCase=Nom|NumType=Card\t26\tnummod\t_\tSpaceAfter=No\n",
      "28\t,\t,\tPUNCT\t,\t_\t29\tpunct\t_\t_\n",
      "29\tквартира\tквартира\tNOUN\tNN\tAnimacy=Inan|Case=Nom|Gender=Fem|Number=Sing\t20\tconj\t_\t_\n",
      "30\t111\t111\tNUM\tCD\tCase=Nom|NumType=Card\t29\tnummod\t_\tSpaceAfter=No\n",
      "31\t,\t,\tPUNCT\t,\t_\t20\tpunct\t_\t_\n",
      "32\tс\tС\tADP\tIN\t_\t33\tcase\t_\t_\n",
      "33\tугрозами\tугрозами\tNOUN\tNN\tAnimacy=Anim|Case=Ins|Gender=Masc|Number=Plur\t20\tnmod\t_\t_\n",
      "34\tо\tО\tADP\tIN\t_\t35\tcase\t_\t_\n",
      "35\tвозбуждении\tвозбуждении\tNOUN\tNN\tAnimacy=Inan|Case=Loc|Gender=Neut|Number=Sing\t33\tnmod\t_\t_\n",
      "36\tуголовного\tУГОЛОВНЫЙ\tADJ\tJJL\tAnimacy=Inan|Case=Gen|Gender=Neut|Number=Sing\t37\tamod\t_\t_\n",
      "37\tдела\tДЕЛО\tNOUN\tNN\tAnimacy=Inan|Case=Gen|Gender=Neut|Number=Sing\t35\tnmod\t_\t_\n",
      "38\tв\tВ\tADP\tIN\t_\t39\tcase\t_\t_\n",
      "39\tотношении\tОТНОШЕНИЕ\tNOUN\tNN\tAnimacy=Inan|Case=Loc|Gender=Neut|Number=Sing\t6\tobl\t_\t_\n",
      "40\tгражданина\tГРАЖДАНИН\tNOUN\tNN\tAnimacy=Anim|Case=Gen|Gender=Masc|Number=Sing\t39\tnmod\t_\t_\n",
      "41\tФилиппова\tФилиппова\tPROPN\tNNP\tAnimacy=Anim|Case=Gen|Gender=Masc|Number=Sing\t40\tappos\t_\t_\n",
      "42\tЭдуарда\tЭДУАРД\tPROPN\tNNP\tAnimacy=Anim|Case=Gen|Gender=Masc|Number=Sing\t41\tflat\t_\t_\n",
      "43\tВладимировича\tВладимировича\tPROPN\tNNP\tAnimacy=Anim|Case=Gen|Gender=Masc|Number=Sing\t41\tflat\t_\tSpaceAfter=No\n",
      "44\t,\t,\tPUNCT\t,\t_\t46\tpunct\t_\t_\n",
      "45\tкоторый\tКОТОРЫЙ\tPRON\tAWP\tAnimacy=Inan|Case=Nom|Gender=Masc|Number=Sing\t46\tnsubj\t_\t_\n",
      "46\tуклоняется\tуклоняется\tVERB\tVBC\tAspect=Imp|Mood=Ind|Number=Sing|Person=3|Tense=Pres|VerbForm=Fin|Voice=Mid\t40\tacl:relcl\t_\t_\n",
      "47\tот\tОТ\tADP\tIN\t_\t48\tcase\t_\t_\n",
      "48\tуплаты\tУПЛАТА\tNOUN\tNN\tAnimacy=Inan|Case=Gen|Gender=Fem|Number=Sing\t46\tobl\t_\t_\n",
      "49\tвзятых\tвзятых\tVERB\tVBNL\tAnimacy=Inan|Aspect=Perf|Case=Gen|Number=Plur|Tense=Past|VerbForm=Part|Voice=Pass\t51\tacl\t_\t_\n",
      "50\tим\tОНИ\tPRON\tPRP\tCase=Ins|Gender=Masc|Number=Sing|Person=3\t49\tiobj\t_\t_\n",
      "51\tкредитов\tТИкредОВ\tNOUN\tNN\tAnimacy=Inan|Case=Gen|Gender=Masc|Number=Plur\t48\tnmod\t_\tSpaceAfter=No\n",
      "52\t:\t:\tPUNCT\t:\t_\t46\tpunct\t_\t_\n",
      "53\tдоговор\tДОГОВОР\tNOUN\tNN\tAnimacy=Inan|Case=Nom|Gender=Masc|Number=Sing\t46\tnsubj\t_\t_\n",
      "54\t№\t№\tSYM\tSYM\t_\t55\tpunct\t_\t_\n",
      "55\t81014\t81014\tNUM\tCD\tCase=Nom|NumType=Card\t53\tappos\t_\t_\n",
      "56\tот\tОТ\tADP\tIN\t_\t60\tcase\t_\t_\n",
      "57\t20.10\t20.10\tNUM\tCD\tCase=Nom|NumType=Card\t60\tnummod:gov\t_\tSpaceAfter=No\n",
      "58\t.\t.\tPUNCT\t.\t_\t57\tpunct\t_\tSpaceAfter=No\n",
      "59\t2013\t2013\tADJ\tORD\tAnimacy=Inan|Case=Gen|Gender=Masc|Number=Sing\t60\tamod\t_\t_\n",
      "60\tгода\tГОД\tNOUN\tNN\tAnimacy=Inan|Case=Gen|Gender=Masc|Number=Sing\t55\tnmod\t_\t_\n",
      "61\tи\tИ\tCCONJ\tCC\t_\t62\tcc\t_\t_\n",
      "62\tдоговор\tДОГОВОР\tNOUN\tNN\tAnimacy=Inan|Case=Nom|Gender=Masc|Number=Sing\t60\tconj\t_\t_\n",
      "63\t№\t№\tSYM\tSYM\t_\t64\tpunct\t_\t_\n",
      "64\t2464946\t2464946\tNUM\tCD\tCase=Nom|NumType=Card\t62\tconj\t_\t_\n",
      "65\tот\tОТ\tADP\tIN\t_\t66\tcase\t_\t_\n",
      "66\t09.10\t09.10\tNUM\tCD\tCase=Nom|NumType=Card\t62\tnmod\t_\tSpaceAfter=No\n",
      "67\t.\t.\tPUNCT\t.\t_\t66\tpunct\t_\tSpaceAfter=No\n",
      "68\t2014\t2014\tNUM\tCD\tCase=Nom|NumType=Card\t69\tnummod:gov\t_\t_\n",
      "69\tгода\tГОД\tNOUN\tNN\tAnimacy=Inan|Case=Gen|Gender=Masc|Number=Sing\t62\tnmod\t_\tSpaceAfter=No\n",
      "70\t.\t.\tPUNCT\t.\t_\t6\tpunct\t_\t_\n",
      "\n",
      "# sent_id = 4\n",
      "# text = Со всей ответственностью хочу Вас заверить, что вышеуказанный гражданин, которого Вы разыскиваете, мне не знаком и никогда в моем адресе не был зарегистрирован.\n",
      "1\tСо\tСО\tADP\tIN\t_\t3\tcase\t_\t_\n",
      "2\tвсей\tВЕСЬ\tDET\tDT\tAnimacy=Inan|Case=Dat|Gender=Fem|Number=Sing\t3\tdet\t_\t_\n",
      "3\tответственностью\tответственностью\tNOUN\tNN\tAnimacy=Inan|Case=Ins|Gender=Fem|Number=Sing\t6\tobl\t_\tSpacesAfter= \\s\n",
      "4\tхочу\tхочу\tADP\tIN\t_\t5\tcase\t_\t_\n",
      "5\tВас\tВЫ\tPRON\tPRP\tCase=Acc|Number=Plur|Person=2\t6\tobl\t_\t_\n",
      "6\tзаверить\tзаверить\tVERB\tVB\tAspect=Perf|VerbForm=Inf\t0\troot\t_\tSpaceAfter=No\n",
      "7\t,\t,\tPUNCT\t,\t_\t10\tpunct\t_\t_\n",
      "8\tчто\tЧТО\tSCONJ\tIN\t_\t10\tmark\t_\t_\n",
      "9\tвышеуказанный\tвышеуказанный\tVERB\tVBNL\tAnimacy=Inan|Aspect=Perf|Case=Acc|Gender=Masc|Number=Sing|Tense=Past|VerbForm=Part|Voice=Pass\t10\tacl\t_\t_\n",
      "10\tгражданин\tГРАЖДАНИН\tNOUN\tNN\tAnimacy=Inan|Case=Acc|Gender=Masc|Number=Sing\t6\tccomp\t_\tSpaceAfter=No\n",
      "11\t,\t,\tPUNCT\t,\t_\t14\tpunct\t_\t_\n",
      "12\tкоторого\tКОТОРЫЙ\tPRON\tAWP\tAnimacy=Anim|Case=Acc|Gender=Masc|Number=Sing\t14\tobj\t_\t_\n",
      "13\tВы\tВЫ\tPRON\tPRP\tCase=Nom|Number=Plur|Person=2\t14\tnsubj\t_\t_\n",
      "14\tразыскиваете\tразыскиваете\tVERB\tVBC\tAspect=Imp|Mood=Ind|Number=Plur|Person=2|Tense=Pres|VerbForm=Fin\t10\tacl:relcl\t_\tSpaceAfter=No\n",
      "15\t,\t,\tPUNCT\t,\t_\t18\tpunct\t_\t_\n",
      "16\tмне\tЯ\tPRON\tPRP\tCase=Dat|Number=Sing|Person=1\t18\tiobj\t_\t_\n",
      "17\tне\tНЕ\tPART\tNEG\tPolarity=Neg\t18\tadvmod\t_\t_\n",
      "18\tзнаком\tЗНАКОМЫЙ\tADJ\tJJH\tAnimacy=Anim|Case=Nom|Gender=Masc|Number=Sing|Variant=Short\t14\tconj\t_\t_\n",
      "19\tи\tИ\tCCONJ\tCC\t_\t26\tcc\t_\t_\n",
      "20\tникогда\tНИКОГДА\tADV\tRB\t_\t23\tadvmod\t_\t_\n",
      "21\tв\tВ\tADP\tIN\t_\t23\tcase\t_\t_\n",
      "22\tмоем\tмОЙ\tADJ\tJJL\tAnimacy=Inan|Case=Loc|Gender=Masc|Number=Sing\t23\tamod\t_\t_\n",
      "23\tадресе\tадрЕСА\tNOUN\tNN\tAnimacy=Inan|Case=Loc|Gender=Masc|Number=Sing\t26\tobl\t_\t_\n",
      "24\tне\tНЕ\tPART\tNEG\tPolarity=Neg\t26\tadvmod\t_\t_\n",
      "25\tбыл\tБЫТЬ\tAUX\tVBC\tAspect=Imp|Gender=Masc|Mood=Ind|Number=Sing|Tense=Past|VerbForm=Fin\t26\taux:pass\t_\t_\n",
      "26\tзарегистрирован\tЗАРЕГИСТРИРОВАТЬ\tVERB\tVBNH\tAnimacy=Inan|Aspect=Perf|Case=Nom|Gender=Masc|Number=Sing|Tense=Past|Variant=Short|VerbForm=Part|Voice=Pass\t18\tconj\t_\tSpaceAfter=No\n",
      "27\t.\t.\tPUNCT\t.\t_\t6\tpunct\t_\t_\n",
      "\n",
      "# sent_id = 5\n",
      "# text = Каким образом Вы не удостоверившись в подлинности его документов оформили на его имя кредитный договор, мне по меньшей мере не понятно, и почему по Вашей милости я должна переживать и бояться за себе и свое имущество.\n",
      "1\tКаким\tКАКОЙ\tDET\tDT\tAnimacy=Inan|Case=Ins|Gender=Masc|Number=Sing\t2\tdet\t_\t_\n",
      "2\tобразом\tОБРАЗ\tNOUN\tNN\tAnimacy=Inan|Case=Ins|Gender=Masc|Number=Sing\t5\tadvmod\t_\t_\n",
      "3\tВы\tВЫ\tPRON\tPRP\tCase=Nom|Number=Plur|Person=2\t5\tnsubj\t_\t_\n",
      "4\tне\tНЕ\tPART\tNEG\tPolarity=Neg\t5\tadvmod\t_\t_\n",
      "5\tудостоверившись\tудостоверившись\tVERB\tVB\tAspect=Imp|VerbForm=Inf|Voice=Mid\t0\troot\t_\t_\n",
      "6\tв\tВ\tADP\tIN\t_\t7\tcase\t_\t_\n",
      "7\tподлинности\tподлинности\tNOUN\tNN\tAnimacy=Inan|Case=Loc|Gender=Fem|Number=Sing\t5\tobl\t_\t_\n",
      "8\tего\tЕГО\tDET\tPRP$\tPerson=3\t9\tdet\t_\t_\n",
      "9\tдокументов\tДОКУМЕНТ\tNOUN\tNN\tAnimacy=Inan|Case=Gen|Gender=Masc|Number=Plur\t15\tnmod\t_\t_\n",
      "10\tоформили\tофорМИЛИ\tCCONJ\tCC\t_\t15\tcc\t_\t_\n",
      "11\tна\tНА\tADP\tIN\t_\t13\tcase\t_\t_\n",
      "12\tего\tЕГО\tDET\tPRP$\tPerson=3\t13\tdet\t_\t_\n",
      "13\tимя\tИМЯ\tNOUN\tNN\tAnimacy=Inan|Case=Acc|Gender=Neut|Number=Sing\t15\tnmod\t_\t_\n",
      "14\tкредитный\tкредитный\tADJ\tJJL\tAnimacy=Inan|Case=Acc|Gender=Masc|Number=Sing\t15\tamod\t_\t_\n",
      "15\tдоговор\tДОГОВОР\tNOUN\tNN\tAnimacy=Inan|Case=Acc|Gender=Masc|Number=Sing\t7\tappos\t_\tSpaceAfter=No\n",
      "16\t,\t,\tPUNCT\t,\t_\t22\tpunct\t_\t_\n",
      "17\tмне\tЯ\tPRON\tPRP\tCase=Dat|Number=Sing|Person=1\t22\tobj\t_\t_\n",
      "18\tпо\tПО\tADP\tIN\t_\t20\tcase\t_\t_\n",
      "19\tменьшей\tМЕНЬШИЙ\tADJ\tJJRL\tAnimacy=Inan|Case=Dat|Gender=Fem|Number=Sing\t20\tamod\t_\t_\n",
      "20\tмере\tМЕРА\tNOUN\tNN\tAnimacy=Inan|Case=Dat|Gender=Fem|Number=Sing\t22\tnmod\t_\t_\n",
      "21\tне\tНЕ\tPART\tNEG\tPolarity=Neg\t22\tadvmod\t_\t_\n",
      "22\tпонятно\tпонятно\tADV\tRB\t_\t15\tconj\t_\tSpaceAfter=No\n",
      "23\t,\t,\tPUNCT\t,\t_\t30\tpunct\t_\tSpacesAfter= \\s\n",
      "24\tи\tИ\tCCONJ\tCC\t_\t30\tcc\t_\t_\n",
      "25\tпочему\tПОЧЕМУ\tSCONJ\tIN\t_\t30\tmark\t_\t_\n",
      "26\tпо\tПО\tADP\tIN\t_\t28\tcase\t_\t_\n",
      "27\tВашей\tВашей\tDET\tPRP$\tAnimacy=Inan|Case=Ins|Gender=Fem|Number=Sing|Person=1\t28\tdet\t_\t_\n",
      "28\tмилости\tМИЛОСТЬ\tNOUN\tNN\tAnimacy=Inan|Case=Loc|Gender=Fem|Number=Sing\t30\tnmod\t_\t_\n",
      "29\tя\tЙ\tPRON\tPRP\tCase=Nom|Number=Sing|Person=1\t30\tnsubj\t_\t_\n",
      "30\tдолжна\tДОЛЖЕН\tADJ\tJJH\tAnimacy=Inan|Case=Nom|Gender=Fem|Number=Sing|Variant=Short\t15\tconj\t_\t_\n",
      "31\tпереживать\tпереживать\tVERB\tVB\tAspect=Imp|VerbForm=Inf\t30\txcomp\t_\t_\n",
      "32\tи\tИ\tCCONJ\tCC\t_\t33\tcc\t_\t_\n",
      "33\tбояться\tбояться\tVERB\tVB\tAspect=Imp|VerbForm=Inf|Voice=Mid\t31\tconj\t_\t_\n",
      "34\tза\tЗА\tADP\tIN\t_\t35\tcase\t_\t_\n",
      "35\tсебе\tСЕБЯ\tPRON\tPRP\tCase=Loc|Reflex=Yes\t33\tobl\t_\t_\n",
      "36\tи\tИ\tCCONJ\tCC\t_\t38\tcc\t_\t_\n",
      "37\tсвое\tСВОЙ\tDET\tPRP$\tAnimacy=Inan|Case=Acc|Gender=Neut|Number=Sing|Reflex=Yes\t38\tdet\t_\t_\n",
      "38\tимущество\tИМУЩЕСТВО\tNOUN\tNN\tAnimacy=Inan|Case=Acc|Gender=Neut|Number=Sing\t31\tconj\t_\tSpaceAfter=No\n",
      "39\t.\t.\tPUNCT\t.\t_\t5\tpunct\t_\t_\n",
      "\n",
      "# sent_id = 6\n",
      "# text = Письма доставляют мне серьезные неудобства, нарушают мои гражданские права, а также нарушают закон о защите персональных данных.\n",
      "1\tПисьма\tПИСЬМО\tADV\tRB\t_\t2\tadvmod\t_\t_\n",
      "2\tдоставляют\tдоставляют\tVERB\tVBC\tAspect=Imp|Mood=Ind|Number=Plur|Person=3|Tense=Pres|VerbForm=Fin\t0\troot\t_\t_\n",
      "3\tмне\tЯ\tPRON\tPRP\tCase=Dat|Number=Sing|Person=1\t2\tobj\t_\t_\n",
      "4\tсерьезные\tСЕРЬЕЗНЫЙ\tADJ\tJJL\tAnimacy=Inan|Case=Nom|Number=Plur\t5\tamod\t_\t_\n",
      "5\tнеудобства\tнеудобства\tNOUN\tNN\tAnimacy=Inan|Case=Nom|Gender=Neut|Number=Plur\t7\tnsubj\t_\tSpaceAfter=No\n",
      "6\t,\t,\tPUNCT\t,\t_\t5\tpunct\t_\t_\n",
      "7\tнарушают\tнарушают\tVERB\tVBC\tAspect=Imp|Mood=Ind|Number=Plur|Person=3|Tense=Pres|VerbForm=Fin\t2\tparataxis\t_\t_\n",
      "8\tмои\tмои\tDET\tPRP$\tAnimacy=Inan|Case=Acc|Number=Plur|Reflex=Yes\t10\tdet\t_\t_\n",
      "9\tгражданские\tГРАЖДАНСКИЙ\tADJ\tJJL\tAnimacy=Inan|Case=Acc|Number=Plur\t10\tamod\t_\t_\n",
      "10\tправа\tПРАВО\tNOUN\tNN\tAnimacy=Inan|Case=Acc|Gender=Neut|Number=Plur\t7\tobj\t_\tSpaceAfter=No\n",
      "11\t,\t,\tPUNCT\t,\t_\t14\tpunct\t_\t_\n",
      "12\tа\tА\tCCONJ\tCC\t_\t14\tcc\t_\t_\n",
      "13\tтакже\tТАКЖЕ\tCCONJ\tCC\t_\t12\tfixed\t_\t_\n",
      "14\tнарушают\tнарушают\tVERB\tVBC\tAspect=Imp|Mood=Ind|Number=Plur|Person=3|Tense=Pres|VerbForm=Fin\t7\tconj\t_\t_\n",
      "15\tзакон\tЗАКОН\tNOUN\tNN\tAnimacy=Inan|Case=Acc|Gender=Masc|Number=Sing\t14\tobj\t_\t_\n",
      "16\tо\tО\tADP\tIN\t_\t17\tcase\t_\t_\n",
      "17\tзащите\tЗАЩИТА\tNOUN\tNN\tAnimacy=Inan|Case=Loc|Gender=Masc|Number=Sing\t15\tnmod\t_\t_\n",
      "18\tперсональных\tПЕРСОНАЛЬНЫЙ\tADJ\tJJL\tAnimacy=Inan|Case=Gen|Number=Plur\t19\tamod\t_\t_\n",
      "19\tданных\tДАННЫЕ\tNOUN\tNN\tAnimacy=Inan|Case=Gen|Gender=Neut|Number=Plur\t17\tnmod\t_\tSpaceAfter=No\n",
      "20\t.\t.\tPUNCT\t.\t_\t2\tpunct\t_\t_\n",
      "\n",
      "# sent_id = 7\n",
      "# text = Убедительно прошу прекратить посылать на мой адрес письма с угрозами по вопросам, к которым я не имею отношения.\n",
      "1\tУбедительно\tУбедительно\tADV\tRB\t_\t0\troot\t_\t_\n",
      "2\tпрошу\tпрошУ\tNOUN\tNN\tAnimacy=Inan|Case=Acc|Gender=Fem|Number=Sing\t1\tobj\t_\t_\n",
      "3\tпрекратить\tПРЕКРАТИТЬ\tVERB\tVB\tAspect=Perf|VerbForm=Inf\t2\tacl\t_\t_\n",
      "4\tпосылать\tпосылать\tVERB\tVB\tAspect=Imp|VerbForm=Inf\t19\tacl\t_\t_\n",
      "5\tна\tНА\tADP\tIN\t_\t7\tcase\t_\t_\n",
      "6\tмой\tМОЙ\tDET\tPRP$\tAnimacy=Anim|Case=Nom|Gender=Masc|Number=Sing|Person=1\t7\tamod\t_\t_\n",
      "7\tадрес\tАДРЕС\tNOUN\tNN\tAnimacy=Inan|Case=Nom|Gender=Masc|Number=Sing\t4\tobl\t_\t_\n",
      "8\tписьма\tПИСЬМО\tADV\tRB\t_\t4\tadvmod\t_\t_\n",
      "9\tс\tС\tADP\tIN\t_\t10\tcase\t_\t_\n",
      "10\tугрозами\tугрозами\tNOUN\tNN\tAnimacy=Anim|Case=Ins|Gender=Masc|Number=Plur\t4\tobl\t_\t_\n",
      "11\tпо\tПО\tADP\tIN\t_\t12\tcase\t_\t_\n",
      "12\tвопросам\tВОПРОС\tNOUN\tNN\tAnimacy=Inan|Case=Dat|Gender=Masc|Number=Plur\t19\tnmod\t_\tSpaceAfter=No\n",
      "13\t,\t,\tPUNCT\t,\t_\t18\tpunct\t_\t_\n",
      "14\tк\tК\tADP\tIN\t_\t15\tcase\t_\t_\n",
      "15\tкоторым\tКОТОРЫЙ\tPRON\tAWP\tAnimacy=Inan|Case=Dat|Number=Plur\t18\tnmod\t_\t_\n",
      "16\tя\tЯ\tPRON\tPRP\tCase=Nom|Number=Sing|Person=1\t18\tnsubj\t_\t_\n",
      "17\tне\tНЕ\tPART\tNEG\tPolarity=Neg\t18\tadvmod\t_\t_\n",
      "18\tимею\tимею\tADJ\tJJL\tAnimacy=Inan|Case=Acc|Gender=Fem|Number=Sing\t19\tamod\t_\t_\n",
      "19\tотношения\tОТНОШЕНИЕ\tNOUN\tNN\tAnimacy=Inan|Case=Acc|Gender=Neut|Number=Plur\t3\tobj\t_\tSpaceAfter=No\n",
      "20\t.\t.\tPUNCT\t.\t_\t1\tpunct\t_\t_\n",
      "\n",
      "# sent_id = 8\n",
      "# text = В случае отклонения моей претензии буду вынуждена обратиться с жалобами в другие органы: Росспотребнадзор, Центральный банк, Службу Финансового омбудсмена.\n",
      "1\tВ\tВ\tADP\tIN\t_\t2\tcase\t_\t_\n",
      "2\tслучае\tСЛУЧАЙ\tNOUN\tNN\tAnimacy=Inan|Case=Loc|Gender=Masc|Number=Sing\t7\tobl\t_\t_\n",
      "3\tотклонения\tотклонения\tNOUN\tNN\tAnimacy=Inan|Case=Gen|Gender=Neut|Number=Sing\t2\tnmod\t_\t_\n",
      "4\tмоей\tМОЙ\tDET\tPRP$\tAnimacy=Inan|Case=Gen|Gender=Fem|Number=Sing|Reflex=Yes\t5\tdet\t_\t_\n",
      "5\tпретензии\tпретензии\tNOUN\tNN\tAnimacy=Inan|Case=Gen|Gender=Fem|Number=Sing\t3\tnmod\t_\t_\n",
      "6\tбуду\tбуду\tADP\tIN\t_\t7\tcase\t_\t_\n",
      "7\tвынуждена\tвынуждена\tVERB\tVBNH\tAnimacy=Anim|Aspect=Perf|Case=Nom|Gender=Fem|Number=Sing|Tense=Past|Variant=Short|VerbForm=Part|Voice=Pass\t0\troot\t_\t_\n",
      "8\tобратиться\tобратиться\tVERB\tVB\tAspect=Perf|VerbForm=Inf|Voice=Mid\t7\txcomp\t_\t_\n",
      "9\tс\tС\tADP\tIN\t_\t10\tcase\t_\t_\n",
      "10\tжалобами\tЖАЛОБА\tNOUN\tNN\tAnimacy=Inan|Case=Ins|Gender=Fem|Number=Plur\t8\tobl\t_\t_\n",
      "11\tв\tВ\tADP\tIN\t_\t13\tcase\t_\tSpacesAfter=\\s\\s\n",
      "12\tдругие\tДРУГОЙ\tADJ\tJJL\tAnimacy=Inan|Case=Acc|Number=Plur\t13\tamod\t_\t_\n",
      "13\tорганы\tОРГАН\tNOUN\tNN\tAnimacy=Inan|Case=Acc|Gender=Masc|Number=Plur\t8\tobl\t_\tSpaceAfter=No\n",
      "14\t:\t:\tPUNCT\t:\t_\t13\tpunct\t_\t_\n",
      "15\tРосспотребнадзор\tРосспотребНАДЗОР\tPROPN\tNNP\tAnimacy=Inan|Case=Nom|Gender=Masc|Number=Sing\t13\tappos\t_\tSpaceAfter=No\n",
      "16\t,\t,\tPUNCT\t,\t_\t18\tpunct\t_\t_\n",
      "17\tЦентральный\tЦЕНТРАЛЬНЫЙ\tADJ\tJJL\tAnimacy=Inan|Case=Nom|Gender=Masc|Number=Sing\t18\tamod\t_\t_\n",
      "18\tбанк\tБАНК\tNOUN\tNN\tAnimacy=Inan|Case=Nom|Gender=Masc|Number=Sing\t15\tconj\t_\tSpaceAfter=No\n",
      "19\t,\t,\tPUNCT\t,\t_\t20\tpunct\t_\t_\n",
      "20\tСлужбу\tСЛУЖБА\tNOUN\tNN\tAnimacy=Inan|Case=Acc|Gender=Fem|Number=Sing\t15\tconj\t_\t_\n",
      "21\tФинансового\tФинансового\tADJ\tJJL\tAnimacy=Inan|Case=Gen|Gender=Masc|Number=Sing\t22\tamod\t_\tSpacesAfter=\\s\\s\n",
      "22\tомбудсмена\tомбудСМЕНА\tNOUN\tNN\tAnimacy=Inan|Case=Gen|Gender=Masc|Number=Sing\t20\tnmod\t_\tSpaceAfter=No\n",
      "23\t.\t.\tPUNCT\t.\t_\t7\tpunct\t_\t_\n",
      "\n",
      "# sent_id = 9\n",
      "# text = Кроме этого будет подано заявление в полицию и заявление в суд возмещение причиненного мне морального вреда.\n",
      "1\tКроме\tКРОМЕ\tADP\tIN\t_\t2\tcase\t_\t_\n",
      "2\tэтого\tЭТО\tPRON\tDT\tAnimacy=Inan|Case=Gen|Gender=Neut|Number=Sing\t4\tobl\t_\t_\n",
      "3\tбудет\tБЫТЬ\tAUX\tVBC\tAspect=Imp|Mood=Ind|Number=Sing|Person=3|Tense=Fut|VerbForm=Fin\t4\taux:pass\t_\t_\n",
      "4\tподано\tподано\tVERB\tVBNH\tAnimacy=Inan|Aspect=Perf|Case=Nom|Gender=Neut|Number=Sing|Tense=Past|Variant=Short|VerbForm=Part|Voice=Pass\t0\troot\t_\t_\n",
      "5\tзаявление\tЗАЯВЛЕНИЕ\tNOUN\tNN\tAnimacy=Inan|Case=Nom|Gender=Neut|Number=Sing\t4\tnsubj:pass\t_\t_\n",
      "6\tв\tВ\tADP\tIN\t_\t7\tcase\t_\t_\n",
      "7\tполицию\tполицию\tNOUN\tNN\tAnimacy=Inan|Case=Acc|Gender=Fem|Number=Sing\t5\tnmod\t_\t_\n",
      "8\tи\tИ\tCCONJ\tCC\t_\t9\tcc\t_\t_\n",
      "9\tзаявление\tЗАЯВЛЕНИЕ\tNOUN\tNN\tAnimacy=Inan|Case=Acc|Gender=Neut|Number=Sing\t7\tconj\t_\t_\n",
      "10\tв\tВ\tADP\tIN\t_\t11\tcase\t_\tSpacesAfter=\\s\\s\n",
      "11\tсуд\tСУД\tNOUN\tNN\tAnimacy=Inan|Case=Acc|Gender=Masc|Number=Sing\t4\tobl\t_\t_\n",
      "12\tвозмещение\tвозмещение\tNOUN\tNN\tAnimacy=Inan|Case=Acc|Gender=Neut|Number=Sing\t4\tobj\t_\t_\n",
      "13\tпричиненного\tпричиненного\tVERB\tVBNL\tAnimacy=Anim|Aspect=Perf|Case=Gen|Gender=Masc|Number=Sing|Tense=Past|VerbForm=Part|Voice=Pass\t16\tacl\t_\t_\n",
      "14\tмне\tЯ\tADV\tRB\t_\t13\tadvmod\t_\t_\n",
      "15\tморального\tМОРАЛЬНЫЙ\tADJ\tJJL\tAnimacy=Inan|Case=Gen|Gender=Masc|Number=Sing\t16\tamod\t_\t_\n",
      "16\tвреда\tвреда\tNOUN\tNN\tAnimacy=Inan|Case=Gen|Gender=Masc|Number=Sing\t12\tnmod\t_\tSpaceAfter=No\n",
      "17\t.\t.\tPUNCT\t.\t_\t4\tpunct\t_\t_\n",
      "\n",
      "# sent_id = 10\n",
      "# text = Надеюсь на скорое решение моего вопроса.\n",
      "1\tНадеюсь\tНадеюсь\tVERB\tVBG\tAspect=Imp|VerbForm=Conv\t0\troot\t_\t_\n",
      "2\tна\tНА\tADP\tIN\t_\t4\tcase\t_\t_\n",
      "3\tскорое\tскорое\tADJ\tORD\tAnimacy=Inan|Case=Acc|Gender=Neut|Number=Sing\t4\tamod\t_\t_\n",
      "4\tрешение\tРЕШЕНИЕ\tNOUN\tNN\tAnimacy=Inan|Case=Acc|Gender=Neut|Number=Sing\t1\tobl\t_\t_\n",
      "5\tмоего\tмоего\tDET\tPRP$\tAnimacy=Inan|Case=Gen|Gender=Masc|Number=Sing|Reflex=Yes\t6\tdet\t_\t_\n",
      "6\tвопроса\tвопроса\tNOUN\tNN\tAnimacy=Inan|Case=Gen|Gender=Masc|Number=Sing\t4\tnmod\t_\tSpaceAfter=No\n",
      "7\t.\t.\tPUNCT\t.\t_\t1\tpunct\t_\tSpacesAfter=\\n\n",
      "\n",
      "\n"
     ]
    }
   ],
   "source": [
    "print(parsed)"
   ]
  },
  {
   "cell_type": "code",
   "execution_count": 48,
   "metadata": {},
   "outputs": [],
   "source": [
    "regex_0 = re.compile(\"\\n\\d+\\t[А-Яа-я]+\\t[А-Яа-я]+\\tNOUN\")"
   ]
  },
  {
   "cell_type": "code",
   "execution_count": 49,
   "metadata": {},
   "outputs": [],
   "source": [
    "regex_1 = re.compile(\"\\t[А-Яа-я]+\\tNOUN\")"
   ]
  },
  {
   "cell_type": "code",
   "execution_count": 50,
   "metadata": {},
   "outputs": [],
   "source": [
    "dumb_1 = regex_1.findall(parsed)"
   ]
  },
  {
   "cell_type": "code",
   "execution_count": 51,
   "metadata": {},
   "outputs": [],
   "source": [
    "regex_2 = re.compile(\"[А-Яа-я]+\")"
   ]
  },
  {
   "cell_type": "code",
   "execution_count": 52,
   "metadata": {},
   "outputs": [],
   "source": [
    "dumb_2 = regex_2.findall(dumb_1[1])"
   ]
  },
  {
   "cell_type": "code",
   "execution_count": 53,
   "metadata": {},
   "outputs": [
    {
     "data": {
      "text/plain": [
       "153499"
      ]
     },
     "execution_count": 53,
     "metadata": {},
     "output_type": "execute_result"
    }
   ],
   "source": [
    "len(sample)"
   ]
  },
  {
   "cell_type": "code",
   "execution_count": 54,
   "metadata": {},
   "outputs": [
    {
     "name": "stdout",
     "output_type": "stream",
     "text": [
      "Wall time: 3min 4s\n"
     ]
    }
   ],
   "source": [
    "%%time \n",
    "list_1 = []\n",
    "regex_1 = re.compile(\"\\t[А-Яа-я]+\\tNOUN\")\n",
    "regex_2 = re.compile(\"[А-Яа-я]+\")\n",
    "for i in range(1000):\n",
    "    parsed = pipeline.process(sample.text[i])\n",
    "    dumb_1 = regex_1.findall(parsed)\n",
    "    for j in range(len(dumb_1)):\n",
    "        dumb_2 = regex_2.findall(dumb_1[j])\n",
    "        list_1.append(dumb_2[0].lower())     "
   ]
  },
  {
   "cell_type": "code",
   "execution_count": 55,
   "metadata": {},
   "outputs": [],
   "source": [
    "from collections import Counter"
   ]
  },
  {
   "cell_type": "code",
   "execution_count": 56,
   "metadata": {},
   "outputs": [
    {
     "data": {
      "text/plain": [
       "[('банк', 2639),\n",
       " ('карта', 1642),\n",
       " ('день', 819),\n",
       " ('деньги', 817),\n",
       " ('год', 671),\n",
       " ('сумма', 650),\n",
       " ('сотрудник', 572),\n",
       " ('кредит', 566),\n",
       " ('вклад', 566),\n",
       " ('отделение', 552)]"
      ]
     },
     "execution_count": 56,
     "metadata": {},
     "output_type": "execute_result"
    }
   ],
   "source": [
    "Counter(list_1).most_common(10)"
   ]
  },
  {
   "cell_type": "code",
   "execution_count": 57,
   "metadata": {},
   "outputs": [
    {
     "data": {
      "text/plain": [
       "58404"
      ]
     },
     "execution_count": 57,
     "metadata": {},
     "output_type": "execute_result"
    }
   ],
   "source": [
    "len(list_1)"
   ]
  },
  {
   "cell_type": "markdown",
   "metadata": {},
   "source": [
    "#### 5. Постройте кривые Ципфа и Хипса"
   ]
  },
  {
   "cell_type": "markdown",
   "metadata": {},
   "source": [
    "Кривая Ципфа"
   ]
  },
  {
   "cell_type": "code",
   "execution_count": null,
   "metadata": {},
   "outputs": [],
   "source": [
    "list_11 = pd.DataFrame(list_1)"
   ]
  },
  {
   "cell_type": "code",
   "execution_count": 70,
   "metadata": {},
   "outputs": [
    {
     "data": {
      "text/plain": [
       "банк             2639\n",
       "карта            1642\n",
       "день              819\n",
       "деньги            817\n",
       "год               671\n",
       "                 ... \n",
       "означенному         1\n",
       "стати               1\n",
       "айманибанк          1\n",
       "автоответчика       1\n",
       "приоритете          1\n",
       "Name: 0, Length: 6752, dtype: int64"
      ]
     },
     "execution_count": 70,
     "metadata": {},
     "output_type": "execute_result"
    }
   ],
   "source": [
    "list_11[0].value_counts()"
   ]
  },
  {
   "cell_type": "code",
   "execution_count": 88,
   "metadata": {},
   "outputs": [
    {
     "data": {
      "image/png": "[encoded data removed]",
      "text/plain": [
       "<Figure size 432x288 with 1 Axes>"
      ]
     },
     "metadata": {
      "needs_background": "light"
     },
     "output_type": "display_data"
    }
   ],
   "source": [
    "freqs = lemmas_no_stop[0].value_counts()\n",
    "\n",
    "fig, ax = plt.subplots()\n",
    "ax.plot(range(300), freqs[:300])\n",
    "plt.grid()\n",
    "plt.show()"
   ]
  },
  {
   "cell_type": "code",
   "execution_count": 92,
   "metadata": {},
   "outputs": [
    {
     "data": {
      "text/plain": [
       "банк       192\n",
       "карта      111\n",
       "кредит      81\n",
       "весь        74\n",
       "счет        63\n",
       "          ... \n",
       "месяц,       6\n",
       "горячий      6\n",
       "общий        6\n",
       "просьба      6\n",
       "зайти        6\n",
       "Name: 0, Length: 300, dtype: int64"
      ]
     },
     "execution_count": 92,
     "metadata": {},
     "output_type": "execute_result"
    }
   ],
   "source": [
    "lemmas_no_stop[0].value_counts().head(300)"
   ]
  },
  {
   "cell_type": "markdown",
   "metadata": {},
   "source": [
    "Кривая Хипса"
   ]
  },
  {
   "cell_type": "code",
   "execution_count": 180,
   "metadata": {},
   "outputs": [],
   "source": [
    "df = pd.DataFrame(sample.text)"
   ]
  },
  {
   "cell_type": "code",
   "execution_count": 182,
   "metadata": {},
   "outputs": [],
   "source": [
    "df_10k = df.head(10000)"
   ]
  },
  {
   "cell_type": "code",
   "execution_count": 183,
   "metadata": {},
   "outputs": [
    {
     "name": "stderr",
     "output_type": "stream",
     "text": [
      "100%|██████████| 10000/10000 [01:12<00:00, 137.07it/s]\n"
     ]
    }
   ],
   "source": [
    "cnt = Counter()\n",
    "n_words = []\n",
    "n_tokens = []\n",
    "tokens = []\n",
    "for index, row in tqdm(df_10k.iterrows(), total = len(df_10k)):\n",
    "    tokens = word_tokenize(row['text'])\n",
    "    cnt.update([token for token in tokens if token not in punctuation])\n",
    "    n_words.append(len(cnt))\n",
    "    n_tokens.append(sum(list(cnt.values())))\n"
   ]
  },
  {
   "cell_type": "code",
   "execution_count": 184,
   "metadata": {},
   "outputs": [
    {
     "data": {
      "image/png": "[encoded data removed]",
      "text/plain": [
       "<Figure size 432x288 with 1 Axes>"
      ]
     },
     "metadata": {
      "needs_background": "light"
     },
     "output_type": "display_data"
    }
   ],
   "source": [
    "fig, ax = plt.subplots()\n",
    "ax.plot(n_tokens, n_words)\n",
    "plt.grid()\n",
    "plt.show()"
   ]
  },
  {
   "cell_type": "markdown",
   "metadata": {},
   "source": [
    "#### 6. Ответьте на следующие вопросы:\n",
    "* какое слово встречается чаще, \"сотрудник\" или \"клиент\"?\n",
    "* сколько раз встречается слова \"мошенничество\" и \"доверие\"?"
   ]
  },
  {
   "cell_type": "code",
   "execution_count": 185,
   "metadata": {},
   "outputs": [
    {
     "data": {
      "text/plain": [
       "47"
      ]
     },
     "execution_count": 185,
     "metadata": {},
     "output_type": "execute_result"
    }
   ],
   "source": [
    "freqs['сотрудник']"
   ]
  },
  {
   "cell_type": "code",
   "execution_count": 187,
   "metadata": {},
   "outputs": [
    {
     "data": {
      "text/plain": [
       "41"
      ]
     },
     "execution_count": 187,
     "metadata": {},
     "output_type": "execute_result"
    }
   ],
   "source": [
    "freqs['клиент']"
   ]
  },
  {
   "cell_type": "markdown",
   "metadata": {},
   "source": [
    "Вывод: слово \"сотрудник\" встречается чаще, чем слово \"клиент\"."
   ]
  },
  {
   "cell_type": "code",
   "execution_count": 188,
   "metadata": {},
   "outputs": [
    {
     "data": {
      "text/plain": [
       "1"
      ]
     },
     "execution_count": 188,
     "metadata": {},
     "output_type": "execute_result"
    }
   ],
   "source": [
    "freqs['мошенничество']"
   ]
  },
  {
   "cell_type": "code",
   "execution_count": 189,
   "metadata": {},
   "outputs": [
    {
     "data": {
      "text/plain": [
       "2"
      ]
     },
     "execution_count": 189,
     "metadata": {},
     "output_type": "execute_result"
    }
   ],
   "source": [
    "freqs['доверие']"
   ]
  },
  {
   "cell_type": "markdown",
   "metadata": {},
   "source": [
    "Вывод: слово \"доверие\" встречается чаще, чем слово \"мошенничество\"."
   ]
  },
  {
   "cell_type": "markdown",
   "metadata": {},
   "source": [
    "#### 7. В поле \"rating_grade\" записана оценка отзыва по шкале от 1 до 5. Используйте меру  𝑡𝑓−𝑖𝑑𝑓 , для того, чтобы найти ключевые слова и биграмы для положительных отзывов (с оценкой 5) и отрицательных отзывов (с оценкой 1)"
   ]
  },
  {
   "cell_type": "code",
   "execution_count": 214,
   "metadata": {},
   "outputs": [],
   "source": [
    "data = pd.DataFrame(responses)"
   ]
  },
  {
   "cell_type": "code",
   "execution_count": 216,
   "metadata": {},
   "outputs": [],
   "source": [
    "data_neg = data[data.rating_grade == 1]"
   ]
  },
  {
   "cell_type": "code",
   "execution_count": 218,
   "metadata": {},
   "outputs": [
    {
     "data": {
      "text/plain": [
       "(47387, 10)"
      ]
     },
     "execution_count": 218,
     "metadata": {},
     "output_type": "execute_result"
    }
   ],
   "source": [
    "data_neg.shape"
   ]
  },
  {
   "cell_type": "code",
   "execution_count": 219,
   "metadata": {},
   "outputs": [],
   "source": [
    "data_pos = data[data.rating_grade == 5]"
   ]
  },
  {
   "cell_type": "code",
   "execution_count": 220,
   "metadata": {},
   "outputs": [
    {
     "data": {
      "text/plain": [
       "(14713, 10)"
      ]
     },
     "execution_count": 220,
     "metadata": {},
     "output_type": "execute_result"
    }
   ],
   "source": [
    "data_pos.shape"
   ]
  },
  {
   "cell_type": "markdown",
   "metadata": {},
   "source": [
    "Ключевые слова"
   ]
  },
  {
   "cell_type": "code",
   "execution_count": 232,
   "metadata": {},
   "outputs": [],
   "source": [
    "vec_neg = TfidfVectorizer()\n",
    "bow_neg = vec_neg.fit_transform(data_neg.text)"
   ]
  },
  {
   "cell_type": "code",
   "execution_count": 241,
   "metadata": {},
   "outputs": [
    {
     "data": {
      "text/plain": [
       "['00',\n",
       " '000',\n",
       " '0000',\n",
       " '00000',\n",
       " '000000',\n",
       " '0000000',\n",
       " '00000000',\n",
       " '0000000000',\n",
       " '00000000000',\n",
       " '000000000000000']"
      ]
     },
     "execution_count": 241,
     "metadata": {},
     "output_type": "execute_result"
    }
   ],
   "source": [
    "vec_neg.get_feature_names()[0:10]"
   ]
  },
  {
   "cell_type": "code",
   "execution_count": 238,
   "metadata": {},
   "outputs": [],
   "source": [
    "vec_pos = TfidfVectorizer()\n",
    "bow_pos = vec_pos.fit_transform(data_pos.text)"
   ]
  },
  {
   "cell_type": "code",
   "execution_count": 240,
   "metadata": {},
   "outputs": [
    {
     "data": {
      "text/plain": [
       "['00',\n",
       " '000',\n",
       " '0000',\n",
       " '00000',\n",
       " '000001570510',\n",
       " '00001422',\n",
       " '0001',\n",
       " '000107',\n",
       " '0001639',\n",
       " '00017']"
      ]
     },
     "execution_count": 240,
     "metadata": {},
     "output_type": "execute_result"
    }
   ],
   "source": [
    "vec_pos.get_feature_names()[0:10]"
   ]
  },
  {
   "cell_type": "markdown",
   "metadata": {},
   "source": [
    "Биграммы"
   ]
  },
  {
   "cell_type": "code",
   "execution_count": 242,
   "metadata": {},
   "outputs": [],
   "source": [
    "vec_neg_2 = TfidfVectorizer(ngram_range = (2,2))\n",
    "bow_neg = vec_neg_2.fit_transform(data_neg.text)"
   ]
  },
  {
   "cell_type": "code",
   "execution_count": 243,
   "metadata": {},
   "outputs": [
    {
     "data": {
      "text/plain": [
       "['00 00',\n",
       " '00 000',\n",
       " '00 0000',\n",
       " '00 00eur',\n",
       " '00 00ч',\n",
       " '00 01',\n",
       " '00 017322',\n",
       " '00 02',\n",
       " '00 03',\n",
       " '00 03мар']"
      ]
     },
     "execution_count": 243,
     "metadata": {},
     "output_type": "execute_result"
    }
   ],
   "source": [
    "vec_neg_2.get_feature_names()[0:10]"
   ]
  },
  {
   "cell_type": "code",
   "execution_count": 244,
   "metadata": {},
   "outputs": [],
   "source": [
    "vec_pos_2 = TfidfVectorizer(ngram_range = (2,2))\n",
    "bow_pos = vec_pos_2.fit_transform(data_pos.text)"
   ]
  },
  {
   "cell_type": "code",
   "execution_count": 247,
   "metadata": {},
   "outputs": [
    {
     "data": {
      "text/plain": [
       "['01 2010',\n",
       " '01 2011',\n",
       " '01 2012',\n",
       " '01 2012г',\n",
       " '01 2013',\n",
       " '01 2014',\n",
       " '01 2014г',\n",
       " '01 2015',\n",
       " '01 2015г',\n",
       " '01 22']"
      ]
     },
     "execution_count": 247,
     "metadata": {},
     "output_type": "execute_result"
    }
   ],
   "source": [
    "vec_pos_2.get_feature_names()[1000 : 1010]"
   ]
  },
  {
   "cell_type": "markdown",
   "metadata": {},
   "source": [
    "## Часть 2. Тематическое моделирование [20/100]\n",
    "\n",
    "1. Постройте несколько тематических моделей коллекции документов с разным числом тем. Приведите примеры понятных (интерпретируемых) тем.\n",
    "2. Найдите темы, в которых упомянуты конкретные банки (Сбербанк, ВТБ, другой банк). Можете ли вы их прокомментировать / объяснить?\n",
    "\n",
    "Эта часть задания может быть сделана с использованием gensim. "
   ]
  },
  {
   "cell_type": "markdown",
   "metadata": {},
   "source": [
    "1. Постройте несколько тематических моделей коллекции документов с разным числом тем. Приведите примеры понятных (интерпретируемых) тем."
   ]
  },
  {
   "cell_type": "code",
   "execution_count": 331,
   "metadata": {},
   "outputs": [],
   "source": [
    "texts = [text.split() for text in data.text]"
   ]
  },
  {
   "cell_type": "code",
   "execution_count": 333,
   "metadata": {},
   "outputs": [
    {
     "data": {
      "text/plain": [
       "153499"
      ]
     },
     "execution_count": 333,
     "metadata": {},
     "output_type": "execute_result"
    }
   ],
   "source": [
    "len(texts)"
   ]
  },
  {
   "cell_type": "code",
   "execution_count": 332,
   "metadata": {},
   "outputs": [],
   "source": [
    "dictionary = Dictionary(texts)"
   ]
  },
  {
   "cell_type": "code",
   "execution_count": 334,
   "metadata": {},
   "outputs": [],
   "source": [
    "corpus = [dictionary.doc2bow(text) for text in texts]"
   ]
  },
  {
   "cell_type": "code",
   "execution_count": 335,
   "metadata": {},
   "outputs": [
    {
     "data": {
      "text/plain": [
       "153499"
      ]
     },
     "execution_count": 335,
     "metadata": {},
     "output_type": "execute_result"
    }
   ],
   "source": [
    "len(corpus)"
   ]
  },
  {
   "cell_type": "code",
   "execution_count": 336,
   "metadata": {},
   "outputs": [
    {
     "data": {
      "text/plain": [
       "1111876"
      ]
     },
     "execution_count": 336,
     "metadata": {},
     "output_type": "execute_result"
    }
   ],
   "source": [
    "len(dictionary)"
   ]
  },
  {
   "cell_type": "code",
   "execution_count": 338,
   "metadata": {},
   "outputs": [],
   "source": [
    "tfidf = TfidfModel(corpus)\n",
    "corpus_tfidf = tfidf[corpus]"
   ]
  },
  {
   "cell_type": "code",
   "execution_count": 340,
   "metadata": {},
   "outputs": [],
   "source": [
    "# Тематическая модель для числа тем, равного 30\n",
    "lsi = lsimodel.LsiModel(corpus = corpus_tfidf, id2word = dictionary, num_topics = 30)"
   ]
  },
  {
   "cell_type": "code",
   "execution_count": 344,
   "metadata": {},
   "outputs": [
    {
     "data": {
      "text/plain": [
       "[('кошелек', 0.19866145419532893),\n",
       " ('средств', -0.19370977998987404),\n",
       " ('средства', -0.18932384476829386),\n",
       " ('смс', -0.18711900500531248),\n",
       " ('денежных', -0.18534055742331812),\n",
       " ('денежные', -0.17850429709974458),\n",
       " ('киви', 0.16944104040594696),\n",
       " ('QIWI', 0.15050872722886122),\n",
       " ('-', -0.11758635674300033),\n",
       " ('службу', 0.1147689423298877)]"
      ]
     },
     "execution_count": 344,
     "metadata": {},
     "output_type": "execute_result"
    }
   ],
   "source": [
    "# Пример интерпретируемой темы про QIWI-кошелек\n",
    "lsi.show_topic(20)"
   ]
  },
  {
   "cell_type": "markdown",
   "metadata": {},
   "source": [
    "2. Найдите темы, в которых упомянуты конкретные банки (Сбербанк, ВТБ, другой банк). Можете ли вы их прокомментировать / объяснить?"
   ]
  },
  {
   "cell_type": "code",
   "execution_count": 347,
   "metadata": {},
   "outputs": [
    {
     "data": {
      "text/plain": [
       "[('звонки', 0.2444089869277422),\n",
       " ('кошелек', 0.22243242509375957),\n",
       " ('QIWI', 0.19518534722413602),\n",
       " ('киви', 0.17497470963107573),\n",
       " ('смс', -0.1655175416307376),\n",
       " ('средства', 0.14634943881949525),\n",
       " ('денежные', 0.12939792939774022),\n",
       " ('денежных', 0.12367113948663433),\n",
       " ('Visa', 0.12045881373990765),\n",
       " ('Сбербанка', -0.11407363824842677)]"
      ]
     },
     "execution_count": 347,
     "metadata": {},
     "output_type": "execute_result"
    }
   ],
   "source": [
    "lsi.show_topic(23)"
   ]
  },
  {
   "cell_type": "markdown",
   "metadata": {},
   "source": [
    "Можно предположить, что в этой теме речь идет о переводе денежных средств с карты Сбербанка на QIWI-кошелек."
   ]
  },
  {
   "cell_type": "markdown",
   "metadata": {},
   "source": [
    "## Часть 3. Классификация текстов [40/100]\n",
    "\n",
    "Сформулируем для простоты задачу бинарной классификации: будем классифицировать на два класса, то есть, различать резко отрицательные отзывы (с оценкой 1) и положительные отзывы (с оценкой 5). \n",
    "\n",
    "1.  Составьте обучающее и тестовое множество: выберите из всего набора данных N1 отзывов с оценкой 1 и N2 отзывов с оценкой 5 (значение N1 и N2 – на ваше усмотрение). Используйте ```sklearn.model_selection.train_test_split``` для разделения множества отобранных документов на обучающее и тестовое. \n",
    "2. Используйте любой известный вам алгоритм классификации текстов для решения задачи и получите baseline. Сравните разные варианты векторизации текста: использование только униграм, пар или троек слов или с использованием символьных $n$-грам. \n",
    "3. Сравните, как изменяется качество решения задачи при использовании скрытых тем в качестве признаков:\n",
    "* 1-ый вариант: $tf-idf$ преобразование (```sklearn.feature_extraction.text.TfidfTransformer```) и сингулярное разложение (оно же – латентый семантический анализ) (```sklearn.decomposition.TruncatedSVD```), \n",
    "* 2-ой вариант: тематические модели LDA (```sklearn.decomposition.LatentDirichletAllocation```). \n",
    "\n",
    "Используйте accuracy и F-measure для оценки качества классификации. \n",
    "\n",
    "Ниже написан примерный Pipeline для классификации текстов. \n",
    "\n",
    "Эта часть задания может быть сделана с использованием sklearn. "
   ]
  },
  {
   "cell_type": "markdown",
   "metadata": {},
   "source": [
    "#### 1. Составьте обучающее и тестовое множество: выберите из всего набора данных N1 отзывов с оценкой 1 и N2 отзывов с оценкой 5"
   ]
  },
  {
   "cell_type": "code",
   "execution_count": 264,
   "metadata": {
    "scrolled": true
   },
   "outputs": [],
   "source": [
    "data_neg.loc[ : ,'type'] = 'neg'"
   ]
  },
  {
   "cell_type": "code",
   "execution_count": 302,
   "metadata": {},
   "outputs": [],
   "source": [
    "data_neg_1 = data_neg.sample(data_pos.shape[0])"
   ]
  },
  {
   "cell_type": "code",
   "execution_count": 304,
   "metadata": {},
   "outputs": [
    {
     "data": {
      "text/plain": [
       "(14713, 11)"
      ]
     },
     "execution_count": 304,
     "metadata": {},
     "output_type": "execute_result"
    }
   ],
   "source": [
    "data_neg_1.shape"
   ]
  },
  {
   "cell_type": "code",
   "execution_count": 261,
   "metadata": {},
   "outputs": [],
   "source": [
    "data_pos.loc[ : ,'type'] = 'pos'"
   ]
  },
  {
   "cell_type": "code",
   "execution_count": 292,
   "metadata": {},
   "outputs": [
    {
     "data": {
      "text/plain": [
       "14713"
      ]
     },
     "execution_count": 292,
     "metadata": {},
     "output_type": "execute_result"
    }
   ],
   "source": [
    "data_pos.shape[0]"
   ]
  },
  {
   "cell_type": "code",
   "execution_count": 305,
   "metadata": {},
   "outputs": [],
   "source": [
    "data_all = data_neg_1.merge(data_pos, how = 'outer')"
   ]
  },
  {
   "cell_type": "code",
   "execution_count": 306,
   "metadata": {},
   "outputs": [
    {
     "data": {
      "text/html": [
       "<div>\n",
       "<style scoped>\n",
       "    .dataframe tbody tr th:only-of-type {\n",
       "        vertical-align: middle;\n",
       "    }\n",
       "\n",
       "    .dataframe tbody tr th {\n",
       "        vertical-align: top;\n",
       "    }\n",
       "\n",
       "    .dataframe thead th {\n",
       "        text-align: right;\n",
       "    }\n",
       "</style>\n",
       "<table border=\"1\" class=\"dataframe\">\n",
       "  <thead>\n",
       "    <tr style=\"text-align: right;\">\n",
       "      <th></th>\n",
       "      <th>city</th>\n",
       "      <th>rating_not_checked</th>\n",
       "      <th>title</th>\n",
       "      <th>num_comments</th>\n",
       "      <th>bank_license</th>\n",
       "      <th>author</th>\n",
       "      <th>bank_name</th>\n",
       "      <th>datetime</th>\n",
       "      <th>text</th>\n",
       "      <th>rating_grade</th>\n",
       "      <th>type</th>\n",
       "    </tr>\n",
       "  </thead>\n",
       "  <tbody>\n",
       "    <tr>\n",
       "      <th>29421</th>\n",
       "      <td>None</td>\n",
       "      <td>False</td>\n",
       "      <td>Повысилось качество обслуживания</td>\n",
       "      <td>0</td>\n",
       "      <td>лицензия № 1623</td>\n",
       "      <td>Атмос</td>\n",
       "      <td>ВТБ 24</td>\n",
       "      <td>2005-04-13 12:00:00</td>\n",
       "      <td>Пользуюсь банком 3 месяца - специально открыл ...</td>\n",
       "      <td>5.0</td>\n",
       "      <td>pos</td>\n",
       "    </tr>\n",
       "    <tr>\n",
       "      <th>29422</th>\n",
       "      <td>None</td>\n",
       "      <td>False</td>\n",
       "      <td>Стабильный банк с высокими процентами</td>\n",
       "      <td>0</td>\n",
       "      <td>лицензия № 1971</td>\n",
       "      <td>Александра</td>\n",
       "      <td>Ханты-Мансийский банк Открытие</td>\n",
       "      <td>2005-04-14 13:41:00</td>\n",
       "      <td>А что писать? Ставки по вкладам высокие (до 13...</td>\n",
       "      <td>5.0</td>\n",
       "      <td>pos</td>\n",
       "    </tr>\n",
       "    <tr>\n",
       "      <th>29423</th>\n",
       "      <td>None</td>\n",
       "      <td>False</td>\n",
       "      <td>Ну тогда копите денюжки и покупайте не в креди...</td>\n",
       "      <td>4</td>\n",
       "      <td>лицензия № 2289</td>\n",
       "      <td>irzik</td>\n",
       "      <td>Русский Стандарт</td>\n",
       "      <td>2005-04-14 17:42:00</td>\n",
       "      <td>А я с мужем обставила техникой совершенно нову...</td>\n",
       "      <td>5.0</td>\n",
       "      <td>pos</td>\n",
       "    </tr>\n",
       "    <tr>\n",
       "      <th>29424</th>\n",
       "      <td>None</td>\n",
       "      <td>False</td>\n",
       "      <td>Не все так страшно</td>\n",
       "      <td>0</td>\n",
       "      <td>лицензия № 2557</td>\n",
       "      <td>Вера</td>\n",
       "      <td>Ситибанк</td>\n",
       "      <td>2005-05-18 14:38:00</td>\n",
       "      <td>Слишком большой банк, не всегда учитывает нашу...</td>\n",
       "      <td>5.0</td>\n",
       "      <td>pos</td>\n",
       "    </tr>\n",
       "    <tr>\n",
       "      <th>29425</th>\n",
       "      <td>None</td>\n",
       "      <td>False</td>\n",
       "      <td>Быстро и удобно</td>\n",
       "      <td>0</td>\n",
       "      <td>лицензия № 1326</td>\n",
       "      <td>Денис</td>\n",
       "      <td>Альфа-Банк</td>\n",
       "      <td>2005-04-13 17:43:00</td>\n",
       "      <td>Если коротко, то мне нравится. Кридит получать...</td>\n",
       "      <td>5.0</td>\n",
       "      <td>pos</td>\n",
       "    </tr>\n",
       "  </tbody>\n",
       "</table>\n",
       "</div>"
      ],
      "text/plain": [
       "       city rating_not_checked  \\\n",
       "29421  None              False   \n",
       "29422  None              False   \n",
       "29423  None              False   \n",
       "29424  None              False   \n",
       "29425  None              False   \n",
       "\n",
       "                                                   title  num_comments  \\\n",
       "29421                   Повысилось качество обслуживания             0   \n",
       "29422              Стабильный банк с высокими процентами             0   \n",
       "29423  Ну тогда копите денюжки и покупайте не в креди...             4   \n",
       "29424                                 Не все так страшно             0   \n",
       "29425                                    Быстро и удобно             0   \n",
       "\n",
       "          bank_license      author                       bank_name  \\\n",
       "29421  лицензия № 1623       Атмос                          ВТБ 24   \n",
       "29422  лицензия № 1971  Александра  Ханты-Мансийский банк Открытие   \n",
       "29423  лицензия № 2289       irzik                Русский Стандарт   \n",
       "29424  лицензия № 2557        Вера                        Ситибанк   \n",
       "29425  лицензия № 1326       Денис                      Альфа-Банк   \n",
       "\n",
       "                  datetime                                               text  \\\n",
       "29421  2005-04-13 12:00:00  Пользуюсь банком 3 месяца - специально открыл ...   \n",
       "29422  2005-04-14 13:41:00  А что писать? Ставки по вкладам высокие (до 13...   \n",
       "29423  2005-04-14 17:42:00  А я с мужем обставила техникой совершенно нову...   \n",
       "29424  2005-05-18 14:38:00  Слишком большой банк, не всегда учитывает нашу...   \n",
       "29425  2005-04-13 17:43:00  Если коротко, то мне нравится. Кридит получать...   \n",
       "\n",
       "       rating_grade type  \n",
       "29421           5.0  pos  \n",
       "29422           5.0  pos  \n",
       "29423           5.0  pos  \n",
       "29424           5.0  pos  \n",
       "29425           5.0  pos  "
      ]
     },
     "execution_count": 306,
     "metadata": {},
     "output_type": "execute_result"
    }
   ],
   "source": [
    "data_all.tail()"
   ]
  },
  {
   "cell_type": "code",
   "execution_count": 307,
   "metadata": {},
   "outputs": [],
   "source": [
    "x_train, x_test, y_train, y_test = train_test_split(data_all.text, data_all.type)"
   ]
  },
  {
   "cell_type": "markdown",
   "metadata": {},
   "source": [
    "#### 2. Используйте любой известный вам алгоритм классификации текстов для решения задачи и получите baseline. Сравните разные варианты векторизации текста: использование только униграм, пар или троек слов или с использованием символьных  𝑛 -грам"
   ]
  },
  {
   "cell_type": "markdown",
   "metadata": {},
   "source": [
    "**CountVectorizer**  \n",
    "**Униграмма**"
   ]
  },
  {
   "cell_type": "code",
   "execution_count": 308,
   "metadata": {},
   "outputs": [],
   "source": [
    "vec = CountVectorizer(ngram_range=(1, 1))\n",
    "bow = vec.fit_transform(x_train)"
   ]
  },
  {
   "cell_type": "code",
   "execution_count": 309,
   "metadata": {},
   "outputs": [
    {
     "data": {
      "text/plain": [
       "LogisticRegression(random_state=42, solver='liblinear')"
      ]
     },
     "execution_count": 309,
     "metadata": {},
     "output_type": "execute_result"
    }
   ],
   "source": [
    "clf = LogisticRegression(random_state=42, solver='liblinear')\n",
    "clf.fit(bow, y_train)"
   ]
  },
  {
   "cell_type": "code",
   "execution_count": 310,
   "metadata": {},
   "outputs": [
    {
     "name": "stdout",
     "output_type": "stream",
     "text": [
      "              precision    recall  f1-score   support\n",
      "\n",
      "         neg       0.95      0.95      0.95      3659\n",
      "         pos       0.95      0.95      0.95      3698\n",
      "\n",
      "    accuracy                           0.95      7357\n",
      "   macro avg       0.95      0.95      0.95      7357\n",
      "weighted avg       0.95      0.95      0.95      7357\n",
      "\n"
     ]
    }
   ],
   "source": [
    "pred = clf.predict(vec.transform(x_test))\n",
    "print(classification_report(pred, y_test))"
   ]
  },
  {
   "cell_type": "markdown",
   "metadata": {},
   "source": [
    "**Биграмма**"
   ]
  },
  {
   "cell_type": "code",
   "execution_count": 311,
   "metadata": {},
   "outputs": [],
   "source": [
    "vec = CountVectorizer(ngram_range=(2, 2))\n",
    "bow = vec.fit_transform(x_train)"
   ]
  },
  {
   "cell_type": "code",
   "execution_count": 312,
   "metadata": {},
   "outputs": [
    {
     "data": {
      "text/plain": [
       "LogisticRegression(random_state=42, solver='liblinear')"
      ]
     },
     "execution_count": 312,
     "metadata": {},
     "output_type": "execute_result"
    }
   ],
   "source": [
    "clf = LogisticRegression(random_state=42, solver='liblinear')\n",
    "clf.fit(bow, y_train)"
   ]
  },
  {
   "cell_type": "code",
   "execution_count": 313,
   "metadata": {},
   "outputs": [
    {
     "name": "stdout",
     "output_type": "stream",
     "text": [
      "              precision    recall  f1-score   support\n",
      "\n",
      "         neg       0.94      0.94      0.94      3657\n",
      "         pos       0.94      0.94      0.94      3700\n",
      "\n",
      "    accuracy                           0.94      7357\n",
      "   macro avg       0.94      0.94      0.94      7357\n",
      "weighted avg       0.94      0.94      0.94      7357\n",
      "\n"
     ]
    }
   ],
   "source": [
    "pred = clf.predict(vec.transform(x_test))\n",
    "print(classification_report(pred, y_test))"
   ]
  },
  {
   "cell_type": "markdown",
   "metadata": {},
   "source": [
    "При использовании биграмм результат ухудшился приблизительно на 0,01."
   ]
  },
  {
   "cell_type": "markdown",
   "metadata": {},
   "source": [
    "**Триграмма**"
   ]
  },
  {
   "cell_type": "code",
   "execution_count": 314,
   "metadata": {},
   "outputs": [],
   "source": [
    "vec = CountVectorizer(ngram_range=(2, 2))\n",
    "bow = vec.fit_transform(x_train)"
   ]
  },
  {
   "cell_type": "code",
   "execution_count": 315,
   "metadata": {},
   "outputs": [
    {
     "data": {
      "text/plain": [
       "LogisticRegression(random_state=42, solver='liblinear')"
      ]
     },
     "execution_count": 315,
     "metadata": {},
     "output_type": "execute_result"
    }
   ],
   "source": [
    "clf = LogisticRegression(random_state=42, solver='liblinear')\n",
    "clf.fit(bow, y_train)"
   ]
  },
  {
   "cell_type": "code",
   "execution_count": 316,
   "metadata": {},
   "outputs": [
    {
     "name": "stdout",
     "output_type": "stream",
     "text": [
      "              precision    recall  f1-score   support\n",
      "\n",
      "         neg       0.94      0.94      0.94      3657\n",
      "         pos       0.94      0.94      0.94      3700\n",
      "\n",
      "    accuracy                           0.94      7357\n",
      "   macro avg       0.94      0.94      0.94      7357\n",
      "weighted avg       0.94      0.94      0.94      7357\n",
      "\n"
     ]
    }
   ],
   "source": [
    "pred = clf.predict(vec.transform(x_test))\n",
    "print(classification_report(pred, y_test))"
   ]
  },
  {
   "cell_type": "markdown",
   "metadata": {},
   "source": [
    "При использовании триграмм результат не изменился.\n",
    "Таким образом, получены следующие значения precision и f1-score:\n",
    "    * униграмма: 0,95;\n",
    "    * биграмма:  0,94;\n",
    "    * триграмма: 0,94."
   ]
  },
  {
   "cell_type": "markdown",
   "metadata": {},
   "source": [
    "**TfidfVectorizer**  \n",
    "**Униграмма**"
   ]
  },
  {
   "cell_type": "code",
   "execution_count": 317,
   "metadata": {},
   "outputs": [],
   "source": [
    "vec = TfidfVectorizer(ngram_range=(1, 1))\n",
    "bow = vec.fit_transform(x_train)"
   ]
  },
  {
   "cell_type": "code",
   "execution_count": 318,
   "metadata": {},
   "outputs": [
    {
     "data": {
      "text/plain": [
       "LogisticRegression(random_state=42, solver='liblinear')"
      ]
     },
     "execution_count": 318,
     "metadata": {},
     "output_type": "execute_result"
    }
   ],
   "source": [
    "clf = LogisticRegression(random_state=42, solver='liblinear')\n",
    "clf.fit(bow, y_train)"
   ]
  },
  {
   "cell_type": "code",
   "execution_count": 319,
   "metadata": {},
   "outputs": [
    {
     "name": "stdout",
     "output_type": "stream",
     "text": [
      "              precision    recall  f1-score   support\n",
      "\n",
      "         neg       0.96      0.95      0.95      3711\n",
      "         pos       0.95      0.96      0.95      3646\n",
      "\n",
      "    accuracy                           0.95      7357\n",
      "   macro avg       0.95      0.95      0.95      7357\n",
      "weighted avg       0.95      0.95      0.95      7357\n",
      "\n"
     ]
    }
   ],
   "source": [
    "pred = clf.predict(vec.transform(x_test))\n",
    "print(classification_report(pred, y_test))"
   ]
  },
  {
   "cell_type": "markdown",
   "metadata": {},
   "source": [
    "При использовании TF-IDF для униграмм значение точности при предсказании отрицательных отзывов незначительно увеличилось (до 0,96)."
   ]
  },
  {
   "cell_type": "markdown",
   "metadata": {},
   "source": [
    "**Биграмма**"
   ]
  },
  {
   "cell_type": "code",
   "execution_count": 320,
   "metadata": {},
   "outputs": [],
   "source": [
    "vec = TfidfVectorizer(ngram_range=(2, 2))\n",
    "bow = vec.fit_transform(x_train)"
   ]
  },
  {
   "cell_type": "code",
   "execution_count": 321,
   "metadata": {},
   "outputs": [
    {
     "data": {
      "text/plain": [
       "LogisticRegression(random_state=42, solver='liblinear')"
      ]
     },
     "execution_count": 321,
     "metadata": {},
     "output_type": "execute_result"
    }
   ],
   "source": [
    "clf = LogisticRegression(random_state=42, solver='liblinear')\n",
    "clf.fit(bow, y_train)"
   ]
  },
  {
   "cell_type": "code",
   "execution_count": 322,
   "metadata": {},
   "outputs": [
    {
     "name": "stdout",
     "output_type": "stream",
     "text": [
      "              precision    recall  f1-score   support\n",
      "\n",
      "         neg       0.95      0.92      0.93      3759\n",
      "         pos       0.92      0.95      0.93      3598\n",
      "\n",
      "    accuracy                           0.93      7357\n",
      "   macro avg       0.93      0.93      0.93      7357\n",
      "weighted avg       0.93      0.93      0.93      7357\n",
      "\n"
     ]
    }
   ],
   "source": [
    "pred = clf.predict(vec.transform(x_test))\n",
    "print(classification_report(pred, y_test))"
   ]
  },
  {
   "cell_type": "code",
   "execution_count": null,
   "metadata": {},
   "outputs": [],
   "source": [
    "Использование TF-IDF для биграмм приводит к снижени точности предсказания положительных отзывов до 0,92."
   ]
  },
  {
   "cell_type": "markdown",
   "metadata": {},
   "source": [
    "**Триграммы**"
   ]
  },
  {
   "cell_type": "code",
   "execution_count": 323,
   "metadata": {},
   "outputs": [],
   "source": [
    "vec = TfidfVectorizer(ngram_range=(3, 3))\n",
    "bow = vec.fit_transform(x_train)"
   ]
  },
  {
   "cell_type": "code",
   "execution_count": 324,
   "metadata": {},
   "outputs": [
    {
     "data": {
      "text/plain": [
       "LogisticRegression(random_state=42, solver='liblinear')"
      ]
     },
     "execution_count": 324,
     "metadata": {},
     "output_type": "execute_result"
    }
   ],
   "source": [
    "clf = LogisticRegression(random_state=42, solver='liblinear')\n",
    "clf.fit(bow, y_train)"
   ]
  },
  {
   "cell_type": "code",
   "execution_count": 325,
   "metadata": {},
   "outputs": [
    {
     "name": "stdout",
     "output_type": "stream",
     "text": [
      "              precision    recall  f1-score   support\n",
      "\n",
      "         neg       0.91      0.87      0.89      3825\n",
      "         pos       0.87      0.91      0.89      3532\n",
      "\n",
      "    accuracy                           0.89      7357\n",
      "   macro avg       0.89      0.89      0.89      7357\n",
      "weighted avg       0.89      0.89      0.89      7357\n",
      "\n"
     ]
    }
   ],
   "source": [
    "pred = clf.predict(vec.transform(x_test))\n",
    "print(classification_report(pred, y_test))"
   ]
  },
  {
   "cell_type": "markdown",
   "metadata": {},
   "source": [
    "Использование TF-IDF для триграмм ведет к дальнейшему снижению точности предсказания.\n",
    "Таким образом, получены следующие значения f1-score:\n",
    "* униграммы: 0,95;\n",
    "* биграммы:  0,93;\n",
    "* триграммы: 0,89."
   ]
  },
  {
   "cell_type": "markdown",
   "metadata": {},
   "source": [
    "3. Сравните, как изменяется качество решения задачи при использовании скрытых тем в качестве признаков:"
   ]
  },
  {
   "cell_type": "code",
   "execution_count": 400,
   "metadata": {},
   "outputs": [
    {
     "data": {
      "text/plain": [
       "Pipeline(steps=[('vect', CountVectorizer()),\n",
       "                ('tm', TruncatedSVD(n_components=1000)),\n",
       "                ('clf',\n",
       "                 LogisticRegression(random_state=42, solver='liblinear'))])"
      ]
     },
     "execution_count": 400,
     "metadata": {},
     "output_type": "execute_result"
    }
   ],
   "source": [
    "clf_svd = Pipeline([\n",
    "    ('vect', CountVectorizer(ngram_range=(1, 1))),\n",
    "    ('tm', TruncatedSVD(n_components = 1000)), \n",
    "    ('clf', LogisticRegression(random_state=42, solver='liblinear')),\n",
    "])\n",
    "clf_svd.fit(x_train, y_train)"
   ]
  },
  {
   "cell_type": "code",
   "execution_count": 401,
   "metadata": {},
   "outputs": [
    {
     "name": "stdout",
     "output_type": "stream",
     "text": [
      "              precision    recall  f1-score   support\n",
      "\n",
      "         neg       0.94      0.94      0.94      3644\n",
      "         pos       0.94      0.94      0.94      3713\n",
      "\n",
      "    accuracy                           0.94      7357\n",
      "   macro avg       0.94      0.94      0.94      7357\n",
      "weighted avg       0.94      0.94      0.94      7357\n",
      "\n"
     ]
    }
   ],
   "source": [
    "pred = clf_svd.predict(x_test)\n",
    "print(classification_report(pred, y_test))"
   ]
  },
  {
   "cell_type": "markdown",
   "metadata": {},
   "source": [
    "При количестве компонент, равном 1000, удается достичь значения f1-score, равного 0,94, что несколько ниже аналогичного значения для простого CountVectorizer для униграмм (0,95)."
   ]
  },
  {
   "cell_type": "code",
   "execution_count": 407,
   "metadata": {},
   "outputs": [
    {
     "name": "stdout",
     "output_type": "stream",
     "text": [
      "iteration: 1 of max_iter: 4\n",
      "iteration: 2 of max_iter: 4\n",
      "iteration: 3 of max_iter: 4\n",
      "iteration: 4 of max_iter: 4\n"
     ]
    },
    {
     "data": {
      "text/plain": [
       "Pipeline(steps=[('vect', CountVectorizer()),\n",
       "                ('tm',\n",
       "                 LatentDirichletAllocation(max_iter=4, n_components=60,\n",
       "                                           n_jobs=4, verbose=1)),\n",
       "                ('clf',\n",
       "                 LogisticRegression(random_state=42, solver='liblinear'))])"
      ]
     },
     "execution_count": 407,
     "metadata": {},
     "output_type": "execute_result"
    }
   ],
   "source": [
    "clf_lda = Pipeline([\n",
    "    ('vect', CountVectorizer(ngram_range=(1, 1))),\n",
    "    ('tm', LDA(n_components=60, max_iter = 4,\n",
    "              n_jobs=4, learning_method='batch',\n",
    "              verbose=1)), \n",
    "    ('clf', LogisticRegression(random_state=42, solver='liblinear')),\n",
    "])\n",
    "clf_lda.fit(x_train, y_train)"
   ]
  },
  {
   "cell_type": "code",
   "execution_count": 408,
   "metadata": {},
   "outputs": [
    {
     "name": "stdout",
     "output_type": "stream",
     "text": [
      "              precision    recall  f1-score   support\n",
      "\n",
      "         neg       0.91      0.85      0.88      3900\n",
      "         pos       0.85      0.91      0.88      3457\n",
      "\n",
      "    accuracy                           0.88      7357\n",
      "   macro avg       0.88      0.88      0.88      7357\n",
      "weighted avg       0.88      0.88      0.88      7357\n",
      "\n"
     ]
    }
   ],
   "source": [
    "pred = clf_lda.predict(x_test)\n",
    "print(classification_report(pred, y_test))"
   ]
  },
  {
   "cell_type": "markdown",
   "metadata": {},
   "source": [
    "При количестве компонент, равном 60, удается достичь значения f1-score, равного 0,88, что несколько ниже аналогичного значения для простого CountVectorizer для униграмм (0,95)."
   ]
  }
 ],
 "metadata": {
  "kernelspec": {
   "display_name": "Python 3",
   "language": "python",
   "name": "python3"
  },
  "language_info": {
   "codemirror_mode": {
    "name": "ipython",
    "version": 3
   },
   "file_extension": ".py",
   "mimetype": "text/x-python",
   "name": "python",
   "nbconvert_exporter": "python",
   "pygments_lexer": "ipython3",
   "version": "3.7.6"
  }
 },
 "nbformat": 4,
 "nbformat_minor": 2
}
