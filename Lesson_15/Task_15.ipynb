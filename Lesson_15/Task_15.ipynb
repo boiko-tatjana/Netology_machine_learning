{
 "cells": [
  {
   "cell_type": "code",
   "execution_count": 1,
   "metadata": {},
   "outputs": [],
   "source": [
    "import numpy as np\n",
    "import pandas as pd\n",
    "import re\n",
    "import matplotlib.pyplot as plt\n",
    "import seaborn as sns\n",
    "from tqdm import tqdm\n",
    "from hmmlearn.hmm import GaussianHMM"
   ]
  },
  {
   "cell_type": "markdown",
   "metadata": {},
   "source": [
    "Скачайте текст войны и мир. Очистите его, оставив только русские буквы и символы пробела."
   ]
  },
  {
   "cell_type": "code",
   "execution_count": 2,
   "metadata": {},
   "outputs": [],
   "source": [
    "def read_tom(file_name):\n",
    "    with open(file_name, 'r', encoding='utf-8') as f:\n",
    "        tom = f.read().lower()\n",
    "    tom = re.sub('[^а-я\\s\\-]','', tom)\n",
    "    tom = re.sub('\\n+',' ', tom)\n",
    "    tom = re.sub('\\-',' ', tom)\n",
    "    tom = re.sub('\\s+',' ', tom)\n",
    "    return tom"
   ]
  },
  {
   "cell_type": "code",
   "execution_count": 3,
   "metadata": {},
   "outputs": [],
   "source": [
    "tom_1 = read_tom('tom_1.txt')\n",
    "tom_2 = read_tom('tom_2.txt')\n",
    "tom_3 = read_tom('tom_3.txt')\n",
    "tom_4 = read_tom('tom_4.txt')"
   ]
  },
  {
   "cell_type": "code",
   "execution_count": 4,
   "metadata": {},
   "outputs": [],
   "source": [
    "text = tom_1 + ' ' + tom_2 + ' ' + tom_3 + ' ' + tom_4"
   ]
  },
  {
   "cell_type": "markdown",
   "metadata": {},
   "source": [
    "Постройте матрицу переходных вероятностей."
   ]
  },
  {
   "cell_type": "code",
   "execution_count": 5,
   "metadata": {},
   "outputs": [],
   "source": [
    "RUSSIAN = 'абвгдежзийклмнопрстуфхцчшщъыьэюя '\n",
    "RUSSIAN_LET = 'абвгдежзийклмнопрстуфхцчшщъыьэюя'\n",
    "POS = {l: i for i, l in enumerate(RUSSIAN)}"
   ]
  },
  {
   "cell_type": "code",
   "execution_count": 6,
   "metadata": {},
   "outputs": [],
   "source": [
    "probabilities = np.zeros((len(RUSSIAN), len(RUSSIAN)))"
   ]
  },
  {
   "cell_type": "code",
   "execution_count": 7,
   "metadata": {},
   "outputs": [],
   "source": [
    "for cp, cn in zip(text[:-1], text[1:]):\n",
    "    probabilities[POS[cp], POS[cn]] += 1"
   ]
  },
  {
   "cell_type": "code",
   "execution_count": 8,
   "metadata": {},
   "outputs": [],
   "source": [
    "probabilities = (probabilities / probabilities.sum(axis=1)[:, None])"
   ]
  },
  {
   "cell_type": "code",
   "execution_count": 9,
   "metadata": {},
   "outputs": [],
   "source": [
    "df = pd.DataFrame(probabilities, index=(c for c in RUSSIAN), columns=(c for c in RUSSIAN))"
   ]
  },
  {
   "cell_type": "code",
   "execution_count": 10,
   "metadata": {},
   "outputs": [
    {
     "data": {
      "image/png": "[encoded data removed]",
      "text/plain": [
       "<Figure size 1008x576 with 2 Axes>"
      ]
     },
     "metadata": {
      "needs_background": "light"
     },
     "output_type": "display_data"
    }
   ],
   "source": [
    "plt.figure(figsize=(14,8))\n",
    "sns.heatmap(df)\n",
    "plt.show()"
   ]
  },
  {
   "cell_type": "markdown",
   "metadata": {},
   "source": [
    "Посчитайте вероятность встретить строку из 4-х символов, которая начинается п, а кончается на р."
   ]
  },
  {
   "cell_type": "code",
   "execution_count": 11,
   "metadata": {},
   "outputs": [
    {
     "name": "stdout",
     "output_type": "stream",
     "text": [
      "0.0002742039463566324\n",
      "потр\n"
     ]
    }
   ],
   "source": [
    "letter_1 = 'п'\n",
    "letter_4 = 'р'\n",
    "prior = 1. / (len(RUSSIAN)-1)\n",
    "sum_proba = 0\n",
    "max_proba = 0\n",
    "max_word = ''\n",
    "\n",
    "for letter_2 in 'о':\n",
    "    for letter_3 in RUSSIAN:\n",
    "        if (letter_2 != ' ') & (letter_3 != ' '):\n",
    "            proba = prior * probabilities[POS[letter_1], POS[letter_2]] * \\\n",
    "            probabilities[POS[letter_2], POS[letter_3]] * probabilities[POS[letter_3], POS[letter_4]]\n",
    "            if proba > max_proba:\n",
    "                max_proba = proba\n",
    "                max_word = ''.join([letter_1, letter_2, letter_3, letter_4])\n",
    "        else:\n",
    "            proba = 0\n",
    "        sum_proba += proba\n",
    "print(sum_proba)\n",
    "print(max_word)"
   ]
  },
  {
   "cell_type": "markdown",
   "metadata": {},
   "source": [
    "Используя матрицу переходных вероятностей сгенерируйте слово, начинающееся с буквы “Б” и имеющее длину 8-мь символов."
   ]
  },
  {
   "cell_type": "code",
   "execution_count": 21,
   "metadata": {},
   "outputs": [
    {
     "name": "stderr",
     "output_type": "stream",
     "text": [
      "100%|██████████████████████████████████████████████████████████████████████████████████| 32/32 [01:56<00:00,  3.63s/it]"
     ]
    },
    {
     "name": "stdout",
     "output_type": "stream",
     "text": [
      "бастоэто\n"
     ]
    },
    {
     "name": "stderr",
     "output_type": "stream",
     "text": [
      "\n"
     ]
    }
   ],
   "source": [
    "# 32^7 итераций занимают очень много времени, поэтому будем считать, что за буквой 'б' идёт буква 'о',\n",
    "# а за буквой 'о' идёт одна из букв 'л', 'н' или 'р'\n",
    "\n",
    "letter_1 = 'б'\n",
    "letter_9 = ' '\n",
    "max_proba = 0\n",
    "max_word = ''\n",
    "prior = 1. / (len(RUSSIAN)-1)\n",
    "\n",
    "for letter_2 in 'а':\n",
    "    for letter_3 in 'с':\n",
    "        for letter_4 in tqdm(RUSSIAN_LET):\n",
    "            for letter_5 in RUSSIAN_LET:\n",
    "                for letter_6 in RUSSIAN_LET:\n",
    "                    for letter_7 in RUSSIAN_LET:\n",
    "                        for letter_8 in RUSSIAN_LET:\n",
    "                            proba = prior * \\\n",
    "                            probabilities[POS[letter_1], POS[letter_2]] * \\\n",
    "                            probabilities[POS[letter_2], POS[letter_3]] * \\\n",
    "                            probabilities[POS[letter_3], POS[letter_4]] * \\\n",
    "                            probabilities[POS[letter_4], POS[letter_5]] * \\\n",
    "                            probabilities[POS[letter_6], POS[letter_7]] * \\\n",
    "                            probabilities[POS[letter_7], POS[letter_8]] * \\\n",
    "                            probabilities[POS[letter_8], POS[letter_9]] \n",
    "                            if proba > max_proba:\n",
    "                                max_proba = proba\n",
    "                                max_word = ''.join([letter_1, letter_2, letter_3, letter_4, letter_5,\n",
    "                                                    letter_6, letter_7, letter_8])\n",
    "print(max_word)"
   ]
  },
  {
   "cell_type": "markdown",
   "metadata": {},
   "source": [
    "Выберите ряд из предыдущих домашних заданий по временным рядам и оцените его через HMM. Попробуйте “построить” (через среднее каждой компоненты) наивный прогноз ряда."
   ]
  },
  {
   "cell_type": "code",
   "execution_count": 13,
   "metadata": {},
   "outputs": [],
   "source": [
    "series = pd.read_csv(\"monthly-boston-armed-robberies-j.csv\")[\"Count\"]"
   ]
  },
  {
   "cell_type": "code",
   "execution_count": 14,
   "metadata": {},
   "outputs": [],
   "source": [
    "values = series.values.reshape(-1,1)"
   ]
  },
  {
   "cell_type": "code",
   "execution_count": 18,
   "metadata": {},
   "outputs": [
    {
     "name": "stdout",
     "output_type": "stream",
     "text": [
      "1 -739.512376545524\n",
      "2 -652.7824661820224\n",
      "3 -629.4670322744707\n",
      "4 -593.9630465273634\n",
      "5 -577.8455484968264\n",
      "6 -571.3182247583842\n"
     ]
    },
    {
     "name": "stderr",
     "output_type": "stream",
     "text": [
      "Fitting a model with 119 free scalar parameters with only 118 data points will result in a degenerate solution.\n"
     ]
    },
    {
     "name": "stdout",
     "output_type": "stream",
     "text": [
      "7 -561.1297217988865\n",
      "8 -557.252133848463\n",
      "9 -554.9655051223991\n"
     ]
    },
    {
     "name": "stderr",
     "output_type": "stream",
     "text": [
      "Fitting a model with 142 free scalar parameters with only 118 data points will result in a degenerate solution.\n"
     ]
    },
    {
     "name": "stdout",
     "output_type": "stream",
     "text": [
      "10 -552.0294680212634\n",
      "11 -546.7857886317822\n"
     ]
    }
   ],
   "source": [
    "for n in range(1, 12):\n",
    "    model = GaussianHMM(n_components=n,\n",
    "                        covariance_type=\"diag\",\n",
    "                        n_iter=1000)\n",
    "    model.fit(values)\n",
    "    print (n, model.score(values))"
   ]
  },
  {
   "cell_type": "code",
   "execution_count": 19,
   "metadata": {},
   "outputs": [
    {
     "data": {
      "text/plain": [
       "[<matplotlib.lines.Line2D at 0x17a448de0c8>]"
      ]
     },
     "execution_count": 19,
     "metadata": {},
     "output_type": "execute_result"
    },
    {
     "data": {
      "image/png": "[encoded data removed]",
      "text/plain": [
       "<Figure size 864x432 with 1 Axes>"
      ]
     },
     "metadata": {
      "needs_background": "light"
     },
     "output_type": "display_data"
    }
   ],
   "source": [
    "labels = model.predict(values)\n",
    "means = np.zeros_like(values)\n",
    "for i in range(model.n_components):\n",
    "    means[labels == i] = model.means_[i]\n",
    "    \n",
    "plt.figure(figsize=(12, 6))\n",
    "plt.plot(values)\n",
    "plt.plot(means, linewidth=3)"
   ]
  }
 ],
 "metadata": {
  "kernelspec": {
   "display_name": "Python 3",
   "language": "python",
   "name": "python3"
  },
  "language_info": {
   "codemirror_mode": {
    "name": "ipython",
    "version": 3
   },
   "file_extension": ".py",
   "mimetype": "text/x-python",
   "name": "python",
   "nbconvert_exporter": "python",
   "pygments_lexer": "ipython3",
   "version": "3.7.6"
  }
 },
 "nbformat": 4,
 "nbformat_minor": 4
}
